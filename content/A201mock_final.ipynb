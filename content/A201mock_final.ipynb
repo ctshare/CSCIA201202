{
 "cells": [
  {
   "cell_type": "markdown",
   "id": "27bbf446",
   "metadata": {},
   "source": [
    "# CSCI-A201/597 Introduction to Programming I: \n",
    "# Mock Final Exam: Programming Part"
   ]
  },
  {
   "cell_type": "markdown",
   "id": "2b73f76c",
   "metadata": {},
   "source": [
    "* Answer each questions as instructed. \n",
    "\n",
    "* When you finish the exam:\n",
    "    * Step 1: Submit the print-out to intructor/TA.\n",
    "    * Step 2: Save the file.\n",
    "    * Step 3: Download the file `.ipynb`:\n",
    "    * Step 4: Submission to Autograder"
   ]
  },
  {
   "cell_type": "markdown",
   "id": "06a360b7",
   "metadata": {},
   "source": [
    "## p1.(1) [1 pts]"
   ]
  },
  {
   "cell_type": "markdown",
   "id": "b57c9a8b",
   "metadata": {},
   "source": [
    "Create a Python dictionary named `p1_1` where the keys are numbers\n",
    "from 1 to 15 (inclusive on both sides), and the corresponding values are the concatenation of\n",
    "the numbers to itself.\n",
    "\n",
    "for example:\n",
    "`{1:11, 2:22, ... 14:1414, 15:1515}`"
   ]
  },
  {
   "cell_type": "code",
   "execution_count": null,
   "id": "9419de41",
   "metadata": {},
   "outputs": [],
   "source": [
    "p1_1 = None"
   ]
  },
  {
   "cell_type": "code",
   "execution_count": null,
   "id": "49c4739f",
   "metadata": {},
   "outputs": [],
   "source": [
    "# check the answer\n",
    "print(p1_1) # expected to get {1:11, 2:22, ... 14:1414, 15:1515}"
   ]
  },
  {
   "cell_type": "markdown",
   "id": "324b8eb1",
   "metadata": {},
   "source": [
    "## p1.(2)  [1 pts]"
   ]
  },
  {
   "cell_type": "markdown",
   "id": "f75a1650",
   "metadata": {},
   "source": [
    "* Given a list of strings like this:\n",
    "`[\"monday--1\",\"Tuesday--2\", ...]`\n",
    "\n",
    "Write a function `p1_2` that take such a list as input and return a dictionary with a key\n",
    "for word(str), and its value for an integer after `--`."
   ]
  },
  {
   "cell_type": "code",
   "execution_count": null,
   "id": "6b2ef170",
   "metadata": {},
   "outputs": [],
   "source": [
    "def p1_2(a):\n",
    "    pass"
   ]
  },
  {
   "cell_type": "code",
   "execution_count": null,
   "id": "7db6b1cc",
   "metadata": {},
   "outputs": [],
   "source": [
    "days = [\"monday--1\", \"Tuesday--2\", \"Wednesday--3\", \"Thursday--4\", \"Friday--5\"]\n",
    "p1_2(days)  # expected: {'monday': 1, 'Tuesday': 2, 'Wednesday': 3, 'Thursday': 4, 'Friday': 5}"
   ]
  },
  {
   "cell_type": "code",
   "execution_count": null,
   "id": "5bba5615",
   "metadata": {},
   "outputs": [],
   "source": [
    "fruits = [\"Apple--10\", \"Banana--20\", \"Cherry--30\"]      \n",
    "p1_2(fruits) # expected: {'Apple': 10, 'Banana': 20, 'Cherry': 30}"
   ]
  },
  {
   "cell_type": "code",
   "execution_count": null,
   "id": "0e752928",
   "metadata": {},
   "outputs": [],
   "source": [
    "empty_list = []\n",
    "p1_2(empty_list)    # expected: {}"
   ]
  },
  {
   "cell_type": "code",
   "execution_count": null,
   "id": "01f4ea6e",
   "metadata": {},
   "outputs": [],
   "source": [
    "imperfect_data = [\"UPPER -- 1\", \"lower-- 2\", \"Mixed--3 \"] # pay attention to the extra empty spaces\n",
    "p1_2(imperfect_data) # expected: {'UPPER': 1, 'lower': 2, 'Mixed': 3}"
   ]
  },
  {
   "cell_type": "markdown",
   "id": "d80bee7e",
   "metadata": {},
   "source": [
    "## p1.(3).  [1 pts]"
   ]
  },
  {
   "cell_type": "markdown",
   "id": "8221ce77",
   "metadata": {},
   "source": [
    "* Write a function `p1_3` that takes in two sets, and makes a new set that contains the elements in just one of the sets. If `”monster”` is just one of the elements, remove that from the new set. Return the new set."
   ]
  },
  {
   "cell_type": "code",
   "execution_count": null,
   "id": "4b25be22",
   "metadata": {},
   "outputs": [],
   "source": [
    "def p1_3(a, b):\n",
    "    pass"
   ]
  },
  {
   "cell_type": "code",
   "execution_count": null,
   "id": "98317795",
   "metadata": {},
   "outputs": [],
   "source": [
    "set1 = {1, 2, 3}\n",
    "set2 = {2, 3}\n",
    "\n",
    "p1_3(set1, set2) # expected: {1}"
   ]
  },
  {
   "cell_type": "code",
   "execution_count": null,
   "id": "752fcf86",
   "metadata": {},
   "outputs": [],
   "source": [
    "set1 = {\"apple\", \"monster\", \"banana\"}\n",
    "set2 = {\"apple\", \"orange\"}\n",
    "\n",
    "p1_3(set1, set2) # expected: {'banana', 'orange'}"
   ]
  },
  {
   "cell_type": "code",
   "execution_count": null,
   "id": "7539677f",
   "metadata": {},
   "outputs": [],
   "source": [
    "set1 = {\"cat\", \"dog\"}\n",
    "set2 = {\"cat\", \"monster\", \"bird\"}\n",
    "\n",
    "p1_3(set1, set2) # expected: {'bird', 'dog'}"
   ]
  },
  {
   "cell_type": "code",
   "execution_count": null,
   "id": "5e9f9674",
   "metadata": {},
   "outputs": [],
   "source": [
    "set1 = {\"a\", \"monster\", \"b\"}\n",
    "set2 = {\"a\", \"monster\", \"c\"}\n",
    "\n",
    "p1_3(set1, set2) # expected: {'b', 'c'}"
   ]
  },
  {
   "cell_type": "markdown",
   "id": "f85fd1d6",
   "metadata": {},
   "source": [
    "## p1.(4)  [1 pts]"
   ]
  },
  {
   "cell_type": "markdown",
   "id": "d7def878",
   "metadata": {},
   "source": [
    "* Write a function `p1_4` that takes a variable number of parameters and returns:\n",
    "\n",
    "* The count of arguments received\n",
    "* The summation of the numbers (int and floats)"
   ]
  },
  {
   "cell_type": "code",
   "execution_count": null,
   "id": "2a70edd5",
   "metadata": {},
   "outputs": [],
   "source": [
    "# modify the code below\n",
    "def p1_4():\n",
    "    pass"
   ]
  },
  {
   "cell_type": "code",
   "execution_count": null,
   "id": "47167fdb",
   "metadata": {},
   "outputs": [],
   "source": [
    "p1_4(\"abc\") # expected to get 0"
   ]
  },
  {
   "cell_type": "code",
   "execution_count": null,
   "id": "0a461c77",
   "metadata": {},
   "outputs": [],
   "source": [
    "p1_4(\"One\", 1, 0.24) # expected to get 1.24"
   ]
  },
  {
   "cell_type": "code",
   "execution_count": null,
   "id": "81a79eb7",
   "metadata": {},
   "outputs": [],
   "source": [
    "p1_4(1, 2, 3, 2, 4) # expected to get 12"
   ]
  },
  {
   "cell_type": "code",
   "execution_count": null,
   "id": "23673724",
   "metadata": {},
   "outputs": [],
   "source": [
    "p1_4(\"hello\", [1, 2], {\"a\": 1}) # expected to get 0"
   ]
  },
  {
   "cell_type": "code",
   "execution_count": null,
   "id": "0517cf96",
   "metadata": {},
   "outputs": [],
   "source": [
    "p1_4(10, None, 20, None, 3.14) # expected to get 33.14"
   ]
  },
  {
   "cell_type": "markdown",
   "id": "2eabd686",
   "metadata": {},
   "source": [
    "## p2.(1)  [1 pts]"
   ]
  },
  {
   "cell_type": "markdown",
   "id": "49da0cfb",
   "metadata": {},
   "source": [
    "Finish the function `crypt`:\n",
    "\n",
    "* Given a dict which maps every key char like `'a'` to a different value char like `'z'` and a string `s`.\n",
    "    * check if the inputs are the the valid type. Raise `ValueError` is any of the input type is not correct\n",
    "* Return a new string where every char in `s` that is in mapping has been replaced by its mapped value. \n",
    "\n",
    "* Treat upper/lower case as different. \n",
    "\n",
    "So for example the mapping `{'a': 'z', 'b': 'x'}` with `'abc'`, return `'zbx'`."
   ]
  },
  {
   "cell_type": "code",
   "execution_count": null,
   "id": "36dbaffe",
   "metadata": {},
   "outputs": [],
   "source": [
    "def crypt(mapping, s):\n",
    "    pass"
   ]
  },
  {
   "cell_type": "code",
   "execution_count": null,
   "id": "e65f8981",
   "metadata": {},
   "outputs": [],
   "source": [
    "crypt( {'a': 'z', 'b': 'x'}, \"abc\") # expected: 'zxc'"
   ]
  },
  {
   "cell_type": "code",
   "execution_count": null,
   "id": "7d66ef97",
   "metadata": {},
   "outputs": [],
   "source": [
    "crypt({}, '') # expected to print nothing---an empty string"
   ]
  },
  {
   "cell_type": "code",
   "execution_count": null,
   "id": "4d73223d",
   "metadata": {},
   "outputs": [],
   "source": [
    "crypt({'a': 'b', 'b': 'a'}, 'abba') # expected: \"baab\""
   ]
  },
  {
   "cell_type": "code",
   "execution_count": null,
   "id": "4133b4c7",
   "metadata": {},
   "outputs": [],
   "source": [
    "mapping_a = {'h': 'H', 'e': '3', 'l': '1', 'o': '0'}\n",
    "crypt(mapping_a, 'hello world!') # expected 'H3110 w0r1d!'"
   ]
  },
  {
   "cell_type": "code",
   "execution_count": null,
   "id": "731fea32",
   "metadata": {},
   "outputs": [],
   "source": [
    "mapping_wrong = {'1', '2', '3'}\n",
    "crypt(mapping_wrong, 'hello world!') # ValueError"
   ]
  },
  {
   "cell_type": "code",
   "execution_count": null,
   "id": "b52d59a5",
   "metadata": {},
   "outputs": [],
   "source": [
    "mapping_a = {'h': 'H', 'e': '3', 'l': '1', 'o': '0'}\n",
    "crypt(mapping_a, 12345) # ValueError"
   ]
  },
  {
   "cell_type": "markdown",
   "id": "904cde95",
   "metadata": {},
   "source": [
    "## P2.(2)  [1pts]"
   ]
  },
  {
   "cell_type": "markdown",
   "id": "45d018ba",
   "metadata": {},
   "source": [
    "* Given a dict from the previous problem. Compute and return a **reverse mapping**, so if the original mapping maps `'a'` to `'z'`, the reverse mapping maps 'z' to 'a'. Assume the values in the mapping dict are all unique. \n",
    "\n",
    "* raise a `ValueError` is the input is not a dictionary"
   ]
  },
  {
   "cell_type": "code",
   "execution_count": null,
   "id": "a70b147c",
   "metadata": {},
   "outputs": [],
   "source": [
    "def reverse_mapping(mapping):\n",
    "    pass"
   ]
  },
  {
   "cell_type": "code",
   "execution_count": null,
   "id": "267c0a99",
   "metadata": {},
   "outputs": [],
   "source": [
    "reverse_mapping({'a': 'z', 'b': 'x'}) # expected:{'z': 'a', 'x': 'b'}"
   ]
  },
  {
   "cell_type": "code",
   "execution_count": null,
   "id": "260a376c",
   "metadata": {},
   "outputs": [],
   "source": [
    "reverse_mapping({'h': 'H', 'e': '3', 'l': '1', 'o': '0'}) # expected:{'H': 'h', '3': 'e', '1': 'l', '0': 'o'}"
   ]
  },
  {
   "cell_type": "code",
   "execution_count": null,
   "id": "2453a440",
   "metadata": {},
   "outputs": [],
   "source": [
    "reverse_mapping([1, 2, 3]) # expected: ValueError"
   ]
  },
  {
   "cell_type": "markdown",
   "id": "54ae2a8d",
   "metadata": {},
   "source": [
    "## P3  [1pts]"
   ]
  },
  {
   "cell_type": "markdown",
   "id": "8b42ac0a",
   "metadata": {},
   "source": [
    "* run the code below to generate a file named `song.txt`"
   ]
  },
  {
   "cell_type": "code",
   "execution_count": null,
   "id": "bd36a22f",
   "metadata": {},
   "outputs": [],
   "source": [
    "%%writefile song.txt\n",
    "On the first day of Christmas, my true love gave to me\n",
    "A partridge in a pear tree.\n",
    "\n",
    "On the second day of Christmas, my true love gave to me\n",
    "Two turtle doves,\n",
    "And a partridge in a pear tree.\n",
    "\n",
    "On the third day of Christmas, my true love gave to me\n",
    "Three French hens,\n",
    "Two turtle doves,\n",
    "And a partridge in a pear tree.\n",
    "\n",
    "On the fourth day of Christmas, my true love gave to me\n",
    "Four calling birds,\n",
    "Three French hens,\n",
    "Two turtle doves,\n",
    "And a partridge in a pear tree.\n",
    "\n",
    "On the fifth day of Christmas, my true love gave to me\n",
    "Five golden rings,\n",
    "Four calling birds,\n",
    "Three French hens,\n",
    "Two turtle doves,\n",
    "And a partridge in a pear tree.\n",
    "\n",
    "On the sixth day of Christmas, my true love gave to me\n",
    "Six geese a-laying,\n",
    "Five golden rings,\n",
    "Four calling birds,\n",
    "Three French hens,\n",
    "Two turtle doves,\n",
    "And a partridge in a pear tree.\n",
    "\n",
    "On the seventh day of Christmas, my true love gave to me\n",
    "Seven swans a-swimming,\n",
    "Six geese a-laying,\n",
    "Five golden rings,\n",
    "Four calling birds,\n",
    "Three French hens,\n",
    "Two turtle doves,\n",
    "And a partridge in a pear tree.\n",
    "\n",
    "On the eighth day of Christmas, my true love gave to me\n",
    "Eight maids a-milking,\n",
    "Seven swans a-swimming,\n",
    "Six geese a-laying,\n",
    "Five golden rings,\n",
    "Four calling birds,\n",
    "Three French hens,\n",
    "Two turtle doves,\n",
    "And a partridge in a pear tree.\n",
    "\n",
    "On the ninth day of Christmas, my true love gave to me\n",
    "Nine ladies dancing,\n",
    "Eight maids a-milking,\n",
    "Seven swans a-swimming,\n",
    "Six geese a-laying,\n",
    "Five golden rings,\n",
    "Four calling birds,\n",
    "Three French hens,\n",
    "Two turtle doves,\n",
    "And a partridge in a pear tree.\n",
    "\n",
    "On the tenth day of Christmas, my true love gave to me\n",
    "Ten lords a-leaping,\n",
    "Nine ladies dancing,\n",
    "Eight maids a-milking,\n",
    "Seven swans a-swimming,\n",
    "Six geese a-laying,\n",
    "Five golden rings,\n",
    "Four calling birds,\n",
    "Three French hens,\n",
    "Two turtle doves,\n",
    "And a partridge in a pear tree.\n",
    "\n",
    "On the eleventh day of Christmas, my true love gave to me\n",
    "Eleven pipers piping,\n",
    "Ten lords a-leaping,\n",
    "Nine ladies dancing,\n",
    "Eight maids a-milking,\n",
    "Seven swans a-swimming,\n",
    "Six geese a-laying,\n",
    "Five golden rings,\n",
    "Four calling birds,\n",
    "Three French hens,\n",
    "Two turtle doves,\n",
    "And a partridge in a pear tree.\n",
    "\n",
    "On the twelfth day of Christmas, my true love gave to me\n",
    "Twelve drummers drumming,\n",
    "Eleven pipers piping,\n",
    "Ten lords a-leaping,\n",
    "Nine ladies dancing,\n",
    "Eight maids a-milking,\n",
    "Seven swans a-swimming,\n",
    "Six geese a-laying,\n",
    "Five golden rings,\n",
    "Four calling birds,\n",
    "Three French hens,\n",
    "Two turtle doves,\n",
    "And a partridge in a pear tree."
   ]
  },
  {
   "cell_type": "markdown",
   "id": "f4071de4",
   "metadata": {},
   "source": [
    "Finish the funciton according to the docstring"
   ]
  },
  {
   "cell_type": "code",
   "execution_count": null,
   "id": "79f4224d",
   "metadata": {},
   "outputs": [],
   "source": [
    "def count_pattern(filename, pattern, n=5):\n",
    "    \"\"\"\n",
    "    Given a filename(str), a pattern(str), and n(int). n has a default value=5\n",
    "    Return an integer as the count of the pattern in the top n lines in the file.\n",
    "    \"\"\"\n",
    "    pass"
   ]
  },
  {
   "cell_type": "code",
   "execution_count": null,
   "id": "85b9d117",
   "metadata": {},
   "outputs": [],
   "source": [
    "count_pattern(\"song.txt\", 'Christmas', 7) # expected: 2"
   ]
  },
  {
   "cell_type": "code",
   "execution_count": null,
   "id": "43d152d8",
   "metadata": {},
   "outputs": [],
   "source": [
    "count_pattern(\"song.txt\", 'Christmas', 10) # expected: 3"
   ]
  },
  {
   "cell_type": "code",
   "execution_count": null,
   "id": "08100156",
   "metadata": {},
   "outputs": [],
   "source": [
    "count_pattern(\"song.txt\", 'Christmas') # expected: 2"
   ]
  },
  {
   "cell_type": "code",
   "execution_count": null,
   "id": "22fce1b1",
   "metadata": {},
   "outputs": [],
   "source": [
    "count_pattern(\"song.txt\", 'Christmas', 40) # expected: 7"
   ]
  },
  {
   "cell_type": "markdown",
   "id": "2d836f4e",
   "metadata": {},
   "source": [
    "## P4 [1pts]"
   ]
  },
  {
   "cell_type": "markdown",
   "id": "d7a3b1c6",
   "metadata": {},
   "source": [
    "* Finish the function according to the docstring"
   ]
  },
  {
   "cell_type": "code",
   "execution_count": null,
   "id": "e74103a8",
   "metadata": {},
   "outputs": [],
   "source": [
    "def make_county(words):\n",
    "    \"\"\"\n",
    "    Given a list of non-empty words, produce 'county' dict\n",
    "    where each first-char-of-word seen is a key, and its value\n",
    "    is a count dict of words starting with that char.\n",
    "    So ['aaa', 'abb', 'aaa'] returns {'a': {'aaa':2, 'abb':1}}\n",
    "    \"\"\"\n",
    "    pass"
   ]
  },
  {
   "cell_type": "code",
   "execution_count": null,
   "id": "75bee3ca",
   "metadata": {},
   "outputs": [],
   "source": [
    "make_county(['aaa', 'abb', 'aaa']) # expected: {'a': {'aaa':2, 'abb':1}}"
   ]
  },
  {
   "cell_type": "code",
   "execution_count": null,
   "id": "1e81414e",
   "metadata": {},
   "outputs": [],
   "source": [
    "make_county(['aaa', 'abb', 'aaa', 'bbb', 'abb', 'bbb', 'abb', 'bcc']) # expected {'a': {'aaa': 2, 'abb': 3}, 'b': {'bbb': 2, 'bcc': 1}}"
   ]
  },
  {
   "cell_type": "code",
   "execution_count": null,
   "id": "ae08bafc",
   "metadata": {},
   "outputs": [],
   "source": [
    " make_county(['hi', 'hi', 'hi']) # expected: {'h': {'hi': 3}}"
   ]
  },
  {
   "cell_type": "code",
   "execution_count": null,
   "id": "86182586",
   "metadata": {},
   "outputs": [],
   "source": [
    "large_input = ['cat'] * 100 + ['dog'] * 50 + ['crocodile'] * 101\n",
    "make_county(large_input) # expected: {'c': {'cat': 100, 'crocodile': 101}, 'd': {'dog': 50}}"
   ]
  }
 ],
 "metadata": {
  "celltoolbar": "Edit Metadata",
  "kernelspec": {
   "display_name": "Python 3 (ipykernel)",
   "language": "python",
   "name": "python3"
  },
  "language_info": {
   "codemirror_mode": {
    "name": "ipython",
    "version": 3
   },
   "file_extension": ".py",
   "mimetype": "text/x-python",
   "name": "python",
   "nbconvert_exporter": "python",
   "pygments_lexer": "ipython3",
   "version": "3.10.9"
  }
 },
 "nbformat": 4,
 "nbformat_minor": 5
}
