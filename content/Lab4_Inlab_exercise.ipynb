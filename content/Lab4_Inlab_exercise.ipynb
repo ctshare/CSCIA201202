{
  "metadata": {
    "kernelspec": {
      "name": "python",
      "display_name": "Python (Pyodide)",
      "language": "python"
    },
    "language_info": {
      "codemirror_mode": {
        "name": "python",
        "version": 3
      },
      "file_extension": ".py",
      "mimetype": "text/x-python",
      "name": "python",
      "nbconvert_exporter": "python",
      "pygments_lexer": "ipython3",
      "version": "3.8"
    }
  },
  "nbformat_minor": 5,
  "nbformat": 4,
  "cells": [
    {
      "id": "d83f4e91",
      "cell_type": "markdown",
      "source": "# A201/597: introduction to programming\n# In-Lab assignment: Function Foundation",
      "metadata": {}
    },
    {
      "id": "3a31a7bb",
      "cell_type": "markdown",
      "source": "* These exercises are designed to enhance your understanding of function foundations.\n* You are required to complete this exercise by the end of the lab session. Upon completion:\n    * Save your file and have the AI review your solutions briefly.\n    * Export the file as a .ipynb file.\n    * Submit the file to the Autograder. Note that this submission will be manually graded.",
      "metadata": {}
    },
    {
      "id": "56273297",
      "cell_type": "markdown",
      "source": "## Problem 1 [5 pts]\n\n**Wrap everything into a function!**\n\nThe program below print the number of vowels in a word. Wrap the program into a function with no return, but print out the same message.\n\n```python\nword = input(\"Enter a word (all in lower case): \")\nvowel_count = 0\n\nfor char in word:\n    if char in \"aeiou\":\n        vowel_count += 1\n\nprint(f\"The word '{word}' has {vowel_count} vowels.\")\n```\n\nExamples for function call:\n```\ncount_vowels(\"Hello\")\nThe word 'Hello' has 2 vowels.\n```\n\n```\ncount_vowels(\"Goodbye\")\nThe word 'Hello' has 3 vowels.\n```",
      "metadata": {}
    },
    {
      "id": "86987074",
      "cell_type": "code",
      "source": "# write your code here\n",
      "metadata": {
        "trusted": true
      },
      "outputs": [],
      "execution_count": 1
    },
    {
      "id": "1e800403-9b2d-41f9-a738-5b689ffd3874",
      "cell_type": "code",
      "source": "# test/call your function here\n",
      "metadata": {
        "trusted": true
      },
      "outputs": [],
      "execution_count": null
    },
    {
      "id": "7a3d3304",
      "cell_type": "markdown",
      "source": "## Problem 2 [5 pts]\n**Fix the bug**\n\nIn the code cell is a program for the problem described below. Find the problem and fix it.<br />\n\nThe following program should calculate $a^2 + b^2$ using a function `square`. \n\nModify the function so that it can perform this operation correctly.",
      "metadata": {}
    },
    {
      "id": "cfb90be5",
      "cell_type": "code",
      "source": "def square(num):\n    print(num ** 2)\n    \na = 2\nb = 3\nresult = square(a) + square(b)\nprint(result)",
      "metadata": {},
      "outputs": [
        {
          "name": "stdout",
          "output_type": "stream",
          "text": "4\n,9\n"
        },
        {
          "ename": "TypeError",
          "evalue": "unsupported operand type(s) for +: 'NoneType' and 'NoneType'",
          "output_type": "error",
          "traceback": [
            "\u001b[0;31m---------------------------------------------------------------------------\u001b[0m",
            "\u001b[0;31mTypeError\u001b[0m                                 Traceback (most recent call last)",
            "Cell \u001b[0;32mIn[14], line 7\u001b[0m\n\u001b[1;32m      5\u001b[0m a \u001b[38;5;241m=\u001b[39m \u001b[38;5;241m2\u001b[39m\n\u001b[1;32m      6\u001b[0m b \u001b[38;5;241m=\u001b[39m \u001b[38;5;241m3\u001b[39m\n\u001b[0;32m----> 7\u001b[0m result \u001b[38;5;241m=\u001b[39m \u001b[43msquare\u001b[49m\u001b[43m(\u001b[49m\u001b[43ma\u001b[49m\u001b[43m)\u001b[49m\u001b[43m \u001b[49m\u001b[38;5;241;43m+\u001b[39;49m\u001b[43m \u001b[49m\u001b[43msquare\u001b[49m\u001b[43m(\u001b[49m\u001b[43mb\u001b[49m\u001b[43m)\u001b[49m\n\u001b[1;32m      8\u001b[0m \u001b[38;5;28mprint\u001b[39m(result)\n",
            "\u001b[0;31mTypeError\u001b[0m: unsupported operand type(s) for +: 'NoneType' and 'NoneType'"
          ]
        }
      ],
      "execution_count": 14
    },
    {
      "id": "1e5185b7",
      "cell_type": "markdown",
      "source": "## Problem 3 [5 pts]\n\nWrite a function called **print_multiple_strings** that takes two arguments - a string and an integer - and prints the string multiple times. The integer specifies how many times the string is printed. <br />\nIn the main part of your program (the part that isn’t inside a function), call your function to test it out. <br />\nFor example, this function call: \n\n---\n>print_multiple_strings(\"Coding is fun!\", 3)\n\n---\nshould provide the following output:\n\n---\n>Coding is fun! <br />\n>Coding is fun! <br />\n>Coding is fun! <br />\n---\n\nHint: A for loop might come in handy!",
      "metadata": {}
    },
    {
      "id": "c01a50b3",
      "cell_type": "code",
      "source": "# Write your code here\n\ndef print_multiple_strings(a_str, a_int):\n    for i in range(a_int):\n        print(a_str)\n\nprint_multiple_strings(\"Coding is fun!\", 3)",
      "metadata": {},
      "outputs": [
        {
          "name": "stdout",
          "output_type": "stream",
          "text": "Coding is fun!\n,Coding is fun!\n,Coding is fun!\n"
        }
      ],
      "execution_count": 1
    },
    {
      "id": "46f9d8b2",
      "cell_type": "markdown",
      "source": "## Problem 4 [5 pts]\nWrite a program to create a function called **check_salary_for_employee()**:\n* It should accept the employee’s name and salary and display both.\n* If the salary is missing in the function call then assign **default** value 6000 to salary\n\nExamples of function call:\n\n---\n>check_salary_for_employee(\"Alice\", 8000) <br />\n>check_salary_for_employee(\"Bob\")<br />\n---\n\nExpected output:\n\n---\n>Name: Alice salary: 8000 <br />\n>Name: Bob salary: 6000 <br />\n\n---",
      "metadata": {}
    },
    {
      "id": "2a837fa5-84ae-4aab-ac90-6018e5080513",
      "cell_type": "markdown",
      "source": "## Problem 5 [5 pts]\n\nDefine a function named `triplet`. It should take a single argument, a string, and print it three times. It should also return 3.",
      "metadata": {}
    },
    {
      "id": "552517c0-74b1-4e21-868a-8ea8c4f760e8",
      "cell_type": "code",
      "source": "# write your code here\n",
      "metadata": {
        "trusted": true
      },
      "outputs": [],
      "execution_count": 3
    },
    {
      "id": "09210c4b-734a-495e-9247-ffdbcda39b88",
      "cell_type": "markdown",
      "source": "## Problem 6 [5 pts]\n\nDefine a function named `print_type`. It should take one argument and print out the type of the argument.",
      "metadata": {}
    },
    {
      "id": "c645b4a8-3fdc-491e-a0ee-0fb9779ba292",
      "cell_type": "code",
      "source": "# write your code here\n",
      "metadata": {
        "trusted": true
      },
      "outputs": [],
      "execution_count": null
    },
    {
      "id": "d9cc3042-484e-4316-a27f-62286d1eaa74",
      "cell_type": "markdown",
      "source": "## Problem 7 [5 pts]\n\nDefine a function named `get_length_as_string`. It should take one argument, a string, and return the length of the string as a string (i.e., the returned value should be a string, not an integer).",
      "metadata": {}
    },
    {
      "id": "7388580f-f408-4d57-bda2-68a9efc838f2",
      "cell_type": "code",
      "source": "# write your code here\n",
      "metadata": {
        "trusted": true
      },
      "outputs": [],
      "execution_count": null
    },
    {
      "id": "59669c5e-1126-437b-99ff-c66380fcce4c",
      "cell_type": "markdown",
      "source": "## Problem 8 [5 pts]\n\nDefine a zero-parameter function named `calculate_user_name_length`. Using the `input` function, it should ask the user for their first name and print out the name and its length. It should then ask the user for their last name and print out the name and its length. It should then print out the full name with a space in between the first and last names, and **return** the length (including the space). For example:\n\n```txt\n>>> result = calculate_user_name_length()\nWhat is your first name? Peter\nPeter 5\nWhat is your last name? Pan\nPan 3\nPeter Pan\n>>> result\n9\n```",
      "metadata": {}
    },
    {
      "id": "ce499158-b3d1-41a7-bf5f-52a513aa9f9b",
      "cell_type": "markdown",
      "source": "The End",
      "metadata": {}
    },
    {
      "id": "b589521c-9829-4503-9351-e770708bd473",
      "cell_type": "code",
      "source": "",
      "metadata": {
        "trusted": true
      },
      "outputs": [],
      "execution_count": null
    }
  ]
}