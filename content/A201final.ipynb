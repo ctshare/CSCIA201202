{
 "cells": [
  {
   "cell_type": "markdown",
   "id": "27bbf446",
   "metadata": {},
   "source": [
    "# CSCI-A201/597 Introduction to Programming I: \n",
    "# Final Exam: Programming Part"
   ]
  },
  {
   "cell_type": "markdown",
   "id": "2b73f76c",
   "metadata": {},
   "source": [
    "* Answer each questions as instructed. \n",
    "\n",
    "* When you finish the exam:\n",
    "    * Step 1: Submit the print-out to intructor/TA.\n",
    "    * Step 2: Save the file.\n",
    "    * Step 3: Download the file `.ipynb`:\n",
    "    * Step 4: Submission to Autograder: https://iu.instructure.com/courses/2284109/assignments/17304412. "
   ]
  },
  {
   "cell_type": "markdown",
   "id": "06a360b7",
   "metadata": {
    "deletable": false,
    "editable": false
   },
   "source": [
    "## p1.(1).  [10 pts]"
   ]
  },
  {
   "cell_type": "code",
   "execution_count": null,
   "id": "9419de41",
   "metadata": {
    "tags": []
   },
   "outputs": [],
   "source": [
    "# finish the program: \n",
    "p1_1 = None"
   ]
  },
  {
   "cell_type": "code",
   "execution_count": null,
   "id": "43b4f8fd",
   "metadata": {
    "tags": []
   },
   "outputs": [],
   "source": [
    "print(p1_1)"
   ]
  },
  {
   "cell_type": "code",
   "execution_count": null,
   "id": "1099fa19",
   "metadata": {
    "otter": {
     "tests": [
      "p1.(1)"
     ]
    },
    "tags": []
   },
   "outputs": [],
   "source": []
  },
  {
   "cell_type": "markdown",
   "id": "324b8eb1",
   "metadata": {
    "deletable": false,
    "editable": false
   },
   "source": [
    "## p1.(2).  [10 pts]"
   ]
  },
  {
   "cell_type": "code",
   "execution_count": null,
   "id": "72620921",
   "metadata": {
    "tags": []
   },
   "outputs": [],
   "source": [
    "# finish the function:\n",
    "\n",
    "def p1_2(pair_list):\n",
    "    pass"
   ]
  },
  {
   "cell_type": "code",
   "execution_count": null,
   "id": "96f24b14",
   "metadata": {
    "tags": []
   },
   "outputs": [],
   "source": [
    "# test 1\n",
    "p1_2(['apple:27', 'dog:2','apple:1'])"
   ]
  },
  {
   "cell_type": "code",
   "execution_count": null,
   "id": "1e51b44e",
   "metadata": {
    "tags": []
   },
   "outputs": [],
   "source": [
    "# test 2:\n",
    "p1_2(['cat:5', 'bird:3', 'fish:7'])"
   ]
  },
  {
   "cell_type": "code",
   "execution_count": null,
   "id": "04d4bdda",
   "metadata": {
    "otter": {
     "tests": [
      "p1.(2)"
     ]
    },
    "tags": []
   },
   "outputs": [],
   "source": []
  },
  {
   "cell_type": "markdown",
   "id": "d80bee7e",
   "metadata": {
    "deletable": false,
    "editable": false
   },
   "source": [
    "## p1.(3).  [10 pts]"
   ]
  },
  {
   "cell_type": "code",
   "execution_count": null,
   "id": "f20b209a",
   "metadata": {
    "tags": []
   },
   "outputs": [],
   "source": [
    "# finish the function:\n",
    "\n",
    "def p1_3(set1, set2):\n",
    "    pass"
   ]
  },
  {
   "cell_type": "code",
   "execution_count": null,
   "id": "511cadae",
   "metadata": {
    "tags": []
   },
   "outputs": [],
   "source": [
    "# test 1:\n",
    "p1_3({\"bug\", \"rice\", \"apple\"}, {\"rice\", \"bug\", \"sugar\"})"
   ]
  },
  {
   "cell_type": "code",
   "execution_count": null,
   "id": "8f9e98ad",
   "metadata": {
    "tags": []
   },
   "outputs": [],
   "source": [
    "# test 2:\n",
    "p1_3({\"apple\", \"banana\"}, {\"carrot\", \"beet\"})"
   ]
  },
  {
   "cell_type": "code",
   "execution_count": null,
   "id": "f30bdb4a",
   "metadata": {
    "tags": []
   },
   "outputs": [],
   "source": [
    "# test 3:\n",
    "p1_3({\"apple\", \"banana\"}, {\"apple\", \"beet\"})"
   ]
  },
  {
   "cell_type": "code",
   "execution_count": null,
   "id": "9c595147",
   "metadata": {
    "otter": {
     "tests": [
      "p1.(3)"
     ]
    },
    "tags": []
   },
   "outputs": [],
   "source": []
  },
  {
   "cell_type": "markdown",
   "id": "f85fd1d6",
   "metadata": {
    "deletable": false,
    "editable": false
   },
   "source": [
    "## p1.(4)  [10 pts]"
   ]
  },
  {
   "cell_type": "code",
   "execution_count": null,
   "id": "4763ca29",
   "metadata": {
    "tags": []
   },
   "outputs": [],
   "source": [
    "# finish the function:\n",
    "\n",
    "def p1_4(*args):\n",
    "    pass"
   ]
  },
  {
   "cell_type": "code",
   "execution_count": null,
   "id": "0e38e919",
   "metadata": {
    "tags": []
   },
   "outputs": [],
   "source": [
    "# test 1\n",
    "p1_4()"
   ]
  },
  {
   "cell_type": "code",
   "execution_count": null,
   "id": "3fa1106a",
   "metadata": {
    "tags": []
   },
   "outputs": [],
   "source": [
    "# test 2\n",
    "p1_4(1, 2)"
   ]
  },
  {
   "cell_type": "code",
   "execution_count": null,
   "id": "0066f097",
   "metadata": {
    "otter": {
     "tests": [
      "p1.(4)"
     ]
    },
    "tags": []
   },
   "outputs": [],
   "source": [
    "# test 3\n",
    "p1_4(\"happy\", [1, 2], 3)"
   ]
  },
  {
   "cell_type": "code",
   "execution_count": null,
   "id": "10683930",
   "metadata": {},
   "outputs": [],
   "source": []
  },
  {
   "cell_type": "markdown",
   "id": "904cde95",
   "metadata": {
    "deletable": false,
    "editable": false
   },
   "source": [
    "### P2.(1) [10 pts]"
   ]
  },
  {
   "cell_type": "code",
   "execution_count": null,
   "id": "b7e28d0a",
   "metadata": {
    "tags": []
   },
   "outputs": [],
   "source": [
    "# P2 (1)\n",
    "\n",
    "def p2_1(input_dict):\n",
    "    pass\n"
   ]
  },
  {
   "cell_type": "code",
   "execution_count": null,
   "id": "267c0a99",
   "metadata": {
    "tags": []
   },
   "outputs": [],
   "source": [
    "# test\n",
    "d = {1:10, 2:20, 3:30}\n",
    "p2_1(d)"
   ]
  },
  {
   "cell_type": "code",
   "execution_count": null,
   "id": "260a376c",
   "metadata": {
    "tags": []
   },
   "outputs": [],
   "source": [
    "# test\n",
    "d = {1:10, 2:20, 3:30, 4:30}\n",
    "p2_1(d)"
   ]
  },
  {
   "cell_type": "code",
   "execution_count": null,
   "id": "2453a440",
   "metadata": {
    "tags": []
   },
   "outputs": [],
   "source": [
    "# test\n",
    "d = {4:True, 2:True, 0:True}\n",
    "p2_1(d) "
   ]
  },
  {
   "cell_type": "code",
   "execution_count": null,
   "id": "8b8765d5",
   "metadata": {
    "otter": {
     "tests": [
      "p2.(1)"
     ]
    },
    "tags": []
   },
   "outputs": [],
   "source": []
  },
  {
   "cell_type": "markdown",
   "id": "6f7109d3",
   "metadata": {
    "deletable": false,
    "editable": false
   },
   "source": [
    "## p2.(2)  [10 pts]"
   ]
  },
  {
   "cell_type": "code",
   "execution_count": null,
   "id": "df46ca19",
   "metadata": {
    "tags": []
   },
   "outputs": [],
   "source": [
    "# write your code here:\n",
    "\n",
    "def p2_2(data):\n",
    "    pass"
   ]
  },
  {
   "cell_type": "code",
   "execution_count": null,
   "id": "56570aaf",
   "metadata": {
    "tags": []
   },
   "outputs": [],
   "source": [
    "# test 1\n",
    "data1 = {\"Math\": {\"Alice\": \"A\", \"Bob\": \"A\", \"Charlie\": \"A\"}}\n",
    "p2_2(data1)"
   ]
  },
  {
   "cell_type": "code",
   "execution_count": null,
   "id": "c17ab875",
   "metadata": {
    "tags": []
   },
   "outputs": [],
   "source": [
    "# test 2\n",
    "data2 = {\"Math\": {\"Alice\": \"A\", \"Bob\": \"B\", \"Charlie\": \"A\"},\n",
    "    \"Science\": {\"Alice\": \"A\", \"Bob\": \"A\", \"Charlie\": \"A\"}}\n",
    "p2_2(data2)"
   ]
  },
  {
   "cell_type": "code",
   "execution_count": null,
   "id": "f0182699",
   "metadata": {
    "otter": {
     "tests": [
      "p2.(2)"
     ]
    },
    "tags": []
   },
   "outputs": [],
   "source": [
    "# test 3\n",
    "data3 = { \"Math\": {\"Alice\": \"A\", \"Bob\": \"B\", \"Charlie\": \"A\"},\n",
    "    \"Science\": {\"Alice\": \"A\", \"Bob\": \"A\", \"Charlie\": \"B\"},\n",
    "    \"History\": {\"Alice\": \"B\", \"Bob\": \"A\", \"Charlie\": \"A\"}}\n",
    "p2_2(data3)"
   ]
  },
  {
   "cell_type": "markdown",
   "id": "68bf3318",
   "metadata": {
    "deletable": false,
    "editable": false
   },
   "source": [
    "## p2.(3)  [10 pts]"
   ]
  },
  {
   "cell_type": "code",
   "execution_count": null,
   "id": "13229f70",
   "metadata": {
    "tags": []
   },
   "outputs": [],
   "source": [
    "# write your code here:\n",
    "\n",
    "def p2_3(data):\n",
    "    pass\n"
   ]
  },
  {
   "cell_type": "code",
   "execution_count": null,
   "id": "f5fd5bfc",
   "metadata": {
    "tags": []
   },
   "outputs": [],
   "source": [
    "# test 1\n",
    "\n",
    "data4 = {\n",
    "    \"Math\": {\"Alice\": \"A\", \"Bob\": \"B\", \"Eva\": \"B\", \"Frank\": \"B-\"}, \n",
    "    \"Science\": {\"Alice\": \"B\", \"Bob\": \"A\", \"Eva\": \"Z\", \"Frank\": \"B\"}, \n",
    "    \"History\": {\"Alice\": \"C\", \"Bob\": \"B\", \"Eva\": \"A\", \"Frank\": \"C\"}}\n",
    "p2_3(data4)"
   ]
  },
  {
   "cell_type": "code",
   "execution_count": null,
   "id": "4d49deff",
   "metadata": {
    "tags": []
   },
   "outputs": [],
   "source": [
    "# test 2\n",
    "\n",
    "data5 = {\"Math\": {\"Alice\": \"A\"}, \"Science\": {\"Alice\": \"B\"}}\n",
    "p2_3(data5) "
   ]
  },
  {
   "cell_type": "code",
   "execution_count": null,
   "id": "604f0f1d",
   "metadata": {
    "otter": {
     "tests": [
      "p2.(3)"
     ]
    },
    "tags": []
   },
   "outputs": [],
   "source": [
    "# test 3\n",
    "\n",
    "data6 = {\"Math\": {\"Alice\": \"A-\"}, \"Science\": {\"Alice\": \"B+\"}}\n",
    "p2_3(data6)"
   ]
  },
  {
   "cell_type": "code",
   "execution_count": null,
   "id": "21429420",
   "metadata": {},
   "outputs": [],
   "source": []
  },
  {
   "cell_type": "markdown",
   "id": "ca7589e5",
   "metadata": {
    "deletable": false,
    "editable": false
   },
   "source": [
    "## p2.(4)  [10 pts]"
   ]
  },
  {
   "cell_type": "code",
   "execution_count": null,
   "id": "bad08b2e",
   "metadata": {
    "tags": []
   },
   "outputs": [],
   "source": [
    "# write your code here:\n",
    "\n",
    "def p2_4(data, filename):\n",
    "    # Simplified grading standard\n",
    "    grade_points = {\"A\": 4.0, \"B\": 3.0, \"C\": 2.0, \"D\": 1.0, \"F\": 0.0}\n",
    "    \n",
    "    # finish the program below\n",
    "\n",
    "    \n"
   ]
  },
  {
   "cell_type": "code",
   "execution_count": null,
   "id": "09221c3f",
   "metadata": {
    "otter": {
     "tests": [
      "p2.(4)"
     ]
    },
    "tags": []
   },
   "outputs": [],
   "source": [
    "# test:\n",
    "\n",
    "data = {\n",
    "    \"Math\": {\"Alice\": \"A\", \"Bob\": \"B\", \"Charlie\": \"A\", \"David\": \"A+\"},\n",
    "    \"History\": {\"Alice\": \"A\", \"Bob\": \"A\"},\n",
    "    \"Science\": {\"Alice\": \"A-\", \"Bob\": \"B+\", \"Charlie\": \"Z\"}}\n",
    "\n",
    "p2_4(data, \"average_grades.txt\")"
   ]
  },
  {
   "cell_type": "code",
   "execution_count": null,
   "id": "229e2abf",
   "metadata": {},
   "outputs": [],
   "source": []
  },
  {
   "cell_type": "markdown",
   "id": "c7c8d11a",
   "metadata": {
    "deletable": false,
    "editable": false
   },
   "source": [
    "## p3  [10 pts]"
   ]
  },
  {
   "cell_type": "code",
   "execution_count": null,
   "id": "984bb140",
   "metadata": {
    "tags": []
   },
   "outputs": [],
   "source": [
    "# write your code here:\n",
    "\n",
    "def p3(user_date):\n",
    "    # modify the program:\n",
    "    months = {\n",
    "    \"January\": 1, \"February\": 2, \"March\": 3, \"April\": 4,\n",
    "    \"May\": 5, \"June\": 6, \"July\": 7, \"August\": 8,\n",
    "    \"September\": 9, \"October\": 10, \"November\": 11, \"December\": 12}\n",
    "    yyyy = 0\n",
    "    mm = 0\n",
    "    dd = 0\n",
    "    return f\"{yyyy:04}-{mm:02}-{dd:02}\" # # Return ISO format\n",
    "    \n",
    "    "
   ]
  },
  {
   "cell_type": "code",
   "execution_count": null,
   "id": "e4042634",
   "metadata": {
    "tags": []
   },
   "outputs": [],
   "source": [
    "# test 1\n",
    "p3(\"March 15, 2025\")"
   ]
  },
  {
   "cell_type": "code",
   "execution_count": null,
   "id": "821c468c",
   "metadata": {
    "tags": []
   },
   "outputs": [],
   "source": [
    "# test 2\n",
    "p3(\"March 100, 2025\")"
   ]
  },
  {
   "cell_type": "code",
   "execution_count": null,
   "id": "7a9a7d2e",
   "metadata": {
    "tags": []
   },
   "outputs": [],
   "source": [
    "# test 3\n",
    "p3(\"12/30/2024\")"
   ]
  },
  {
   "cell_type": "code",
   "execution_count": null,
   "id": "00f108da",
   "metadata": {
    "tags": []
   },
   "outputs": [],
   "source": [
    "# test 4\n",
    "p3(\"15/3/2024\")"
   ]
  },
  {
   "cell_type": "code",
   "execution_count": null,
   "id": "07c784ce",
   "metadata": {
    "tags": []
   },
   "outputs": [],
   "source": [
    "# test 5\n",
    "p3(\"march 15, 2025\")"
   ]
  },
  {
   "cell_type": "code",
   "execution_count": null,
   "id": "467273b6",
   "metadata": {
    "otter": {
     "tests": [
      "p3"
     ]
    },
    "tags": []
   },
   "outputs": [],
   "source": [
    "# test 6\n",
    "p3(\"15 March, 2023\")"
   ]
  },
  {
   "cell_type": "code",
   "execution_count": null,
   "id": "c246eef5",
   "metadata": {},
   "outputs": [],
   "source": []
  }
 ],
 "metadata": {
  "celltoolbar": "Edit Metadata",
  "kernelspec": {
   "display_name": "Python 3 (ipykernel)",
   "language": "python",
   "name": "python3"
  },
  "language_info": {
   "codemirror_mode": {
    "name": "ipython",
    "version": 3
   },
   "file_extension": ".py",
   "mimetype": "text/x-python",
   "name": "python",
   "nbconvert_exporter": "python",
   "pygments_lexer": "ipython3",
   "version": "3.10.9"
  },
  "otter": {
   "OK_FORMAT": true,
   "tests": {
    "p1.(1)": {
     "name": "p1.(1)",
     "points": 10,
     "suites": [
      {
       "cases": [
        {
         "code": ">>> def check_p1_1():\n...     assert isinstance(p1_1, dict), 'not a dictionary'\n...     assert len(p1_1) == 50\n...     for i in range(2, 101, 2):\n...         assert i in p1_1, '{i} should be included'\n...         assert i * i == p1_1[i]\n>>> check_p1_1()\n",
         "hidden": false,
         "locked": false
        }
       ],
       "scored": true,
       "setup": "",
       "teardown": "",
       "type": "doctest"
      }
     ]
    },
    "p1.(2)": {
     "name": "p1.(2)",
     "points": 10,
     "suites": [
      {
       "cases": [
        {
         "code": ">>> pair_list = ['apple:27', 'dog:2', 'apple:1']\n>>> result = p1_2(pair_list)\n>>> expected = {'apple': 28, 'dog': 2}\n>>> assert result == expected, f'Test Case 1 Failed: Expected {expected}, got {result}'\n",
         "hidden": false,
         "locked": false
        },
        {
         "code": ">>> pair_list = ['cat:5', 'bird:3', 'fish:7']\n>>> result = p1_2(pair_list)\n>>> expected = {'cat': 5, 'bird': 3, 'fish': 7}\n>>> assert result == expected, f'Test Case 2 Failed: Expected {expected}, got {result}'\n",
         "hidden": false,
         "locked": false
        },
        {
         "code": ">>> pair_list = ['lion:9']\n>>> result = p1_2(pair_list)\n>>> expected = {'lion': 9}\n>>> assert result == expected, f'Test Case 3 Failed: Expected {expected}, got {result}'\n",
         "hidden": false,
         "locked": false
        },
        {
         "code": ">>> pair_list = []\n>>> result = p1_2(pair_list)\n>>> expected = {}\n>>> assert result == expected, f'Test Case 4 Failed: Expected {expected}, got {result}'\n",
         "hidden": false,
         "locked": false
        },
        {
         "code": ">>> pair_list = ['banana:10', 'banana:20', 'banana:30']\n>>> result = p1_2(pair_list)\n>>> expected = {'banana': 60}\n>>> assert result == expected, f'Test Case 5 Failed: Expected {expected}, got {result}'\n",
         "hidden": false,
         "locked": false
        },
        {
         "code": ">>> pair_list = ['grape:0', 'grape:5']\n>>> result = p1_2(pair_list)\n>>> expected = {'grape': 5}\n>>> assert result == expected, f'Test Case 6 Failed: Expected {expected}, got {result}'\n",
         "hidden": false,
         "locked": false
        },
        {
         "code": ">>> pair_list = ['key1:10', 'key1:-3', 'key2:-7']\n>>> result = p1_2(pair_list)\n>>> expected = {'key1': 7, 'key2': -7}\n>>> assert result == expected, f'Test Case 7 Failed: Expected {expected}, got {result}'\n",
         "hidden": false,
         "locked": false
        },
        {
         "code": ">>> pair_list = ['a:1000000', 'a:2000000', 'b:3000000']\n>>> result = p1_2(pair_list)\n>>> expected = {'a': 3000000, 'b': 3000000}\n>>> assert result == expected, f'Test Case 8 Failed: Expected {expected}, got {result}'\n",
         "hidden": false,
         "locked": false
        }
       ],
       "scored": true,
       "setup": "",
       "teardown": "",
       "type": "doctest"
      }
     ]
    },
    "p1.(3)": {
     "name": "p1.(3)",
     "points": 10,
     "suites": [
      {
       "cases": [
        {
         "code": ">>> set1 = {'cat', 'dog', 'bug'}\n>>> set2 = {'dog', 'rabbit', 'bug'}\n>>> result = p1_3(set1, set2)\n>>> assert result == {'dog'}, f\"Test Case 1 Failed: Expected {{'dog'}}, got {result}\"\n",
         "hidden": false,
         "locked": false
        },
        {
         "code": ">>> set1 = {'apple', 'banana'}\n>>> set2 = {'carrot', 'beet'}\n>>> result = p1_3(set1, set2)\n>>> assert result == set(), f'Test Case 2 Failed: Expected set(), got {result}'\n",
         "hidden": false,
         "locked": false
        },
        {
         "code": ">>> set1 = {'bug'}\n>>> set2 = {'bug'}\n>>> result = p1_3(set1, set2)\n>>> assert result == set(), f'Test Case 3 Failed: Expected set(), got {result}'\n",
         "hidden": false,
         "locked": false
        },
        {
         "code": ">>> set1 = {'apple', 'banana', 'cherry'}\n>>> set2 = {'banana', 'cherry', 'date'}\n>>> result = p1_3(set1, set2)\n>>> assert result == {'banana', 'cherry'}, f\"Test Case 4 Failed: Expected {{'banana', 'cherry'}}, got {result}\"\n",
         "hidden": false,
         "locked": false
        },
        {
         "code": ">>> set1 = set()\n>>> set2 = set()\n>>> result = p1_3(set1, set2)\n>>> assert result == set(), f'Test Case 5 Failed: Expected set(), got {result}'\n",
         "hidden": false,
         "locked": false
        },
        {
         "code": ">>> set1 = {'apple', 'bug'}\n>>> set2 = set()\n>>> result = p1_3(set1, set2)\n>>> assert result == set(), f'Test Case 6 Failed: Expected set(), got {result}'\n",
         "hidden": false,
         "locked": false
        },
        {
         "code": ">>> set1 = {'apple', 'bug'}\n>>> set2 = {'apple', 'banana'}\n>>> result = p1_3(set1, set2)\n>>> assert result == {'apple'}, f\"Test Case 7 Failed: Expected {{'apple'}}, got {result}\"\n",
         "hidden": false,
         "locked": false
        },
        {
         "code": ">>> set1 = {'bug', 'carrot', 'date'}\n>>> set2 = {'bug', 'carrot', 'date'}\n>>> result = p1_3(set1, set2)\n>>> assert result == {'carrot', 'date'}, f\"Test Case 8 Failed: Expected {{'carrot', 'date'}}, got {result}\"\n",
         "hidden": false,
         "locked": false
        }
       ],
       "scored": true,
       "setup": "",
       "teardown": "",
       "type": "doctest"
      }
     ]
    },
    "p1.(4)": {
     "name": "p1.(4)",
     "points": 10,
     "suites": [
      {
       "cases": [
        {
         "code": ">>> result = p1_4()\n>>> expected = 0\n>>> assert result == expected, f'Test Case 1 Failed: Expected {expected}, got {result}'\n",
         "hidden": false,
         "locked": false
        },
        {
         "code": ">>> result = p1_4(10)\n>>> expected = 1\n>>> assert result == expected, f'Test Case 2 Failed: Expected {expected}, got {result}'\n",
         "hidden": false,
         "locked": false
        },
        {
         "code": ">>> result = p1_4(1, 2, 3, 4, 5)\n>>> expected = 5\n>>> assert result == expected, f'Test Case 3 Failed: Expected {expected}, got {result}'\n",
         "hidden": false,
         "locked": false
        },
        {
         "code": ">>> result = p1_4('apple', 42, [1, 2, 3], {'key': 'value'}, 3.14)\n>>> expected = 5\n>>> assert result == expected, f'Test Case 4 Failed: Expected {expected}, got {result}'\n",
         "hidden": false,
         "locked": false
        },
        {
         "code": ">>> result = p1_4([1, 2, 3], (4, 5), {6, 7}, {'key': 'value'})\n>>> expected = 4\n>>> assert result == expected, f'Test Case 5 Failed: Expected {expected}, got {result}'\n",
         "hidden": false,
         "locked": false
        },
        {
         "code": ">>> large_args = range(1000)\n>>> result = p1_4(*large_args)\n>>> expected = 1000\n>>> assert result == expected, f'Test Case 6 Failed: Expected {expected}, got {result}'\n",
         "hidden": false,
         "locked": false
        }
       ],
       "scored": true,
       "setup": "",
       "teardown": "",
       "type": "doctest"
      }
     ]
    },
    "p2.(1)": {
     "name": "p2.(1)",
     "points": 10,
     "suites": [
      {
       "cases": [
        {
         "code": ">>> assert p2_1({1: 10, 2: 20, 3: 30}) == {10: [1], 20: [2], 30: [3]}, 'Test Case 1 Failed'\n",
         "hidden": false,
         "locked": false
        },
        {
         "code": ">>> assert p2_1({1: 10, 2: 20, 3: 30, 4: 30}) == {10: [1], 20: [2], 30: [3, 4]}, 'Test Case 2 Failed'\n",
         "hidden": false,
         "locked": false
        },
        {
         "code": ">>> assert p2_1({4: True, 2: True, 0: True}) == {True: [0, 2, 4]}, 'Test Case 3 Failed'\n",
         "hidden": false,
         "locked": false
        },
        {
         "code": ">>> assert p2_1({'a': 1, 'b': 2, 'c': 1}) == {1: ['a', 'c'], 2: ['b']}, 'Test Case 4 Failed'\n",
         "hidden": false,
         "locked": false
        },
        {
         "code": ">>> assert p2_1({}) == {}, 'Test Case 5 Failed'\n",
         "hidden": false,
         "locked": false
        },
        {
         "code": ">>> assert p2_1({5: 'x', 3: 'x', 7: 'x'}) == {'x': [3, 5, 7]}, 'Test Case 6 Failed'\n",
         "hidden": false,
         "locked": false
        },
        {
         "code": ">>> assert p2_1({1: 100, 2: 200, 3: 100, 4: 300}) == {100: [1, 3], 200: [2], 300: [4]}, 'Test Case 7 Failed'\n",
         "hidden": false,
         "locked": false
        },
        {
         "code": ">>> assert p2_1({'alpha': 'a', 'beta': 'b', 'gamma': 'a'}) == {'a': ['alpha', 'gamma'], 'b': ['beta']}, 'Test Case 8 Failed'\n",
         "hidden": false,
         "locked": false
        }
       ],
       "scored": true,
       "setup": "",
       "teardown": "",
       "type": "doctest"
      }
     ]
    },
    "p2.(2)": {
     "name": "p2.(2)",
     "points": 10,
     "suites": [
      {
       "cases": [
        {
         "code": ">>> data1 = {'Math': {'Alice': 'A', 'Bob': 'A', 'Charlie': 'A'}}\n>>> assert p2_2(data1) == {'Alice', 'Bob', 'Charlie'}, 'Test Case 1 Failed'\n",
         "hidden": false,
         "locked": false
        },
        {
         "code": ">>> data2 = {'Math': {'Alice': 'A', 'Bob': 'B', 'Charlie': 'A'}, 'Science': {'Alice': 'A', 'Bob': 'A', 'Charlie': 'A'}}\n>>> assert p2_2(data2) == {'Alice', 'Charlie'}, 'Test Case 2 Failed'\n",
         "hidden": false,
         "locked": false
        },
        {
         "code": ">>> data3 = {'Math': {'Alice': 'A', 'Bob': 'B', 'Charlie': 'A'}, 'Science': {'Alice': 'A', 'Bob': 'A', 'Charlie': 'B'}, 'History': {'Alice': 'B', 'Bob': 'A', 'Charlie': 'A'}}\n>>> assert p2_2(data3) == set(), 'Test Case 3 Failed'\n",
         "hidden": false,
         "locked": false
        },
        {
         "code": ">>> data4 = {'Math': {'Alice': 'B', 'Bob': 'C', 'Charlie': 'B'}, 'Science': {'Alice': 'B', 'Bob': 'A', 'Charlie': 'C'}, 'History': {'Alice': 'C', 'Bob': 'B', 'Charlie': 'B'}}\n>>> assert p2_2(data4) == set(), 'Test Case 4 Failed'\n",
         "hidden": false,
         "locked": false
        },
        {
         "code": ">>> data5 = {'Math': {'Alice': 'A', 'Bob': 'C', 'Charlie': 'B'}, 'Science': {'Alice': 'B', 'Bob': 'C', 'Charlie': 'A'}, 'History': {'Alice': 'C', 'Bob': 'B', 'Charlie': 'C'}}\n>>> assert p2_2(data5) == set(), 'Test Case 5 Failed'\n",
         "hidden": false,
         "locked": false
        },
        {
         "code": ">>> data6 = {'Math': {'Alice': 'A', 'Bob': 'A'}, 'Science': {'Alice': 'A', 'Bob': 'A'}, 'History': {'Alice': 'A', 'Bob': 'A'}}\n>>> assert p2_2(data6) == {'Alice', 'Bob'}, 'Test Case 6 Failed'\n",
         "hidden": false,
         "locked": false
        },
        {
         "code": ">>> data7 = {'Math': {'Alice': 'A', 'Bob': 'B', 'Charlie': 'A'}, 'Science': {'Alice': 'A', 'Charlie': 'A'}, 'History': {'Alice': 'A', 'Charlie': 'A'}}\n>>> assert p2_2(data7) == {'Alice', 'Charlie'}, 'Test Case 7 Failed'\n",
         "hidden": false,
         "locked": false
        }
       ],
       "scored": true,
       "setup": "",
       "teardown": "",
       "type": "doctest"
      }
     ]
    },
    "p2.(3)": {
     "name": "p2.(3)",
     "points": 10,
     "suites": [
      {
       "cases": [
        {
         "code": ">>> data4 = {'Math': {'Alice': 'A', 'Bob': 'B', 'Eva': 'B', 'Frank': 'B-'}, 'Science': {'Alice': 'B', 'Bob': 'A', 'Eva': 'Z', 'Frank': 'B'}, 'History': {'Alice': 'C', 'Bob': 'B', 'Eva': 'A', 'Frank': 'C'}}\n>>> assert p2_3(data4) == {'Math': 3.33, 'Science': 3.33}\n",
         "hidden": false,
         "locked": false
        },
        {
         "code": ">>> data5 = {'Math': {'Alice': 'A'}, 'Science': {'Alice': 'B'}}\n>>> assert p2_3(data5) == {'Math': 4.0}\n",
         "hidden": false,
         "locked": false
        },
        {
         "code": ">>> data6 = {'Math': {'Alice': 'A-'}, 'Science': {'Alice': 'B+'}}\n>>> assert p2_3(data6) == {}\n",
         "hidden": false,
         "locked": false
        },
        {
         "code": ">>> data7 = {'Math': {'Alice': 'A', 'Bob': 'A', 'Charlie': 'A'}, 'Science': {'Alice': 'B', 'Bob': 'B', 'Charlie': 'B'}, 'History': {'Alice': 'C', 'Bob': 'C', 'Charlie': 'C'}}\n>>> assert p2_3(data7) == {'Math': 4.0}, 'Test Case 4 Failed'\n",
         "hidden": false,
         "locked": false
        },
        {
         "code": ">>> data8 = {'Math': {'Alice': 'A', 'Bob': 'B', 'Charlie': 'X'}, 'Science': {'Alice': 'B', 'Bob': 'A', 'Charlie': 'C'}, 'History': {'Alice': 'C', 'Bob': 'D', 'Charlie': 'C'}}\n>>> assert p2_3(data8) == {'Math': 3.5}, 'Test Case 5 Failed'\n",
         "hidden": false,
         "locked": false
        },
        {
         "code": ">>> data9 = {'Math': {'Alice': 'A'}, 'Science': {'Bob': 'B+'}, 'History': {'Charlie': 'Z'}}\n>>> assert p2_3(data9) == {'Math': 4.0}, 'Test Case 6 Failed'\n",
         "hidden": false,
         "locked": false
        },
        {
         "code": ">>> data10 = {'Math': {'Alice': 'A', 'Bob': 'B', 'Charlie': 'A', 'David': 'B'}, 'Science': {'Alice': 'B', 'Bob': 'A', 'Charlie': 'B', 'David': 'A'}, 'History': {'Alice': 'A', 'Bob': 'B', 'Charlie': 'A', 'David': 'B'}}\n>>> assert p2_3(data10) == {'Math': 3.5, 'Science': 3.5, 'History': 3.5}, 'Test Case 7 Failed'\n",
         "hidden": false,
         "locked": false
        },
        {
         "code": ">>> data11 = {'Math': {'Alice': 'A', 'Bob': 'B', 'Charlie': 'A', 'David': 'C', 'Eva': 'B', 'Frank': 'B-', 'Grace': 'B', 'Hannah': 'A', 'Ivy': 'C', 'Jack': 'D'}, 'Science': {'Alice': 'B', 'Bob': 'A', 'Charlie': 'X', 'David': 'A', 'Eva': 'C', 'Frank': 'B', 'Grace': 'C', 'Hannah': 'B', 'Ivy': 'A', 'Jack': 'B+'}, 'History': {'Alice': 'C', 'Bob': 'B', 'Charlie': 'A', 'David': 'B', 'Eva': 'A', 'Frank': 'C', 'Grace': 'B', 'Hannah': 'B', 'Ivy': 'A', 'Jack': 'F'}, 'Geography': {'Alice': 'A', 'Bob': 'A', 'Charlie': 'B', 'David': 'B', 'Eva': 'A', 'Frank': 'B', 'Grace': 'A', 'Hannah': 'A', 'Ivy': 'B', 'Jack': 'A'}, 'Literature': {'Alice': 'B', 'Bob': 'C', 'Charlie': 'A', 'David': 'C', 'Eva': 'A', 'Frank': 'B', 'Grace': 'D', 'Hannah': 'B', 'Ivy': 'C', 'Jack': 'F'}}\n>>> assert p2_3(data11) == {'Geography': 3.6}, 'Test Case 8 Failed'\n",
         "hidden": false,
         "locked": false
        }
       ],
       "scored": true,
       "setup": "",
       "teardown": "",
       "type": "doctest"
      }
     ]
    },
    "p2.(4)": {
     "name": "p2.(4)",
     "points": 10,
     "suites": [
      {
       "cases": [
        {
         "code": ">>> import os\n>>> data1 = {'Math': {'Alice': 'A', 'Bob': 'B', 'Charlie': 'A'}, 'Science': {'Alice': 'A', 'Bob': 'A', 'Charlie': 'A'}}\n>>> filename1 = 'test_output1.txt'\n>>> p2_4(data1, filename1)\n>>> with open(filename1, 'r') as file:\n...     content = file.read()\n...     assert 'Math:3.67' in content\n...     assert 'Science:4' in content\n>>> os.remove(filename1)\n",
         "hidden": false,
         "locked": false
        },
        {
         "code": ">>> import os\n>>> data2 = {'Math': {'Alice': 'A', 'Bob': 'Z', 'Charlie': 'B'}, 'Science': {'Alice': 'A', 'Bob': 'B', 'Charlie': 'C'}}\n>>> filename2 = 'test_output2.txt'\n>>> p2_4(data2, filename2)\n>>> with open(filename2, 'r') as file:\n...     content = file.read()\n...     assert 'Math:3.5' in content\n...     assert 'Science:3.0' in content\n>>> os.remove(filename2)\n",
         "hidden": false,
         "locked": false
        },
        {
         "code": ">>> import os\n>>> data3 = {}\n>>> filename3 = 'test_output3.txt'\n>>> p2_4(data3, filename3)\n>>> with open(filename3, 'r') as file:\n...     content = file.read()\n...     assert len(content) < 2\n>>> os.remove(filename3)\n",
         "hidden": false,
         "locked": false
        },
        {
         "code": ">>> import os\n>>> data4 = {'History': {'Alice': 'A', 'Bob': 'A', 'Charlie': 'A'}}\n>>> filename4 = 'test_output4.txt'\n>>> p2_4(data4, filename4)\n>>> with open(filename4, 'r') as file:\n...     content = file.read()\n...     assert 'History:4.0' in content\n>>> os.remove(filename4)\n",
         "hidden": false,
         "locked": false
        },
        {
         "code": ">>> import os\n>>> data5 = {'History': {'Alice': 'Z', 'Bob': 'Y'}}\n>>> filename5 = 'test_output5.txt'\n>>> p2_4(data5, filename5)\n>>> with open(filename5, 'r') as file:\n...     assert file.read() == ''\n>>> os.remove(filename5)\n",
         "hidden": false,
         "locked": false
        },
        {
         "code": ">>> import os\n>>> data6 = {'Math': {'Alice': 'B', 'Bob': 'C', 'Charlie': 'F'}, 'Science': {'Alice': 'B', 'Bob': 'Z', 'Charlie': 'C'}, 'History': {'Alice': 'D', 'Bob': 'D', 'Charlie': 'D'}}\n>>> filename6 = 'test_output6.txt'\n>>> p2_4(data6, filename6)\n>>> with open(filename6, 'r') as file:\n...     content = file.read()\n...     assert 'Math:1.67' in content\n...     assert 'Science:2.5' in content\n...     assert 'History:1.0' in content\n>>> os.remove(filename6)\n",
         "hidden": false,
         "locked": false
        },
        {
         "code": ">>> import os\n>>> data7 = {'Math': {}, 'Science': {}, 'History': {}}\n>>> filename7 = 'test_output7.txt'\n>>> p2_4(data7, filename7)\n>>> with open(filename7, 'r') as file:\n...     assert file.read() == ''\n>>> os.remove(filename7)\n",
         "hidden": false,
         "locked": false
        }
       ],
       "scored": true,
       "setup": "",
       "teardown": "",
       "type": "doctest"
      }
     ]
    },
    "p3": {
     "name": "p3",
     "points": 10,
     "suites": [
      {
       "cases": [
        {
         "code": ">>> assert p3('3/15/2023') == '2023-03-15'\n",
         "hidden": false,
         "locked": false
        },
        {
         "code": ">>> assert p3('12/31/2020') == '2020-12-31'\n",
         "hidden": false,
         "locked": false
        },
        {
         "code": ">>> assert p3('1/1/1999') == '1999-01-01'\n",
         "hidden": false,
         "locked": false
        },
        {
         "code": ">>> assert p3('March 15, 2023') == '2023-03-15'\n",
         "hidden": false,
         "locked": false
        },
        {
         "code": ">>> assert p3('December 31, 2020') == '2020-12-31'\n",
         "hidden": false,
         "locked": false
        },
        {
         "code": ">>> assert p3('January 1, 1999') == '1999-01-01'\n",
         "hidden": false,
         "locked": false
        },
        {
         "code": ">>> try:\n...     p3('15/2023')\n... except ValueError as e:\n...     assert str(e) == 'Invalid date format or value'\n",
         "hidden": false,
         "locked": false
        },
        {
         "code": ">>> try:\n...     p3('13/15/2023')\n... except ValueError as e:\n...     assert str(e) == 'Invalid date format or value'\n",
         "hidden": false,
         "locked": false
        },
        {
         "code": ">>> try:\n...     p3('12/32/2023')\n... except ValueError as e:\n...     assert str(e) == 'Invalid date format or value'\n",
         "hidden": false,
         "locked": false
        },
        {
         "code": ">>> try:\n...     p3('15 March, 2023')\n... except ValueError as e:\n...     assert str(e) == 'Invalid date format or value'\n",
         "hidden": false,
         "locked": false
        },
        {
         "code": ">>> try:\n...     p3('Mar 15, 2023')\n... except ValueError as e:\n...     assert str(e) == 'Invalid date format or value'\n",
         "hidden": false,
         "locked": false
        },
        {
         "code": ">>> try:\n...     p3('March, 2023')\n... except ValueError as e:\n...     assert str(e) == 'Invalid date format or value'\n",
         "hidden": false,
         "locked": false
        },
        {
         "code": ">>> assert p3('1/1/0001') == '0001-01-01'\n>>> assert p3('January 1, 1') == '0001-01-01'\n",
         "hidden": false,
         "locked": false
        },
        {
         "code": ">>> assert p3('12/31/9999') == '9999-12-31'\n>>> assert p3('December 31, 9999') == '9999-12-31'\n",
         "hidden": false,
         "locked": false
        },
        {
         "code": ">>> try:\n...     p3('3/15/abcd')\n... except ValueError as e:\n...     assert str(e) == 'Invalid date format or value'\n",
         "hidden": false,
         "locked": false
        },
        {
         "code": ">>> try:\n...     p3('3/15/2023 and March 15, 2023')\n... except ValueError as e:\n...     assert str(e) == 'Invalid date format or value'\n",
         "hidden": false,
         "locked": false
        },
        {
         "code": ">>> try:\n...     p3('3/March/2023')\n... except ValueError as e:\n...     assert str(e) == 'Invalid date format or value'\n",
         "hidden": false,
         "locked": false
        }
       ],
       "scored": true,
       "setup": "",
       "teardown": "",
       "type": "doctest"
      }
     ]
    }
   }
  }
 },
 "nbformat": 4,
 "nbformat_minor": 5
}
