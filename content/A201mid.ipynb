{
 "cells": [
  {
   "cell_type": "markdown",
   "id": "27bbf446",
   "metadata": {},
   "source": [
    "# CSCI-A201/597 Introduction to Programming I: \n",
    "# Midterm Exam: Programming Part"
   ]
  },
  {
   "cell_type": "markdown",
   "id": "2b73f76c",
   "metadata": {},
   "source": [
    "* Answer each questions as instructed. \n",
    "\n",
    "* When you finish the exam:\n",
    "    * Step 1: Submit the print-out to intructor/TA.\n",
    "    * Step 2: Save the file.\n",
    "    * Step 3: Download the file `.ipynb`:\n",
    "        * Open a new window in your browser with this link: https://ctshare.github.io/CSCIA201202/tree/.\n",
    "        * You will see the window as the image below. Select the file `**.ipynb` and click botton `Download`. The file will be saved to your device.\n",
    "    * Step 4: Submission to Autograder: https://iu.instructure.com/courses/2284109/assignments/17304220. \n",
    "    \n",
    "<img src=\"plugin/ex01.png\" width=\"350\"/>"
   ]
  },
  {
   "cell_type": "code",
   "execution_count": null,
   "id": "8c14eef7",
   "metadata": {},
   "outputs": [],
   "source": [
    "# Please run this cell before programming!\n",
    "# You will see a button \"Click This Button Before Typing Aything\"==> click the button!\n",
    "from plugin import local_update "
   ]
  },
  {
   "cell_type": "markdown",
   "id": "06a360b7",
   "metadata": {
    "deletable": false,
    "editable": false
   },
   "source": [
    "## p1.(1).  [10 pts]"
   ]
  },
  {
   "cell_type": "code",
   "execution_count": null,
   "id": "9419de41",
   "metadata": {
    "tags": []
   },
   "outputs": [],
   "source": [
    "# finish the program: \n",
    "p1_1 = None"
   ]
  },
  {
   "cell_type": "code",
   "execution_count": null,
   "id": "43b4f8fd",
   "metadata": {
    "otter": {
     "tests": [
      "p1.(1)"
     ]
    },
    "tags": []
   },
   "outputs": [],
   "source": [
    "print(p1_1) # expected to print [5, 6, 7, ...., 9999, 10000]"
   ]
  },
  {
   "cell_type": "markdown",
   "id": "324b8eb1",
   "metadata": {
    "deletable": false,
    "editable": false
   },
   "source": [
    "## p1.(2).  [10 pts]"
   ]
  },
  {
   "cell_type": "code",
   "execution_count": null,
   "id": "72620921",
   "metadata": {
    "tags": []
   },
   "outputs": [],
   "source": [
    "# finish the function:\n",
    "\n",
    "def p1_2(a):\n",
    "    pass"
   ]
  },
  {
   "cell_type": "code",
   "execution_count": null,
   "id": "96f24b14",
   "metadata": {
    "tags": []
   },
   "outputs": [],
   "source": [
    "p1_2(\"HEllo\") # expected to return 1"
   ]
  },
  {
   "cell_type": "code",
   "execution_count": null,
   "id": "1e51b44e",
   "metadata": {
    "tags": []
   },
   "outputs": [],
   "source": [
    "p1_2(\"GOOdbye\") #expected to return 2"
   ]
  },
  {
   "cell_type": "code",
   "execution_count": null,
   "id": "95ede41d",
   "metadata": {
    "tags": []
   },
   "outputs": [],
   "source": [
    "p1_2(\"happy\") #expected to return 0"
   ]
  },
  {
   "cell_type": "code",
   "execution_count": null,
   "id": "25c4f3ad",
   "metadata": {
    "otter": {
     "tests": [
      "p1.(2)"
     ]
    },
    "tags": []
   },
   "outputs": [],
   "source": [
    "p1_2(\"123\") #expected to return 0"
   ]
  },
  {
   "cell_type": "markdown",
   "id": "d80bee7e",
   "metadata": {
    "deletable": false,
    "editable": false
   },
   "source": [
    "## p1.(3).  [10 pts]"
   ]
  },
  {
   "cell_type": "code",
   "execution_count": null,
   "id": "f20b209a",
   "metadata": {
    "tags": []
   },
   "outputs": [],
   "source": [
    "# finish the function:\n",
    "\n",
    "def p1_3(a, b, c):\n",
    "    pass"
   ]
  },
  {
   "cell_type": "code",
   "execution_count": null,
   "id": "511cadae",
   "metadata": {
    "tags": []
   },
   "outputs": [],
   "source": [
    "p1_3(22, 25, 28) # expected to return 0"
   ]
  },
  {
   "cell_type": "code",
   "execution_count": null,
   "id": "8f9e98ad",
   "metadata": {
    "tags": []
   },
   "outputs": [],
   "source": [
    "p1_3(20, 29, 25) # expected to return 0"
   ]
  },
  {
   "cell_type": "code",
   "execution_count": null,
   "id": "654fdade",
   "metadata": {
    "tags": []
   },
   "outputs": [],
   "source": [
    "p1_3(20, 29, 25) # expected to return 0"
   ]
  },
  {
   "cell_type": "code",
   "execution_count": null,
   "id": "6ab90b03",
   "metadata": {
    "tags": []
   },
   "outputs": [],
   "source": [
    "p1_3(10, 15, 30) # expected to return 55"
   ]
  },
  {
   "cell_type": "code",
   "execution_count": null,
   "id": "5a87199a",
   "metadata": {
    "otter": {
     "tests": [
      "p1.(3)"
     ]
    },
    "tags": []
   },
   "outputs": [],
   "source": [
    "p1_3(20, 12, 18) # expected to return  30"
   ]
  },
  {
   "cell_type": "markdown",
   "id": "f85fd1d6",
   "metadata": {
    "deletable": false,
    "editable": false
   },
   "source": [
    "## p1.(4)  [10 pts]"
   ]
  },
  {
   "cell_type": "code",
   "execution_count": null,
   "id": "4763ca29",
   "metadata": {
    "tags": []
   },
   "outputs": [],
   "source": [
    "# finish the function:\n",
    "\n",
    "def p1_4(a, b):\n",
    "    pass"
   ]
  },
  {
   "cell_type": "code",
   "execution_count": null,
   "id": "0e38e919",
   "metadata": {
    "tags": []
   },
   "outputs": [],
   "source": [
    "p1_4(\"abc\", \"abc\") # expected to return 2"
   ]
  },
  {
   "cell_type": "code",
   "execution_count": null,
   "id": "3fa1106a",
   "metadata": {
    "tags": []
   },
   "outputs": [],
   "source": [
    "p1_4(\"abc\", \"xyz\") # expected to return 0"
   ]
  },
  {
   "cell_type": "code",
   "execution_count": null,
   "id": "0a08aa7c",
   "metadata": {
    "tags": []
   },
   "outputs": [],
   "source": [
    "p1_4(\"docatzz\", \"dobatz\") # expected to return 3"
   ]
  },
  {
   "cell_type": "code",
   "execution_count": null,
   "id": "62c6d003",
   "metadata": {
    "tags": []
   },
   "outputs": [],
   "source": [
    "p1_4(\"aaaaaa\", \"aaaa\") # expected to return 3"
   ]
  },
  {
   "cell_type": "code",
   "execution_count": null,
   "id": "e5382ecc",
   "metadata": {
    "otter": {
     "tests": [
      "p1.(4)"
     ]
    },
    "tags": []
   },
   "outputs": [],
   "source": [
    "p1_4(\"\", \"xyz\") # expected to return 0"
   ]
  },
  {
   "cell_type": "code",
   "execution_count": null,
   "id": "10683930",
   "metadata": {},
   "outputs": [],
   "source": []
  },
  {
   "cell_type": "markdown",
   "id": "904cde95",
   "metadata": {
    "deletable": false,
    "editable": false
   },
   "source": [
    "### P2 [20 pts]"
   ]
  },
  {
   "cell_type": "code",
   "execution_count": null,
   "id": "b7e28d0a",
   "metadata": {
    "tags": []
   },
   "outputs": [],
   "source": [
    "# P2 (1)\n",
    "\n",
    "\n",
    "# write your code here\n"
   ]
  },
  {
   "cell_type": "code",
   "execution_count": null,
   "id": "dc18456d",
   "metadata": {
    "tags": []
   },
   "outputs": [],
   "source": [
    "####sample test 2\n",
    "initial, final = 100.0, 100.0\n",
    "inflation_rate(initial, final) # expected to return 0.0"
   ]
  },
  {
   "cell_type": "code",
   "execution_count": null,
   "id": "2d8af411",
   "metadata": {
    "tags": []
   },
   "outputs": [],
   "source": [
    "####sample test 2\n",
    "initial, final = 99.99, 100.01\n",
    "inflation_rate(initial, final) # expected to return 0.02"
   ]
  },
  {
   "cell_type": "code",
   "execution_count": null,
   "id": "c8e6d856",
   "metadata": {
    "tags": []
   },
   "outputs": [],
   "source": [
    "####sample test 3\n",
    "initial, final = 100.0, 80.0\n",
    "inflation_rate(initial, final) # expected to return -20.0"
   ]
  },
  {
   "cell_type": "code",
   "execution_count": null,
   "id": "a834d849",
   "metadata": {
    "tags": []
   },
   "outputs": [],
   "source": [
    "# P2 (2)\n",
    "\n",
    "\n",
    "# write your code here\n"
   ]
  },
  {
   "cell_type": "code",
   "execution_count": null,
   "id": "267c0a99",
   "metadata": {
    "tags": []
   },
   "outputs": [],
   "source": [
    "####sample test 1\n",
    "my_data = [[23.5, 24.00], [24.0, 24.25], [24.25, 24.38]]\n",
    "average_inflation_rate(my_data) # expected to return 1.24"
   ]
  },
  {
   "cell_type": "code",
   "execution_count": null,
   "id": "550cf1b8",
   "metadata": {
    "tags": []
   },
   "outputs": [],
   "source": [
    "####sample test 2\n",
    "data1 = [[23.5, 24.0], [24.0, 24.25], [24.25, 24.38], [24.38, 24.75]]\n",
    "average_inflation_rate(data1) # expected to return 1.31"
   ]
  },
  {
   "cell_type": "code",
   "execution_count": null,
   "id": "475176bd",
   "metadata": {
    "otter": {
     "tests": [
      "p2"
     ]
    },
    "tags": []
   },
   "outputs": [],
   "source": [
    "####sample test 3\n",
    "data2 = [[25.0, 25.0], [24.0, 24.0], [30.0, 30.0], [27.0, 27.0], [50.0, 50.0]]\n",
    "average_inflation_rate(data2) # expected to return 0.00"
   ]
  },
  {
   "cell_type": "markdown",
   "id": "6f7109d3",
   "metadata": {
    "deletable": false,
    "editable": false
   },
   "source": [
    "## p3  [10 pts]"
   ]
  },
  {
   "cell_type": "code",
   "execution_count": null,
   "id": "df46ca19",
   "metadata": {
    "tags": []
   },
   "outputs": [],
   "source": [
    "# write your code here:\n",
    "\n",
    "\n",
    "\n"
   ]
  },
  {
   "cell_type": "code",
   "execution_count": null,
   "id": "56570aaf",
   "metadata": {
    "tags": []
   },
   "outputs": [],
   "source": [
    "# sample test 1: \n",
    "attendance_award(\"PPALLP\") # expected to return True "
   ]
  },
  {
   "cell_type": "code",
   "execution_count": null,
   "id": "c17ab875",
   "metadata": {
    "tags": []
   },
   "outputs": [],
   "source": [
    "# sample test 2: \n",
    "attendance_award(\"PPALLL\") # expected to return False "
   ]
  },
  {
   "cell_type": "code",
   "execution_count": null,
   "id": "7a8524e3",
   "metadata": {
    "otter": {
     "tests": [
      "p3"
     ]
    },
    "tags": []
   },
   "outputs": [],
   "source": [
    "# sample test 3: \n",
    "attendance_award(\"PPPP\") # expected to return False "
   ]
  },
  {
   "cell_type": "code",
   "execution_count": null,
   "id": "9c2276f0",
   "metadata": {},
   "outputs": [],
   "source": []
  },
  {
   "cell_type": "markdown",
   "id": "68bf3318",
   "metadata": {
    "deletable": false,
    "editable": false
   },
   "source": [
    "## p4  [10 pts]"
   ]
  },
  {
   "cell_type": "code",
   "execution_count": null,
   "id": "13229f70",
   "metadata": {
    "tags": []
   },
   "outputs": [],
   "source": [
    "# write your code here:\n",
    "\n",
    "\n",
    "\n"
   ]
  },
  {
   "cell_type": "code",
   "execution_count": null,
   "id": "f5fd5bfc",
   "metadata": {
    "tags": []
   },
   "outputs": [],
   "source": [
    "print(factorial(0)) # Expected output: 1\n",
    "print(factorial(1)) # Expected output: 1\n",
    "print(factorial(3)) # Expected output: 6\n",
    "print(factorial(5)) # Expected output: 120\n",
    "print(factorial(20)) # Expected output: 2432902008176640000"
   ]
  },
  {
   "cell_type": "code",
   "execution_count": null,
   "id": "4d49deff",
   "metadata": {
    "tags": []
   },
   "outputs": [],
   "source": [
    "print(sum_multiples_35(10))  # Expected output: 23\n",
    "print(sum_multiples_35(4))   # Expected output: 3\n",
    "print(sum_multiples_35(3))   # Expected output: 0\n",
    "print(sum_multiples_35(1))   # Expected output: 0"
   ]
  },
  {
   "cell_type": "code",
   "execution_count": null,
   "id": "0aa94b0f",
   "metadata": {
    "otter": {
     "tests": [
      "p4"
     ]
    },
    "tags": []
   },
   "outputs": [],
   "source": [
    "print(calculator(factorial, 5))                # Expected output: 120\n",
    "print(calculator(sum_multiples_35, 5))         # Expected output: 3\n",
    "print(calculator(factorial, 1))                # Expected output: 1\n",
    "print(calculator(sum_multiples_35, 1))         # Expected output: 0\n",
    "print(calculator(lambda n: n**2, 5))           # Expected output: 25\n",
    "print(calculator(lambda n: n**2, 1))           # Expected output: 1"
   ]
  },
  {
   "cell_type": "markdown",
   "id": "c7c8d11a",
   "metadata": {
    "deletable": false,
    "editable": false
   },
   "source": [
    "## p5  [10 pts]"
   ]
  },
  {
   "cell_type": "code",
   "execution_count": null,
   "id": "984bb140",
   "metadata": {
    "tags": []
   },
   "outputs": [],
   "source": [
    "# write your code here:\n",
    "\n",
    "\n",
    "\n"
   ]
  },
  {
   "cell_type": "code",
   "execution_count": null,
   "id": "e4042634",
   "metadata": {
    "tags": []
   },
   "outputs": [],
   "source": [
    "############sample test 1: \n",
    "m1 = [[1, 2, 3],\n",
    "       [4, 5, 6]]\n",
    "m1t = [[1, 4], \n",
    "       [2, 5], \n",
    "       [3, 6]]\n",
    "transpose(m1) == m1t # Expected output: True"
   ]
  },
  {
   "cell_type": "code",
   "execution_count": null,
   "id": "7a9a7d2e",
   "metadata": {
    "tags": []
   },
   "outputs": [],
   "source": [
    "#############sample test 2: \n",
    "m2 = [[1, 2],\n",
    "       [4, 5]]\n",
    "m2t = [[1, 4], \n",
    "         [2, 5]]\n",
    "transpose(m2) == m2t # Expected output: True"
   ]
  },
  {
   "cell_type": "code",
   "execution_count": null,
   "id": "d68ce0cf",
   "metadata": {
    "tags": []
   },
   "outputs": [],
   "source": [
    "#############sample test 3: \n",
    "m3 = [[1]]\n",
    "m3t = [[1]]\n",
    "transpose(m3) == m3t # Expected output: True"
   ]
  },
  {
   "cell_type": "code",
   "execution_count": null,
   "id": "062b06ec",
   "metadata": {
    "otter": {
     "tests": [
      "p5"
     ]
    },
    "tags": []
   },
   "outputs": [],
   "source": [
    "#############sample test 4: \n",
    "m4 = [[1, 2]]\n",
    "m4t = [[1], [2]]\n",
    "transpose(m4) == m4t # Expected output: True"
   ]
  },
  {
   "cell_type": "code",
   "execution_count": null,
   "id": "405a369e",
   "metadata": {},
   "outputs": [],
   "source": []
  }
 ],
 "metadata": {
  "celltoolbar": "Edit Metadata",
  "kernelspec": {
   "display_name": "Python 3 (ipykernel)",
   "language": "python",
   "name": "python3"
  },
  "language_info": {
   "codemirror_mode": {
    "name": "ipython",
    "version": 3
   },
   "file_extension": ".py",
   "mimetype": "text/x-python",
   "name": "python",
   "nbconvert_exporter": "python",
   "pygments_lexer": "ipython3",
   "version": "3.10.9"
  },
  "otter": {
   "OK_FORMAT": true,
   "tests": {
    "p1.(1)": {
     "name": "p1.(1)",
     "points": 10,
     "suites": [
      {
       "cases": [
        {
         "code": ">>> def check_p1_1():\n...     assert isinstance(p1_1, list), 'not a list'\n...     assert len(p1_1) == 9996\n...     for i in range(5, 10001):\n...         assert i in p1_1, '{i} should be included'\n>>> check_p1_1()\n",
         "hidden": false,
         "locked": false
        }
       ],
       "scored": true,
       "setup": "",
       "teardown": "",
       "type": "doctest"
      }
     ]
    },
    "p1.(2)": {
     "name": "p1.(2)",
     "points": 10,
     "suites": [
      {
       "cases": [
        {
         "code": ">>> assert p1_2('AEIOU') == 5, 'Test Case 1 Failed'\n",
         "hidden": false,
         "locked": false
        },
        {
         "code": ">>> assert p1_2('HELLO WORLD') == 3, 'Test Case 2 Failed'\n",
         "hidden": false,
         "locked": false
        },
        {
         "code": ">>> assert p1_2('BCDFG') == 0, 'Test Case 3 Failed'\n",
         "hidden": false,
         "locked": false
        },
        {
         "code": ">>> assert p1_2('') == 0, 'Test Case 4 Failed'\n",
         "hidden": false,
         "locked": false
        },
        {
         "code": ">>> assert p1_2('HEllo') == 1, 'Test Case 5 Failed'\n",
         "hidden": false,
         "locked": false
        },
        {
         "code": ">>> assert p1_2('happy') == 0, 'Test Case 6 Failed'\n",
         "hidden": false,
         "locked": false
        },
        {
         "code": ">>> assert p1_2('SUNNY') == 1, 'Test Case 7 Failed'\n",
         "hidden": false,
         "locked": false
        },
        {
         "code": ">>> assert p1_2('123') == 0, 'Test Case 8 Failed'\n",
         "hidden": false,
         "locked": false
        },
        {
         "code": ">>> assert p1_2('BCDFGHJKLMNPQRSTVWXYZ' * 100) == 0, 'Test Case 9 Failed'\n",
         "hidden": false,
         "locked": false
        }
       ],
       "scored": true,
       "setup": "",
       "teardown": "",
       "type": "doctest"
      }
     ]
    },
    "p1.(3)": {
     "name": "p1.(3)",
     "points": 10,
     "suites": [
      {
       "cases": [
        {
         "code": ">>> assert p1_3(22, 25, 28) == 0, 'Test Case 1 Failed'\n",
         "hidden": false,
         "locked": false
        },
        {
         "code": ">>> assert p1_3(20, 29, 25) == 0\n",
         "hidden": false,
         "locked": false
        },
        {
         "code": ">>> assert p1_3(10, 15, 30) == 55, 'Test Case 3 Failed'\n",
         "hidden": false,
         "locked": false
        },
        {
         "code": ">>> assert p1_3(20, 21, 29) == 0, 'Test Case 4 Failed'\n",
         "hidden": false,
         "locked": false
        },
        {
         "code": ">>> assert p1_3(20, 12, 18) == 30, 'Test Case 5 Failed'\n",
         "hidden": false,
         "locked": false
        },
        {
         "code": ">>> assert p1_3(20, 25, 50) == 50, 'Test Case 6 Failed'\n",
         "hidden": false,
         "locked": false
        },
        {
         "code": ">>> assert p1_3(5, 15, 35) == 55, 'Test Case 7 Failed'\n",
         "hidden": false,
         "locked": false
        }
       ],
       "scored": true,
       "setup": "",
       "teardown": "",
       "type": "doctest"
      }
     ]
    },
    "p1.(4)": {
     "name": "p1.(4)",
     "points": 10,
     "suites": [
      {
       "cases": [
        {
         "code": ">>> assert p1_4('abc', 'abc') == 2, f\"Failed Test Case 1: p1_4('abc', 'abc') should return 2\"\n",
         "hidden": false,
         "locked": false
        },
        {
         "code": ">>> assert p1_4('abc', 'xyz') == 0, f\"Failed Test Case 2: p1_4('abc', 'xyz') should return 0\"\n",
         "hidden": false,
         "locked": false
        },
        {
         "code": ">>> assert p1_4('aabbcc', 'abbcdd') == 0, f\"Failed Test Case 3: p1_4('aabbcc', 'abbcdd') should return 0\"\n",
         "hidden": false,
         "locked": false
        },
        {
         "code": ">>> assert p1_4('abc', 'ab') == 1, f\"Failed Test Case 4: p1_4('abc', 'ab') should return 1\"\n",
         "hidden": false,
         "locked": false
        },
        {
         "code": ">>> assert p1_4('', 'xyz') == 0, f\"Failed Test Case 5: p1_4('', 'xyz') should return 0\"\n",
         "hidden": false,
         "locked": false
        },
        {
         "code": ">>> assert p1_4('abcdefgh', 'ijklmnop') == 0, f\"Failed Test Case 6: p1_4('abcdefgh', 'ijklmnop') should return 0\"\n",
         "hidden": false,
         "locked": false
        },
        {
         "code": ">>> assert p1_4('abcde', 'abcfg') == 2, f\"Failed Test Case 7: p1_4('abcde', 'abcfg') should return 2\"\n",
         "hidden": false,
         "locked": false
        },
        {
         "code": ">>> assert p1_4('xyzabc', 'pqrabc') == 2, f\"Failed Test Case 8: p1_4('xyzabc', 'pqrabc') should return 2\"\n",
         "hidden": false,
         "locked": false
        },
        {
         "code": ">>> assert p1_4('abcdef', '123def') == 2, f\"Failed Test Case 9: p1_4('abcdef', '123def') should return 2\"\n",
         "hidden": false,
         "locked": false
        },
        {
         "code": ">>> assert p1_4('aaaaaa', 'aaaa') == 3, f\"Failed Test Case 10: p1_4('aaaaaa', 'aaaa') should return 3\"\n",
         "hidden": false,
         "locked": false
        }
       ],
       "scored": true,
       "setup": "",
       "teardown": "",
       "type": "doctest"
      }
     ]
    },
    "p2": {
     "name": "p2",
     "points": 20,
     "suites": [
      {
       "cases": [
        {
         "code": ">>> initial = 100.0\n>>> final = 100.0\n>>> assert inflation_rate(initial, final) == 0.0, f'Expected 0.0, but got {inflation_rate(initial, final)}'\n",
         "hidden": false,
         "locked": false
        },
        {
         "code": ">>> initial = 100.0\n>>> final = 120.0\n>>> assert inflation_rate(initial, final) == 20.0, f'Expected 20.0, but got {inflation_rate(initial, final)}'\n",
         "hidden": false,
         "locked": false
        },
        {
         "code": ">>> initial = 100.0\n>>> final = 80.0\n>>> assert inflation_rate(initial, final) == -20.0, f'Expected -20.0, but got {inflation_rate(initial, final)}'\n",
         "hidden": false,
         "locked": false
        },
        {
         "code": ">>> initial = 50.0\n>>> final = 150.0\n>>> assert inflation_rate(initial, final) == 200.0, f'Expected 200.0, but got {inflation_rate(initial, final)}'\n",
         "hidden": false,
         "locked": false
        },
        {
         "code": ">>> initial = 99.99\n>>> final = 100.01\n>>> assert inflation_rate(initial, final) == 0.02, f'Expected 0.02, but got {inflation_rate(initial, final)}'\n",
         "hidden": false,
         "locked": false
        },
        {
         "code": ">>> initial = 1000.0\n>>> final = 100.0\n>>> assert inflation_rate(initial, final) == -90.0, f'Expected -90.0, but got {inflation_rate(initial, final)}'\n",
         "hidden": false,
         "locked": false
        },
        {
         "code": ">>> initial = 1000.0\n>>> final = 999.99\n>>> assert inflation_rate(initial, final) == 0.0\n",
         "hidden": false,
         "locked": false
        },
        {
         "code": ">>> my_data = [[23.5, 24.0], [24.0, 24.25], [24.25, 24.38], [24.38, 24.75]]\n>>> assert average_inflation_rate(my_data) == 1.31\n",
         "hidden": false,
         "locked": false
        },
        {
         "code": ">>> my_data = [[23.5, 24.0], [24.0, 24.25], [24.25, 24.38]]\n>>> assert average_inflation_rate(my_data) == 1.24\n",
         "hidden": false,
         "locked": false
        },
        {
         "code": ">>> my_data = [[25.0, 25.0], [24.0, 24.0], [30.0, 30.0], [27.0, 27.0], [50.0, 50.0]]\n>>> assert average_inflation_rate(my_data) == 0.0, 'Test Case 2 Failed'\n",
         "hidden": false,
         "locked": false
        },
        {
         "code": ">>> my_data = [[30.0, 28.0], [25.0, 24.0], [40.0, 35.0], [50.0, 55.0], [60.0, 70.0], [80.0, 90.0]]\n>>> assert average_inflation_rate(my_data) == 2.67, 'Test Case 3 Failed'\n",
         "hidden": false,
         "locked": false
        },
        {
         "code": ">>> my_data = [[50.0, 55.0], [55.0, 52.0], [52.0, 60.0], [60.0, 58.0], [58.0, 62.0]]\n>>> assert average_inflation_rate(my_data) == 4.7, 'Test Case 5 Failed'\n",
         "hidden": false,
         "locked": false
        },
        {
         "code": ">>> my_data = [[1000.0, 1200.0], [1200.0, 1000.0], [1000.0, 1500.0], [1500.0, 1300.0], [1300.0, 1700.0], [1700.0, 1600.0], [1600.0, 2000.0]]\n>>> assert average_inflation_rate(my_data) == 12.84, 'Test Case 6 Failed'\n",
         "hidden": false,
         "locked": false
        },
        {
         "code": ">>> my_data = [[1000.0, 1000.01], [1000.01, 1000.02], [1000.02, 1000.03], [1000.03, 1000.04], [1000.04, 1000.05]]\n>>> assert average_inflation_rate(my_data) == 0.0, 'Edge Case Failed'\n",
         "hidden": false,
         "locked": false
        }
       ],
       "scored": true,
       "setup": "",
       "teardown": "",
       "type": "doctest"
      }
     ]
    },
    "p3": {
     "name": "p3",
     "points": 10,
     "suites": [
      {
       "cases": [
        {
         "code": ">>> assert attendance_award('PPALLP') == True, f\"Test failed: Expected attendance_award('PPALLP') to be True, but got {attendance_award('PPALLP')}\"\n",
         "hidden": false,
         "locked": false
        },
        {
         "code": ">>> assert attendance_award('PPALLL') == False, f\"Test failed: Expected attendance_award('PPALLL') to be False, but got {attendance_award('PPALLL')}\"\n",
         "hidden": false,
         "locked": false
        },
        {
         "code": ">>> assert attendance_award('PPPPP') == True, f\"Test failed: Expected attendance_award('PPPPP') to be True, but got {attendance_award('PPPPP')}\"\n",
         "hidden": false,
         "locked": false
        },
        {
         "code": ">>> assert attendance_award('PPLLLPP') == False, f\"Test failed: Expected attendance_award('PPLLLPP') to be False, but got {attendance_award('PPLLLPP')}\"\n",
         "hidden": false,
         "locked": false
        },
        {
         "code": ">>> assert attendance_award('PPAALLP') == False, f\"Test failed: Expected attendance_award('PPAALLP') to be False, but got {attendance_award('PPAALLP')}\"\n",
         "hidden": false,
         "locked": false
        },
        {
         "code": ">>> assert attendance_award('PPALPP') == True, f\"Test failed: Expected attendance_award('PPALPP') to be True, but got {attendance_award('PPALPP')}\"\n",
         "hidden": false,
         "locked": false
        },
        {
         "code": ">>> assert attendance_award('AAAPP') == False, f\"Test failed: Expected attendance_award('AAAPP') to be False, but got {attendance_award('AAAPP')}\"\n",
         "hidden": false,
         "locked": false
        },
        {
         "code": ">>> assert attendance_award('PLPLPLPL') == True, f\"Test failed: Expected attendance_award('PLPLPLPL') to be True, but got {attendance_award('PLPLPLPL')}\"\n",
         "hidden": false,
         "locked": false
        },
        {
         "code": ">>> assert attendance_award('PPLLLLLP') == False, f\"Test failed: Expected attendance_award('PPLLLLLP') to be False, but got {attendance_award('PPLLLLLP')}\"\n",
         "hidden": false,
         "locked": false
        },
        {
         "code": ">>> assert attendance_award('PPALLPPL') == True, f\"Test failed: Expected attendance_award('PPALLPPL') to be True, but got {attendance_award('PPALLPPL')}\"\n",
         "hidden": false,
         "locked": false
        },
        {
         "code": ">>> assert attendance_award('PPPP') == False\n",
         "hidden": false,
         "locked": false
        },
        {
         "code": ">>> assert attendance_award('PPPPP') == True\n",
         "hidden": false,
         "locked": false
        },
        {
         "code": ">>> long_string_no_absences = 'P' * 1000 + 'L' * 2 + 'P' * 1000\n>>> assert attendance_award(long_string_no_absences) == True, f'Test failed: Expected attendance_award(long_string_no_absences) to be True, but got {attendance_award(long_string_no_absences)}'\n",
         "hidden": false,
         "locked": false
        },
        {
         "code": ">>> long_string_three_consecutive_lates = 'P' * 1000 + 'LLL' + 'P' * 1000\n>>> assert attendance_award(long_string_three_consecutive_lates) == False, f'Test failed: Expected attendance_award(long_string_three_consecutive_lates) to be False, but got {attendance_award(long_string_three_consecutive_lates)}'\n",
         "hidden": false,
         "locked": false
        }
       ],
       "scored": true,
       "setup": "",
       "teardown": "",
       "type": "doctest"
      }
     ]
    },
    "p4": {
     "name": "p4",
     "points": 30,
     "suites": [
      {
       "cases": [
        {
         "code": ">>> assert factorial(1) == 1, f'Test failed: Expected factorial(1) to be 1, but got {factorial(1)}'\n",
         "hidden": false,
         "locked": false
        },
        {
         "code": ">>> assert factorial(5) == 120, f'Test failed: Expected factorial(5) to be 120, but got {factorial(5)}'\n",
         "hidden": false,
         "locked": false
        },
        {
         "code": ">>> assert factorial(10) == 3628800, f'Test failed: Expected factorial(10) to be 3628800, but got {factorial(10)}'\n",
         "hidden": false,
         "locked": false
        },
        {
         "code": ">>> assert factorial(20) == 2432902008176640000, f'Test failed: Expected factorial(20) to be 2432902008176640000, but got {factorial(20)}'\n",
         "hidden": false,
         "locked": false
        },
        {
         "code": ">>> assert factorial(3) == 6, f'Test failed: Expected factorial(3) to be 6, but got {factorial(3)}'\n",
         "hidden": false,
         "locked": false
        },
        {
         "code": ">>> assert factorial(15) == 1307674368000, f'Test failed: Expected factorial(15) to be 1307674368000, but got {factorial(15)}'\n",
         "hidden": false,
         "locked": false
        },
        {
         "code": ">>> assert factorial(17) == 355687428096000, f'Test failed: Expected factorial(17) to be 355687428096000, but got {factorial(17)}'\n",
         "hidden": false,
         "locked": false
        },
        {
         "code": ">>> assert factorial(23) == 25852016738884976640000, f'Test failed: Expected factorial(23) to be 25852016738884976640000, but got {factorial(23)}'\n",
         "hidden": false,
         "locked": false
        },
        {
         "code": ">>> assert factorial(30) == 265252859812191058636308480000000, f'Test failed: Expected factorial(30) to be 265252859812191058636308480000000, but got {factorial(30)}'\n",
         "hidden": false,
         "locked": false
        },
        {
         "code": ">>> assert sum_multiples_35(1) == 0, f'Test failed: Expected sum_multiples_35(1) to be 0, but got {sum_multiples_35(1)}'\n",
         "hidden": false,
         "locked": false
        },
        {
         "code": ">>> assert sum_multiples_35(3) == 0, f'Test failed: Expected sum_multiples_35(3) to be 0, but got {sum_multiples_35(3)}'\n",
         "hidden": false,
         "locked": false
        },
        {
         "code": ">>> assert sum_multiples_35(2) == 0, f'Test failed: Expected sum_multiples_35(2) to be 0, but got {sum_multiples_35(2)}'\n",
         "hidden": false,
         "locked": false
        },
        {
         "code": ">>> assert sum_multiples_35(4) == 3, f'Test failed: Expected sum_multiples_35(4) to be 3, but got {sum_multiples_35(3)}'\n",
         "hidden": false,
         "locked": false
        },
        {
         "code": ">>> assert sum_multiples_35(6) == 8, f'Test failed: Expected sum_multiples_35(6) to be 8, but got {sum_multiples_35(6)}'\n",
         "hidden": false,
         "locked": false
        },
        {
         "code": ">>> assert sum_multiples_35(10) == 23, f'Test failed: Expected sum_multiples_35(10) to be 23, but got {sum_multiples_35(10)}'\n",
         "hidden": false,
         "locked": false
        },
        {
         "code": ">>> assert sum_multiples_35(15) == 45, f'Test failed: Expected sum_multiples_35(15) to be 45, but got {sum_multiples_35(15)}'\n",
         "hidden": false,
         "locked": false
        },
        {
         "code": ">>> assert sum_multiples_35(50) == 543, f'Test failed: Expected sum_multiples_35(50) to be 543, but got {sum_multiples_35(50)}'\n",
         "hidden": false,
         "locked": false
        },
        {
         "code": ">>> assert sum_multiples_35(100) == 2318, f'Test failed: Expected sum_multiples_35(100) to be 2318, but got {sum_multiples_35(100)}'\n",
         "hidden": false,
         "locked": false
        },
        {
         "code": ">>> assert calculator(factorial, 5) == 120, f'Test failed: Expected calculator(factorial, 5) to return 120, but got {calculator(factorial, 5)}'\n",
         "hidden": false,
         "locked": false
        },
        {
         "code": ">>> assert calculator(sum_multiples_35, 5) == 3, f'Test failed: Expected calculator(sum_multiples_35, 5) to return 3, but got {calculator(sum_multiples_35, 5)}'\n",
         "hidden": false,
         "locked": false
        },
        {
         "code": ">>> assert calculator(factorial, 1) == 1, f'Test failed: Expected calculator(factorial, 1) to return 1, but got {calculator(factorial, 1)}'\n",
         "hidden": false,
         "locked": false
        },
        {
         "code": ">>> assert calculator(sum_multiples_35, 1) == 0, f'Test failed: Expected calculator(sum_multiples_35, 1) to return 0, but got {calculator(sum_multiples_35, 1)}'\n",
         "hidden": false,
         "locked": false
        },
        {
         "code": ">>> assert calculator(factorial, 10) == 3628800, f'Test failed: Expected calculator(factorial, 10) to return 3628800, but got {calculator(factorial, 10)}'\n",
         "hidden": false,
         "locked": false
        },
        {
         "code": ">>> assert calculator(lambda n: n + 10, 5) == 15, f'Test failed: Expected calculator(lambda n: n + 10, 5) to return 15, but got {calculator(lambda n: n + 10, 5)}'\n",
         "hidden": false,
         "locked": false
        },
        {
         "code": ">>> assert calculator(lambda n: n * 3, 7) == 21, f'Test failed: Expected calculator(lambda n: n * 3, 7) to return 21, but got {calculator(lambda n: n * 3, 7)}'\n",
         "hidden": false,
         "locked": false
        },
        {
         "code": ">>> assert calculator(lambda n: n ** 3, 4) == 64, f'Test failed: Expected calculator(lambda n: n ** 3, 4) to return 64, but got {calculator(lambda n: n ** 3, 4)}'\n",
         "hidden": false,
         "locked": false
        },
        {
         "code": ">>> assert calculator(lambda n: n % 2, 9) == 1, f'Test failed: Expected calculator(lambda n: n % 2, 9) to return 1, but got {calculator(lambda n: n % 2, 9)}'\n",
         "hidden": false,
         "locked": false
        },
        {
         "code": ">>> assert calculator(lambda n: n ** 2 + 2 * n + 6, 10) == 126\n",
         "hidden": false,
         "locked": false
        },
        {
         "code": ">>> assert calculator(lambda n: 2 * n ** 3 + 2 * n + 6, 10) == 2026\n",
         "hidden": false,
         "locked": false
        },
        {
         "code": ">>> assert calculator(lambda n: n % 2 == 0, 8) == True, f'Test failed: Expected calculator(lambda n: n % 2 == 0, 8) to return True, but got {calculator(lambda n: n % 2 == 0, 8)}'\n",
         "hidden": false,
         "locked": false
        }
       ],
       "scored": true,
       "setup": "",
       "teardown": "",
       "type": "doctest"
      }
     ]
    },
    "p5": {
     "name": "p5",
     "points": 10,
     "suites": [
      {
       "cases": [
        {
         "code": ">>> original_matrix_1 = [[1, 2, 3], [4, 5, 6], [7, 8, 9]]\n>>> expected_output_1 = [[1, 4, 7], [2, 5, 8], [3, 6, 9]]\n>>> assert transpose(original_matrix_1) == expected_output_1\n",
         "hidden": false,
         "locked": false
        },
        {
         "code": ">>> original_matrix_2 = [[1, 2], [3, 4], [5, 6]]\n>>> expected_output_2 = [[1, 3, 5], [2, 4, 6]]\n>>> assert transpose(original_matrix_2) == expected_output_2\n",
         "hidden": false,
         "locked": false
        },
        {
         "code": ">>> original_matrix_3 = [[1, 2, 3], [4, 5, 6]]\n>>> expected_output_3 = [[1, 4], [2, 5], [3, 6]]\n>>> assert transpose(original_matrix_3) == expected_output_3\n",
         "hidden": false,
         "locked": false
        },
        {
         "code": ">>> original_matrix_4 = [[42]]\n>>> expected_output_4 = [[42]]\n>>> assert transpose(original_matrix_4) == expected_output_4\n",
         "hidden": false,
         "locked": false
        },
        {
         "code": ">>> original_matrix_5 = [[]]\n>>> expected_output_5 = [[]]\n>>> assert transpose(original_matrix_5) == expected_output_5\n",
         "hidden": false,
         "locked": false
        },
        {
         "code": ">>> original_matrix_6 = [[1, 2, 3]]\n>>> expected_output_6 = [[1], [2], [3]]\n>>> assert transpose(original_matrix_6) == expected_output_6\n",
         "hidden": false,
         "locked": false
        },
        {
         "code": ">>> original_matrix_7 = [[1], [2], [3]]\n>>> expected_output_7 = [[1, 2, 3]]\n>>> assert transpose(original_matrix_7) == expected_output_7\n",
         "hidden": false,
         "locked": false
        },
        {
         "code": ">>> original_matrix_7 = [[1]]\n>>> expected_output_7 = [[1]]\n>>> assert transpose(original_matrix_7) == expected_output_7\n",
         "hidden": false,
         "locked": false
        }
       ],
       "scored": true,
       "setup": "",
       "teardown": "",
       "type": "doctest"
      }
     ]
    }
   }
  }
 },
 "nbformat": 4,
 "nbformat_minor": 5
}
