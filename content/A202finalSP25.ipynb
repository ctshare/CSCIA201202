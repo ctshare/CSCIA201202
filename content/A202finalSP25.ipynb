{
 "cells": [
  {
   "cell_type": "markdown",
   "id": "27bbf446",
   "metadata": {},
   "source": [
    "# CSCI-A202/598 Introduction to Programming II: \n",
    "# Midterm I: Programming Part"
   ]
  },
  {
   "cell_type": "markdown",
   "id": "2b73f76c",
   "metadata": {},
   "source": [
    "* Answer each questions as instructed. \n",
    "\n",
    "* When you finish the exam:\n",
    "    * Step 1: Submit the print-out to intructor/TA.\n",
    "    * Step 2: Save the file.\n",
    "    * Step 3: Download the file `.ipynb`:\n",
    "    * Step 4: Submission to Autograder: https://iu.instructure.com/courses/2249164/assignments/16824705. "
   ]
  },
  {
   "cell_type": "markdown",
   "id": "06a360b7",
   "metadata": {
    "deletable": false,
    "editable": false
   },
   "source": [
    "## p1 [10 pts]\n",
    "\n",
    "**You Again**\n",
    "\n",
    "Implement `again`, which takes a function `f` as an argument. The `again` function returns the smallest non-negative integer `n` for which `f(n)` is equal to `f(m)` for some non-negative `m` that is less than `n`. Assume that `f` takes non-negative integers and returns the same value for at least two different non-negative arguments.\n",
    "\n",
    "Constraints:\n",
    "* Lines numbered 2, 4, and 5 must begin with either `while` or `if`.\n",
    "* Lines numbered 6 and 7 must contain either `return` or `=`."
   ]
  },
  {
   "cell_type": "code",
   "execution_count": null,
   "id": "9419de41",
   "metadata": {
    "tags": []
   },
   "outputs": [],
   "source": [
    "def parabola(x):\n",
    "    \"\"\"A parabola function (for testing the again function).\"\"\"\n",
    "    return (x - 3) * (x - 6)\n",
    "\n",
    "def vee(x):\n",
    "    \"\"\"A V-shaped function (for testing the again function).\"\"\"\n",
    "    return abs(x - 2)\n",
    "\n",
    "def again(f):\n",
    "    \"\"\"\n",
    "    Return the smallest non-negative integer n such that f(n) == f(m) for some m < n.\n",
    "    \"\"\"\n",
    "    n = 1\n",
    "    # finish the program by replace the underline with your code:\n",
    "    _______________\n",
    "        m = 0\n",
    "        ___________________\n",
    "        ___________________\n",
    "        ___________________\n",
    "        ___________________\n",
    "        n += 1"
   ]
  },
  {
   "cell_type": "code",
   "execution_count": null,
   "id": "d924cf6a",
   "metadata": {
    "tags": []
   },
   "outputs": [],
   "source": [
    "again(parabola)  # parabola(4) == parabola(5)\n",
    "# expected to return 5"
   ]
  },
  {
   "cell_type": "code",
   "execution_count": null,
   "id": "08efe416",
   "metadata": {
    "otter": {
     "tests": [
      "p1"
     ]
    },
    "tags": []
   },
   "outputs": [],
   "source": [
    "again(vee)  # vee(1) == vee(3)\n",
    "# expected to return 3"
   ]
  },
  {
   "cell_type": "markdown",
   "id": "8f32083d",
   "metadata": {},
   "source": [
    "## P2 [40 pts]\n",
    "**UP AND DOWN**\n",
    "\n",
    "Definition. Two adjacent digits in a non-negative integer are an **increase** if the left digit is smaller than the right digit, and a **decrease** if the left digit is larger than the right digit.\n",
    "\n",
    "For example, 61127 has 2 increases (1 → 2 and 2 → 7) and 1 decrease (6 → 1).\n",
    "\n",
    "You may use the sign function defined below in all parts of this question."
   ]
  },
  {
   "cell_type": "code",
   "execution_count": null,
   "id": "5ef1380b",
   "metadata": {},
   "outputs": [],
   "source": [
    "def sign(x):\n",
    "    \"\"\"Returns the sign of x: 1 for positive, -1 for negative, and 0 for zero.\"\"\"\n",
    "    if x > 0:\n",
    "        return 1\n",
    "    elif x < 0:\n",
    "        return -1\n",
    "    else:\n",
    "        return 0"
   ]
  },
  {
   "cell_type": "markdown",
   "id": "324b8eb1",
   "metadata": {
    "deletable": false,
    "editable": false
   },
   "source": [
    "### p2.(1)  [10 pts]\n",
    "\n",
    "Implement `ramp`, which takes a non-negative integer `n` and returns whether it has more increases than decreases when reading its digits from left to right (see the definition above)."
   ]
  },
  {
   "cell_type": "code",
   "execution_count": null,
   "id": "905e8391",
   "metadata": {
    "tags": []
   },
   "outputs": [],
   "source": [
    "def ramp(n):\n",
    "    \"\"\"\n",
    "    Return whether non-negative integer N has more increases than decreases.\n",
    "    \"\"\"\n",
    "    # finish the function by replace the underlines with your code:\n",
    "    n, last, tally = ______, _______, ________\n",
    "    while n:\n",
    "        n, last, tally = _____, ______, ________\n",
    "    return ________"
   ]
  },
  {
   "cell_type": "code",
   "execution_count": null,
   "id": "aedfee99",
   "metadata": {
    "tags": []
   },
   "outputs": [],
   "source": [
    "ramp(123)   # 2 increases (1 -> 2, 2 -> 3) and 0 decreases\n",
    "# expected to return True"
   ]
  },
  {
   "cell_type": "code",
   "execution_count": null,
   "id": "9c49e570",
   "metadata": {
    "tags": []
   },
   "outputs": [],
   "source": [
    "ramp(1315)  # 2 increases (1 -> 3, 1 -> 5) and 1 decrease (3 -> 1)\n",
    "# expected to return True"
   ]
  },
  {
   "cell_type": "code",
   "execution_count": null,
   "id": "6ac0a54d",
   "metadata": {
    "tags": []
   },
   "outputs": [],
   "source": [
    "ramp(176) # 1 increase (1 -> 7) and 1 decrease (7 -> 6)\n",
    "# expected to return False"
   ]
  },
  {
   "cell_type": "code",
   "execution_count": null,
   "id": "22925e62",
   "metadata": {
    "otter": {
     "tests": [
      "p2.(1)"
     ]
    },
    "tags": []
   },
   "outputs": [],
   "source": [
    "ramp(5) # 0 increase and 0 decrease\n",
    "# expected to return False"
   ]
  },
  {
   "cell_type": "markdown",
   "id": "d80bee7e",
   "metadata": {
    "deletable": false,
    "editable": false
   },
   "source": [
    "### p2.(2).  [10 pts]\n",
    "\n",
    "Implement `over_under`, which takes a number `y` and returns a function that takes a number `x`. This function returns 1 if `x` is greater than `y`, 0 if `x` equals `y`, and -1 if `x` is less than `y`.\n",
    "\n",
    "* You may not use `if`, `and`, or `or`.\n",
    "* Hint: `lambda`"
   ]
  },
  {
   "cell_type": "code",
   "execution_count": null,
   "id": "9f45ebc1",
   "metadata": {
    "tags": []
   },
   "outputs": [],
   "source": [
    "def over_under(y):\n",
    "    \"\"\"\n",
    "    Return a function that takes X and returns:\n",
    "        -1 if X is less than Y\n",
    "         0 if X is equal to Y\n",
    "         1 if X is greater than Y\n",
    "    \"\"\"\n",
    "    # finish the function by replace the underlines with your code:\n",
    "    return _________________"
   ]
  },
  {
   "cell_type": "code",
   "execution_count": null,
   "id": "f20b209a",
   "metadata": {
    "tags": []
   },
   "outputs": [],
   "source": [
    "over_under(5)(3)  # 3 < 5\n",
    "# expected to return -1"
   ]
  },
  {
   "cell_type": "code",
   "execution_count": null,
   "id": "511cadae",
   "metadata": {
    "tags": []
   },
   "outputs": [],
   "source": [
    "over_under(5)(5)  # 5 == 5\n",
    "# expected to return 0"
   ]
  },
  {
   "cell_type": "code",
   "execution_count": null,
   "id": "8f9e98ad",
   "metadata": {
    "otter": {
     "tests": [
      "p2.(2)"
     ]
    },
    "tags": []
   },
   "outputs": [],
   "source": [
    "over_under(5)(7)  # 7 > 5\n",
    "# expected to return 1"
   ]
  },
  {
   "cell_type": "markdown",
   "id": "f85fd1d6",
   "metadata": {
    "deletable": false,
    "editable": false
   },
   "source": [
    "### p2.(3)  [10 pts]\n",
    "\n",
    "The `process` function below uses `tally` and result functions to analyze all adjacent pairs of digits in a non-negative integer `n`. A `tally` function is called on each pair of adjacent digits."
   ]
  },
  {
   "cell_type": "code",
   "execution_count": null,
   "id": "e213f4ec",
   "metadata": {
    "deletable": false,
    "editable": false
   },
   "outputs": [],
   "source": [
    "def process(n, tally, result):\n",
    "    \"\"\"Process all pairs of adjacent digits in N using functions TALLY and RESULT.\"\"\"\n",
    "    while n >= 10:\n",
    "        tally, result = tally(n % 100 // 10, n % 10)\n",
    "        n = n // 10\n",
    "    return result()"
   ]
  },
  {
   "cell_type": "markdown",
   "id": "90f0d928",
   "metadata": {
    "deletable": false,
    "editable": false
   },
   "source": [
    "Implement `ups`, which returns two functions that can be passed as `tally` and result arguments to process, so that process computes whether a non-negative integer `n` has exactly `k` increases.\n",
    "\n",
    "* Hint: You can use `sign` from the previous questions and the built-in `max` and `min` functions."
   ]
  },
  {
   "cell_type": "code",
   "execution_count": null,
   "id": "ea974263",
   "metadata": {
    "tags": []
   },
   "outputs": [],
   "source": [
    "def ups(k):\n",
    "    \"\"\"\n",
    "    Return tally and result functions that compute whether N has exactly K increases.\n",
    "    \"\"\"\n",
    "    # finish the function:\n",
    "    def f(left, right):\n",
    "        pass\n",
    "    pass"
   ]
  },
  {
   "cell_type": "code",
   "execution_count": null,
   "id": "0e38e919",
   "metadata": {
    "tags": []
   },
   "outputs": [],
   "source": [
    "f, g = ups(3)\n",
    "process(1200849, f, g)    # Exactly 3 increases: 1 -> 2, 0 -> 8, 4 -> 9\n",
    "# expected to return True"
   ]
  },
  {
   "cell_type": "code",
   "execution_count": null,
   "id": "3fa1106a",
   "metadata": {
    "tags": []
   },
   "outputs": [],
   "source": [
    "process(94004, f, g)      # 1 increase: 0 -> 4\n",
    "# expected to return   False "
   ]
  },
  {
   "cell_type": "code",
   "execution_count": null,
   "id": "0066f097",
   "metadata": {
    "tags": []
   },
   "outputs": [],
   "source": [
    "process(122333445, f, g)  # 4 increases: 1 -> 2, 2 -> 3, 3 -> 4, 4 -> 5\n",
    "# expected to return   False"
   ]
  },
  {
   "cell_type": "code",
   "execution_count": null,
   "id": "53226899",
   "metadata": {
    "otter": {
     "tests": [
      "p2.(3)"
     ]
    },
    "tags": []
   },
   "outputs": [],
   "source": [
    "process(0, f, g)          # 0 increases\n",
    "# expected to return    False"
   ]
  },
  {
   "cell_type": "code",
   "execution_count": null,
   "id": "10683930",
   "metadata": {},
   "outputs": [],
   "source": []
  },
  {
   "cell_type": "markdown",
   "id": "904cde95",
   "metadata": {
    "deletable": false,
    "editable": false
   },
   "source": [
    "### P2.(4) [bonus 10 pts]\n",
    "\n",
    "Implement `at_most`, which returns `True` if the number of increases in a non-negative integer `n` is less than or equal to `k`, and `False` otherwise. Assume `ups` is implemented correctly. You may use any of the functions from previous parts of this question: `sign`, `ramp`, `over_under`, and `process`."
   ]
  },
  {
   "cell_type": "code",
   "execution_count": null,
   "id": "d867ec10",
   "metadata": {
    "tags": []
   },
   "outputs": [],
   "source": [
    "def at_most(n, k):\n",
    "    \"\"\"\n",
    "    Return whether non-negative integer N has at most K increases.\n",
    "    \"\"\"\n",
    "    # finish the function:\n",
    "    pass"
   ]
  },
  {
   "cell_type": "code",
   "execution_count": null,
   "id": "267c0a99",
   "metadata": {
    "tags": []
   },
   "outputs": [],
   "source": [
    "at_most(567, 3)\n",
    "# expected to return True"
   ]
  },
  {
   "cell_type": "code",
   "execution_count": null,
   "id": "260a376c",
   "metadata": {
    "tags": []
   },
   "outputs": [],
   "source": [
    "at_most(567, 2)\n",
    "# expected to return True"
   ]
  },
  {
   "cell_type": "code",
   "execution_count": null,
   "id": "2453a440",
   "metadata": {
    "otter": {
     "tests": [
      "p2.(4)"
     ]
    },
    "tags": []
   },
   "outputs": [],
   "source": [
    "at_most(567, 1)\n",
    "# expected to return True"
   ]
  },
  {
   "cell_type": "code",
   "execution_count": null,
   "id": "c246eef5",
   "metadata": {},
   "outputs": [],
   "source": []
  }
 ],
 "metadata": {
  "celltoolbar": "Edit Metadata",
  "kernelspec": {
   "display_name": "Python 3 (ipykernel)",
   "language": "python",
   "name": "python3"
  },
  "language_info": {
   "codemirror_mode": {
    "name": "ipython",
    "version": 3
   },
   "file_extension": ".py",
   "mimetype": "text/x-python",
   "name": "python",
   "nbconvert_exporter": "python",
   "pygments_lexer": "ipython3",
   "version": "3.10.9"
  },
  "otter": {
   "OK_FORMAT": true,
   "tests": {
    "p1": {
     "name": "p1",
     "points": 10,
     "suites": [
      {
       "cases": [
        {
         "code": ">>> assert again(parabola) == 5, 'Test case 1 failed'\n",
         "hidden": false,
         "locked": false
        },
        {
         "code": ">>> assert again(vee) == 3, 'Test case 2 failed'\n",
         "hidden": false,
         "locked": false
        },
        {
         "code": ">>> def constant(x):\n...     return 42\n>>> assert again(constant) == 1, 'Test case 3 failed'\n",
         "hidden": false,
         "locked": false
        },
        {
         "code": ">>> def periodic(x):\n...     return x % 3\n>>> assert again(periodic) == 3, 'Test case 5 failed'\n",
         "hidden": false,
         "locked": false
        },
        {
         "code": ">>> def quadratic(x):\n...     return (x - 5) * (x - 10)\n>>> assert again(quadratic) == 8, 'Test case 6 failed'\n",
         "hidden": false,
         "locked": false
        },
        {
         "code": ">>> def abs_diff(x):\n...     return abs(x - 4)\n>>> assert again(abs_diff) == 5, 'Test case 7 failed'\n",
         "hidden": false,
         "locked": false
        },
        {
         "code": ">>> def step(x):\n...     return x // 2\n>>> assert again(step) == 1, 'Test case 8 failed'\n",
         "hidden": false,
         "locked": false
        }
       ],
       "scored": true,
       "setup": "",
       "teardown": "",
       "type": "doctest"
      }
     ]
    },
    "p2.(1)": {
     "name": "p2.(1)",
     "points": 10,
     "suites": [
      {
       "cases": [
        {
         "code": ">>> assert ramp(123) == True, 'Test case 1 failed'\n",
         "hidden": false,
         "locked": false
        },
        {
         "code": ">>> assert ramp(1315) == True, 'Test case 2 failed'\n",
         "hidden": false,
         "locked": false
        },
        {
         "code": ">>> assert ramp(176) == False, 'Test case 3 failed'\n",
         "hidden": false,
         "locked": false
        },
        {
         "code": ">>> assert ramp(5) == False, 'Test case 4 failed'\n",
         "hidden": false,
         "locked": false
        },
        {
         "code": ">>> assert ramp(1234) == True, 'Test case 5 failed'\n",
         "hidden": false,
         "locked": false
        },
        {
         "code": ">>> assert ramp(4321) == False, 'Test case 6 failed'\n",
         "hidden": false,
         "locked": false
        },
        {
         "code": ">>> assert ramp(1111) == False, 'Test case 7 failed'\n",
         "hidden": false,
         "locked": false
        },
        {
         "code": ">>> assert ramp(1223) == True, 'Test case 9 failed'\n",
         "hidden": false,
         "locked": false
        },
        {
         "code": ">>> assert ramp(32123) == False, 'Test case 10 failed'\n",
         "hidden": false,
         "locked": false
        }
       ],
       "scored": true,
       "setup": "",
       "teardown": "",
       "type": "doctest"
      }
     ]
    },
    "p2.(2)": {
     "name": "p2.(2)",
     "points": 10,
     "suites": [
      {
       "cases": [
        {
         "code": ">>> assert over_under(5)(3) == -1, 'Test case 1 failed'\n",
         "hidden": false,
         "locked": false
        },
        {
         "code": ">>> assert over_under(5)(5) == 0, 'Test case 2 failed'\n",
         "hidden": false,
         "locked": false
        },
        {
         "code": ">>> assert over_under(5)(7) == 1, 'Test case 3 failed'\n",
         "hidden": false,
         "locked": false
        },
        {
         "code": ">>> assert over_under(10)(8) == -1, 'Test case 4 failed'\n",
         "hidden": false,
         "locked": false
        },
        {
         "code": ">>> assert over_under(10)(10) == 0, 'Test case 5 failed'\n",
         "hidden": false,
         "locked": false
        },
        {
         "code": ">>> assert over_under(10)(12) == 1, 'Test case 6 failed'\n",
         "hidden": false,
         "locked": false
        },
        {
         "code": ">>> assert over_under(0)(-1) == -1, 'Test case 7 failed'\n",
         "hidden": false,
         "locked": false
        },
        {
         "code": ">>> assert over_under(0)(0) == 0, 'Test case 8 failed'\n",
         "hidden": false,
         "locked": false
        },
        {
         "code": ">>> assert over_under(0)(1) == 1, 'Test case 9 failed'\n",
         "hidden": false,
         "locked": false
        }
       ],
       "scored": true,
       "setup": "",
       "teardown": "",
       "type": "doctest"
      }
     ]
    },
    "p2.(3)": {
     "name": "p2.(3)",
     "points": 10,
     "suites": [
      {
       "cases": [
        {
         "code": ">>> (f, g) = ups(3)\n>>> assert process(1200849, f, g) == False, 'Test case 1 failed'\n>>> assert process(94004, f, g) == False, 'Test case 2 failed'\n>>> assert process(122333445, f, g) == False, 'Test case 3 failed'\n>>> assert process(0, f, g) == False, 'Test case 4 failed'\n",
         "hidden": false,
         "locked": false
        },
        {
         "code": ">>> (f, g) = ups(2)\n>>> assert process(123, f, g) == False, 'Test case 5 failed'\n>>> assert process(321, f, g) == True, 'Test case 6 failed'\n>>> assert process(111, f, g) == False, 'Test case 7 failed'\n>>> assert process(121, f, g) == False, 'Test case 8 failed'\n",
         "hidden": false,
         "locked": false
        },
        {
         "code": ">>> (f, g) = ups(1)\n>>> assert process(10, f, g) == True, 'Test case 9 failed'\n>>> assert process(12, f, g) == False, 'Test case 10 failed'\n>>> assert process(21, f, g) == True, 'Test case 11 failed'\n",
         "hidden": false,
         "locked": false
        }
       ],
       "scored": true,
       "setup": "",
       "teardown": "",
       "type": "doctest"
      }
     ]
    },
    "p2.(4)": {
     "name": "p2.(4)",
     "points": 10,
     "suites": [
      {
       "cases": [
        {
         "code": ">>> assert at_most(567, 3) == True, 'Test case 1 failed'\n>>> assert at_most(567, 2) == True, 'Test case 2 failed'\n>>> assert at_most(567, 1) == True, 'Test case 3 failed'\n",
         "hidden": false,
         "locked": false
        },
        {
         "code": ">>> assert at_most(1234, 3) == True, 'Test case 4 failed'\n",
         "hidden": false,
         "locked": false
        },
        {
         "code": ">>> assert at_most(1234, 2) == True, 'Test case 5 failed'\n",
         "hidden": false,
         "locked": false
        },
        {
         "code": ">>> assert at_most(1111, 0) == True, 'Test case 6 failed'\n",
         "hidden": false,
         "locked": false
        },
        {
         "code": ">>> assert at_most(1212, 1) == True, 'Test case 7 failed'\n",
         "hidden": false,
         "locked": false
        },
        {
         "code": ">>> assert at_most(54321, 0) == False, 'Test case 8 failed'\n",
         "hidden": false,
         "locked": false
        },
        {
         "code": ">>> assert at_most(12321, 2) == True, 'Test case 9 failed'\n",
         "hidden": false,
         "locked": false
        },
        {
         "code": ">>> assert at_most(12321, 1) == False, 'Test case 10 failed'\n",
         "hidden": false,
         "locked": false
        }
       ],
       "scored": true,
       "setup": "",
       "teardown": "",
       "type": "doctest"
      }
     ]
    }
   }
  }
 },
 "nbformat": 4,
 "nbformat_minor": 5
}
