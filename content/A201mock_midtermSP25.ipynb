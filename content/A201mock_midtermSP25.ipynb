{
 "cells": [
  {
   "cell_type": "markdown",
   "id": "27bbf446",
   "metadata": {},
   "source": [
    "# CSCI-A202/598 Introduction to Programming I: \n",
    "# Mock Midterm I: Programming Part"
   ]
  },
  {
   "cell_type": "markdown",
   "id": "2b73f76c",
   "metadata": {},
   "source": [
    "* Answer each questions as instructed. \n",
    "\n",
    "* When you finish the exam:\n",
    "    * Step 1: Submit the print-out to intructor/TA.\n",
    "    * Step 2: Save the file.\n",
    "    * Step 3: Download the file `.ipynb`:\n",
    "    * Step 4: Submission to Autograder: https://iu.instructure.com/courses/2284109/assignments/17395296"
   ]
  },
  {
   "cell_type": "markdown",
   "id": "06a360b7",
   "metadata": {
    "deletable": false,
    "editable": false
   },
   "source": [
    "## p1.(1) [1 pts]"
   ]
  },
  {
   "cell_type": "code",
   "execution_count": null,
   "id": "9419de41",
   "metadata": {
    "tags": []
   },
   "outputs": [],
   "source": [
    "p1_1 = None"
   ]
  },
  {
   "cell_type": "code",
   "execution_count": null,
   "id": "49c4739f",
   "metadata": {
    "otter": {
     "tests": [
      "p1.(1)"
     ]
    },
    "tags": []
   },
   "outputs": [],
   "source": [
    "# check the answer\n",
    "print(p1_1)\n",
    "# expected to get [6, ...., 9998, 10000]"
   ]
  },
  {
   "cell_type": "markdown",
   "id": "324b8eb1",
   "metadata": {
    "deletable": false,
    "editable": false
   },
   "source": [
    "## p1.(2)  [1 pts]"
   ]
  },
  {
   "cell_type": "code",
   "execution_count": null,
   "id": "6b2ef170",
   "metadata": {
    "tags": []
   },
   "outputs": [],
   "source": [
    "def p1_2(a):\n",
    "    # finish the function:\n",
    "    pass"
   ]
  },
  {
   "cell_type": "code",
   "execution_count": null,
   "id": "7db6b1cc",
   "metadata": {
    "tags": []
   },
   "outputs": [],
   "source": [
    "print(p1_2(\"HEllo\"))      # expected output: 0"
   ]
  },
  {
   "cell_type": "code",
   "execution_count": null,
   "id": "5bba5615",
   "metadata": {
    "tags": []
   },
   "outputs": [],
   "source": [
    "print(p1_2(\"happy\"))      # expected output: 1"
   ]
  },
  {
   "cell_type": "code",
   "execution_count": null,
   "id": "0e752928",
   "metadata": {
    "otter": {
     "tests": [
      "p1.(2)"
     ]
    },
    "tags": []
   },
   "outputs": [],
   "source": [
    "print(p1_2(\"BananA\"))     # expected output: 3"
   ]
  },
  {
   "cell_type": "markdown",
   "id": "d80bee7e",
   "metadata": {
    "deletable": false,
    "editable": false
   },
   "source": [
    "## p1.(3).  [1 pts]"
   ]
  },
  {
   "cell_type": "code",
   "execution_count": null,
   "id": "1feea7ba",
   "metadata": {
    "tags": []
   },
   "outputs": [],
   "source": [
    "def p1_3(a, b):\n",
    "    # finish the function:\n",
    "    pass"
   ]
  },
  {
   "cell_type": "code",
   "execution_count": null,
   "id": "f20b209a",
   "metadata": {
    "tags": []
   },
   "outputs": [],
   "source": [
    "p1_3(22, 25) # expected to get 45"
   ]
  },
  {
   "cell_type": "code",
   "execution_count": null,
   "id": "511cadae",
   "metadata": {
    "tags": []
   },
   "outputs": [],
   "source": [
    "p1_3(1, 2) # expected to get 0"
   ]
  },
  {
   "cell_type": "code",
   "execution_count": null,
   "id": "8f9e98ad",
   "metadata": {
    "tags": []
   },
   "outputs": [],
   "source": [
    "p1_3(5, 5) # expected to get 0"
   ]
  },
  {
   "cell_type": "code",
   "execution_count": null,
   "id": "1bb0a43b",
   "metadata": {
    "otter": {
     "tests": [
      "p1.(3)"
     ]
    },
    "tags": []
   },
   "outputs": [],
   "source": [
    "p1_3(5, 10) # expected to get 10"
   ]
  },
  {
   "cell_type": "markdown",
   "id": "f85fd1d6",
   "metadata": {
    "deletable": false,
    "editable": false
   },
   "source": [
    "## p1.(4)  [1 pts]"
   ]
  },
  {
   "cell_type": "code",
   "execution_count": null,
   "id": "7c182ce0",
   "metadata": {
    "tags": []
   },
   "outputs": [],
   "source": [
    "def p1_4(a, b):\n",
    "    # finish the function:\n",
    "    pass"
   ]
  },
  {
   "cell_type": "code",
   "execution_count": null,
   "id": "47167fdb",
   "metadata": {
    "tags": []
   },
   "outputs": [],
   "source": [
    "p1_4(\"abc\", \"abc\") # expected to get 1"
   ]
  },
  {
   "cell_type": "code",
   "execution_count": null,
   "id": "0a461c77",
   "metadata": {
    "tags": []
   },
   "outputs": [],
   "source": [
    "p1_4(\"ababc\", \"ab\") # expected to get 2"
   ]
  },
  {
   "cell_type": "code",
   "execution_count": null,
   "id": "81a79eb7",
   "metadata": {
    "tags": []
   },
   "outputs": [],
   "source": [
    "p1_4(\"ababaaa\", \"a\") # expected to get 5"
   ]
  },
  {
   "cell_type": "code",
   "execution_count": null,
   "id": "23673724",
   "metadata": {
    "tags": []
   },
   "outputs": [],
   "source": [
    "p1_4(\"ab\", \"abab\") # expected to get 0"
   ]
  },
  {
   "cell_type": "code",
   "execution_count": null,
   "id": "0517cf96",
   "metadata": {
    "otter": {
     "tests": [
      "p1.(4)"
     ]
    },
    "tags": []
   },
   "outputs": [],
   "source": [
    "p1_4(\"abc\", \"\") # expected to get 0"
   ]
  },
  {
   "cell_type": "code",
   "execution_count": null,
   "id": "10683930",
   "metadata": {},
   "outputs": [],
   "source": []
  },
  {
   "cell_type": "markdown",
   "id": "2eabd686",
   "metadata": {
    "deletable": false,
    "editable": false
   },
   "source": [
    "## p2.(1)  [1 pts]"
   ]
  },
  {
   "cell_type": "code",
   "execution_count": null,
   "id": "fbd63d1d",
   "metadata": {
    "tags": []
   },
   "outputs": [],
   "source": [
    "def taxi_fare(dist):\n",
    "    # finish the function:\n",
    "    pass"
   ]
  },
  {
   "cell_type": "code",
   "execution_count": null,
   "id": "e65f8981",
   "metadata": {
    "tags": []
   },
   "outputs": [],
   "source": [
    "taxi_fare(3) # expected to get 11.5"
   ]
  },
  {
   "cell_type": "code",
   "execution_count": null,
   "id": "bcec644c",
   "metadata": {
    "otter": {
     "tests": [
      "p2.(1)"
     ]
    },
    "tags": []
   },
   "outputs": [],
   "source": [
    "taxi_fare(25457) # expected to get 63646.5"
   ]
  },
  {
   "cell_type": "code",
   "execution_count": null,
   "id": "54358683",
   "metadata": {},
   "outputs": [],
   "source": []
  },
  {
   "cell_type": "markdown",
   "id": "904cde95",
   "metadata": {
    "deletable": false,
    "editable": false
   },
   "source": [
    "## P2.(2)  [1pts]"
   ]
  },
  {
   "cell_type": "code",
   "execution_count": null,
   "id": "2eadbe6b",
   "metadata": {
    "tags": []
   },
   "outputs": [],
   "source": [
    "def total_taxi_fares(data):\n",
    "    # finish the function:\n",
    "    pass"
   ]
  },
  {
   "cell_type": "code",
   "execution_count": null,
   "id": "267c0a99",
   "metadata": {
    "tags": []
   },
   "outputs": [],
   "source": [
    "my_data_1 = [[3, 100], [103, 200], [198, 300]]\n",
    "total_taxi_fares(my_data_1) # expected to return 752.0"
   ]
  },
  {
   "cell_type": "code",
   "execution_count": null,
   "id": "260a376c",
   "metadata": {
    "tags": []
   },
   "outputs": [],
   "source": [
    "my_data_2 = [[0, 50]]\n",
    "total_taxi_fares(my_data_2) # expected to return 129.0"
   ]
  },
  {
   "cell_type": "code",
   "execution_count": null,
   "id": "2453a440",
   "metadata": {
    "otter": {
     "tests": [
      "p2.(2)"
     ]
    },
    "tags": []
   },
   "outputs": [],
   "source": [
    "my_data_4 = [[0, 1], [1, 2], [2, 3]]\n",
    "total_taxi_fares(my_data_4) # expected to return 19.5"
   ]
  }
 ],
 "metadata": {
  "celltoolbar": "Edit Metadata",
  "kernelspec": {
   "display_name": "Python 3 (ipykernel)",
   "language": "python",
   "name": "python3"
  },
  "language_info": {
   "codemirror_mode": {
    "name": "ipython",
    "version": 3
   },
   "file_extension": ".py",
   "mimetype": "text/x-python",
   "name": "python",
   "nbconvert_exporter": "python",
   "pygments_lexer": "ipython3",
   "version": "3.10.9"
  },
  "otter": {
   "OK_FORMAT": true,
   "tests": {
    "p1.(1)": {
     "name": "p1.(1)",
     "points": 1,
     "suites": [
      {
       "cases": [
        {
         "code": ">>> assert p1_1 == [i for i in range(6, 10001) if i % 2 == 0]\n",
         "hidden": false,
         "locked": false
        }
       ],
       "scored": true,
       "setup": "",
       "teardown": "",
       "type": "doctest"
      }
     ]
    },
    "p1.(2)": {
     "name": "p1.(2)",
     "points": 1,
     "suites": [
      {
       "cases": [
        {
         "code": ">>> assert p1_2('HEllo') == 0, 'Test case 01 failed'\n",
         "hidden": false,
         "locked": false
        },
        {
         "code": ">>> assert p1_2('happy') == 1, 'Test case 02 failed'\n",
         "hidden": false,
         "locked": false
        },
        {
         "code": ">>> assert p1_2('BananA') == 3, 'Test case 03 failed'\n",
         "hidden": false,
         "locked": false
        },
        {
         "code": ">>> test_cases = [('HEllo', 0), ('AAAA', 4), ('aaaa', 4), ('BananA', 3), ('', 0), ('123!@#', 0), ('A a A a', 4), ('BbCcDdEe', 0)]\n>>> for (i, (input_str, expected_output)) in enumerate(test_cases):\n...     result = p1_2(input_str)\n...     assert result == expected_output, f\"Test case {i + 1} failed: input='{input_str}', expected={expected_output}, got={result}\"\n",
         "hidden": false,
         "locked": false
        }
       ],
       "scored": true,
       "setup": "",
       "teardown": "",
       "type": "doctest"
      }
     ]
    },
    "p1.(3)": {
     "name": "p1.(3)",
     "points": 1,
     "suites": [
      {
       "cases": [
        {
         "code": ">>> assert p1_3(22, 25) == 47, 'Test case 1 failed'\n>>> assert p1_3(1, 2) == 0, 'Test case 2 failed'\n>>> assert p1_3(5, 5) == 0, 'Test case 3 failed'\n>>> assert p1_3(5, 10) == 10, 'Test case 4 failed'\n",
         "hidden": false,
         "locked": false
        },
        {
         "code": ">>> test_cases = [(22, 25, 47), (1, 2, 0), (5, 10, 10), (5, 5, 0), (6, 3, 6), (-10, 7, 7), (0, 0, 0), (1000000, 6, 1000006)]\n>>> for (i, (a, b, expected_output)) in enumerate(test_cases):\n...     result = p1_3(a, b)\n...     assert result == expected_output, f'Test case {i + 1} failed: a={a}, b={b}, expected={expected_output}, got={result}'\n",
         "hidden": false,
         "locked": false
        }
       ],
       "scored": true,
       "setup": "",
       "teardown": "",
       "type": "doctest"
      }
     ]
    },
    "p1.(4)": {
     "name": "p1.(4)",
     "points": 1,
     "suites": [
      {
       "cases": [
        {
         "code": ">>> assert p1_4('abc', 'abc') == 1, 'Test case 1 failed'\n>>> assert p1_4('ababc', 'ab') == 2, 'Test case 2 failed'\n>>> assert p1_4('ababaaa', 'a') == 5, 'Test case 3 failed'\n>>> assert p1_4('ab', 'abab') == 0, 'Test case 4 failed'\n>>> assert p1_4('abc', '') == 0, 'Test case 5 failed'\n",
         "hidden": false,
         "locked": false
        },
        {
         "code": ">>> additional_test_cases = [('aaaa', 'aa', 2), ('abcabc', 'abc', 2), ('a$b$c$', '$', 3), ('hello', 'l', 2), ('short', 'longer', 0), ('identical', 'identical', 1), ('aaa', 'aa', 1), ('hello world', ' ', 1), ('Hello', 'hello', 0), ('abcdef', 'xyz', 0)]\n>>> for (i, (a, b, expected_output)) in enumerate(additional_test_cases):\n...     result = p1_4(a, b)\n...     assert result == expected_output, f\"Additional test case {i + 1} failed: a='{a}', b='{b}', expected={expected_output}, got={result}\"\n",
         "hidden": false,
         "locked": false
        }
       ],
       "scored": true,
       "setup": "",
       "teardown": "",
       "type": "doctest"
      }
     ]
    },
    "p2.(1)": {
     "name": "p2.(1)",
     "points": 1,
     "suites": [
      {
       "cases": [
        {
         "code": ">>> assert taxi_fare(3) == 11.5, 'Test case 1 failed'\n>>> assert taxi_fare(25457) == 63646.5, 'Test case 2 failed'\n",
         "hidden": false,
         "locked": false
        },
        {
         "code": ">>> assert taxi_fare(3) == 11.5, 'Test case 1 failed'\n>>> assert taxi_fare(25457) == 63646.5, 'Test case 2 failed'\n>>> assert taxi_fare(0) == 4.0, 'Test case 3 failed'\n>>> assert taxi_fare(1) == 6.5, 'Test case 4 failed'\n>>> assert taxi_fare(10) == 29.0, 'Test case 5 failed'\n>>> assert taxi_fare(0.5) == 5.25, 'Test case 6 failed'\n",
         "hidden": false,
         "locked": false
        }
       ],
       "scored": true,
       "setup": "",
       "teardown": "",
       "type": "doctest"
      }
     ]
    },
    "p2.(2)": {
     "name": "p2.(2)",
     "points": 1,
     "suites": [
      {
       "cases": [
        {
         "code": ">>> test_cases = [([[10, 20]], 29.0), ([[0, 0]], 4.0), ([[3, 100], [103, 200], [198, 300]], 752.0), ([], 0.0), ([[0.5, 10.5]], 29.0), ([[0, 100000]], 250004.0), ([[5, 5]], 4.0), ([[0.0001, 0.0002]], 4.00025), ([[10, 10], [20, 20], [30, 30]], 12.0)]\n>>> for (i, (data, expected_output)) in enumerate(test_cases):\n...     if data and any((end < start for (start, end) in data)):\n...         try:\n...             total_taxi_fares(data)\n...             print(f'Test case {i + 1} failed: Expected invalid input handling for negative distance.')\n...         except ValueError:\n...             print(f'Test case {i + 1} passed: Negative distance handled correctly.')\n...     else:\n...         result = total_taxi_fares(data)\n...         assert result == expected_output, f'Test case {i + 1} failed: data={data}, expected={expected_output}, got={result}'\n...         print(f'Test case {i + 1} passed: data={data}, expected={expected_output}, got={result}')\nTest case 1 passed: data=[[10, 20]], expected=29.0, got=29.0\nTest case 2 passed: data=[[0, 0]], expected=4.0, got=4.0\nTest case 3 passed: data=[[3, 100], [103, 200], [198, 300]], expected=752.0, got=752.0\nTest case 4 passed: data=[], expected=0.0, got=0\nTest case 5 passed: data=[[0.5, 10.5]], expected=29.0, got=29.0\nTest case 6 passed: data=[[0, 100000]], expected=250004.0, got=250004.0\nTest case 7 passed: data=[[5, 5]], expected=4.0, got=4.0\nTest case 8 passed: data=[[0.0001, 0.0002]], expected=4.00025, got=4.00025\nTest case 9 passed: data=[[10, 10], [20, 20], [30, 30]], expected=12.0, got=12.0\n",
         "hidden": false,
         "locked": false
        }
       ],
       "scored": true,
       "setup": "",
       "teardown": "",
       "type": "doctest"
      }
     ]
    }
   }
  }
 },
 "nbformat": 4,
 "nbformat_minor": 5
}
