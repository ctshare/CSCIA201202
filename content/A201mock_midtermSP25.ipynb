{
 "cells": [
  {
   "cell_type": "raw",
   "id": "7d80df8b",
   "metadata": {},
   "source": [
    "# ASSIGNMENT CONFIG\n",
    "init_cell: false\n",
    "export_cell: false\n",
    "check_all_cell: false \n",
    "solutions_pdf: false\n",
    "template_pdf: false\n",
    "generate: true"
   ]
  },
  {
   "cell_type": "markdown",
   "id": "27bbf446",
   "metadata": {},
   "source": [
    "# CSCI-A202/598 Introduction to Programming I: \n",
    "# Mock Midterm I: Programming Part"
   ]
  },
  {
   "cell_type": "markdown",
   "id": "2b73f76c",
   "metadata": {},
   "source": [
    "* Answer each questions as instructed. \n",
    "\n",
    "* When you finish the exam:\n",
    "    * Step 1: Submit the print-out to intructor/TA.\n",
    "    * Step 2: Save the file.\n",
    "    * Step 3: Download the file `.ipynb`:\n",
    "    * Step 4: Submission to Autograder: https://iu.instructure.com/courses/2284109/assignments/17395296"
   ]
  },
  {
   "cell_type": "raw",
   "id": "92661e83",
   "metadata": {},
   "source": [
    "# BEGIN QUESTION\n",
    "name: p1.(1)\n",
    "points: 1\n",
    "check_cell: false"
   ]
  },
  {
   "cell_type": "markdown",
   "id": "06a360b7",
   "metadata": {},
   "source": [
    "## p1.(1) [1 pts]"
   ]
  },
  {
   "cell_type": "raw",
   "id": "71804923",
   "metadata": {},
   "source": [
    "# BEGIN SOLUTION"
   ]
  },
  {
   "cell_type": "code",
   "execution_count": null,
   "id": "9419de41",
   "metadata": {},
   "outputs": [],
   "source": [
    "# BEGIN SOLUTION NO PROMPT\n",
    "p1_1 = [i for i in range(6, 10001) if i%2==0]\n",
    "# END SOLUTION\n",
    "\"\"\" # BEGIN PROMPT\n",
    "p1_1 = None\n",
    "\"\"\"; # END PROMPT"
   ]
  },
  {
   "cell_type": "code",
   "execution_count": null,
   "id": "49c4739f",
   "metadata": {},
   "outputs": [],
   "source": [
    "# check the answer\n",
    "print(p1_1)\n",
    "# expected to get [6, ...., 9998, 10000]"
   ]
  },
  {
   "cell_type": "raw",
   "id": "24720790",
   "metadata": {},
   "source": [
    "# END SOLUTION"
   ]
  },
  {
   "cell_type": "raw",
   "id": "0deb8f07",
   "metadata": {},
   "source": [
    "# BEGIN TESTS"
   ]
  },
  {
   "cell_type": "code",
   "execution_count": null,
   "id": "43b4f8fd",
   "metadata": {},
   "outputs": [],
   "source": [
    "# Test case 1: Parabola function (already provided)\n",
    "assert p1_1 == [i for i in range(6, 10001) if i%2==0]"
   ]
  },
  {
   "cell_type": "raw",
   "id": "076a322b",
   "metadata": {},
   "source": [
    "# END TESTS"
   ]
  },
  {
   "cell_type": "raw",
   "id": "8f32b595",
   "metadata": {},
   "source": [
    "# END QUESTION"
   ]
  },
  {
   "cell_type": "raw",
   "id": "14aec5b7",
   "metadata": {},
   "source": [
    "# BEGIN QUESTION\n",
    "name: p1.(2)\n",
    "points: 1\n",
    "check_cell: false"
   ]
  },
  {
   "cell_type": "markdown",
   "id": "324b8eb1",
   "metadata": {},
   "source": [
    "## p1.(2)  [1 pts]"
   ]
  },
  {
   "cell_type": "raw",
   "id": "624113e0",
   "metadata": {},
   "source": [
    "# BEGIN SOLUTION"
   ]
  },
  {
   "cell_type": "code",
   "execution_count": null,
   "id": "6b2ef170",
   "metadata": {},
   "outputs": [],
   "source": [
    "def p1_2(a):\n",
    "    # finish the function:\n",
    "    # BEGIN SOLUTION NO PROMPT\n",
    "    # Initialize a counter for 'A' or 'a'\n",
    "    count = 0\n",
    "    \n",
    "    # Iterate through each character in the string\n",
    "    for char in a:\n",
    "        # Check if the character is 'A' or 'a'\n",
    "        if char == 'A' or char == 'a':\n",
    "            count += 1\n",
    "    \n",
    "    # Return the total count\n",
    "    return count\n",
    "    # END SOLUTION\n",
    "    \"\"\" # BEGIN PROMPT\n",
    "    pass\n",
    "    \"\"\"; # END PROMPT"
   ]
  },
  {
   "cell_type": "code",
   "execution_count": null,
   "id": "7db6b1cc",
   "metadata": {},
   "outputs": [],
   "source": [
    "print(p1_2(\"HEllo\"))      # expected output: 0"
   ]
  },
  {
   "cell_type": "code",
   "execution_count": null,
   "id": "5bba5615",
   "metadata": {},
   "outputs": [],
   "source": [
    "print(p1_2(\"happy\"))      # expected output: 1"
   ]
  },
  {
   "cell_type": "code",
   "execution_count": null,
   "id": "0e752928",
   "metadata": {},
   "outputs": [],
   "source": [
    "print(p1_2(\"BananA\"))     # expected output: 3"
   ]
  },
  {
   "cell_type": "raw",
   "id": "4b7b4136",
   "metadata": {},
   "source": [
    "# END SOLUTION"
   ]
  },
  {
   "cell_type": "raw",
   "id": "951c7e9f",
   "metadata": {},
   "source": [
    "# BEGIN TESTS"
   ]
  },
  {
   "cell_type": "code",
   "execution_count": null,
   "id": "b306f2df",
   "metadata": {},
   "outputs": [],
   "source": [
    "assert p1_2(\"HEllo\") == 0, \"Test case 01 failed\""
   ]
  },
  {
   "cell_type": "code",
   "execution_count": null,
   "id": "7f79d739",
   "metadata": {},
   "outputs": [],
   "source": [
    "assert p1_2(\"happy\") == 1, \"Test case 02 failed\""
   ]
  },
  {
   "cell_type": "code",
   "execution_count": null,
   "id": "82507afb",
   "metadata": {},
   "outputs": [],
   "source": [
    "assert p1_2(\"BananA\") == 3, \"Test case 03 failed\""
   ]
  },
  {
   "cell_type": "code",
   "execution_count": null,
   "id": "f2e5aa7a",
   "metadata": {},
   "outputs": [],
   "source": [
    "# Test cases\n",
    "test_cases = [\n",
    "    (\"HEllo\", 0),          # No 'A' or 'a'\n",
    "    (\"AAAA\", 4),           # Only 'A'\n",
    "    (\"aaaa\", 4),           # Only 'a'\n",
    "    (\"BananA\", 3),         # Mixed 'A' and 'a'\n",
    "    (\"\", 0),               # Empty string\n",
    "    (\"123!@#\", 0),         # Special characters and numbers\n",
    "    (\"A a A a\", 4),        # String with spaces\n",
    "    (\"BbCcDdEe\", 0),       # Uppercase and lowercase letters other than 'A' or 'a'\n",
    "]\n",
    "\n",
    "# Run tests\n",
    "for i, (input_str, expected_output) in enumerate(test_cases):\n",
    "    result = p1_2(input_str)\n",
    "    assert result == expected_output, f\"Test case {i+1} failed: input='{input_str}', expected={expected_output}, got={result}\""
   ]
  },
  {
   "cell_type": "raw",
   "id": "3f860b30",
   "metadata": {},
   "source": [
    "# END TESTS"
   ]
  },
  {
   "cell_type": "raw",
   "id": "0a3bb5c9",
   "metadata": {},
   "source": [
    "# END QUESTION"
   ]
  },
  {
   "cell_type": "raw",
   "id": "388288d1",
   "metadata": {},
   "source": [
    "# BEGIN QUESTION\n",
    "name: p1.(3)\n",
    "points: 1\n",
    "check_cell: false"
   ]
  },
  {
   "cell_type": "markdown",
   "id": "d80bee7e",
   "metadata": {},
   "source": [
    "## p1.(3).  [1 pts]"
   ]
  },
  {
   "cell_type": "raw",
   "id": "61d5ab37",
   "metadata": {},
   "source": [
    "# BEGIN SOLUTION"
   ]
  },
  {
   "cell_type": "code",
   "execution_count": null,
   "id": "1feea7ba",
   "metadata": {},
   "outputs": [],
   "source": [
    "def p1_3(a, b):\n",
    "    # finish the function:\n",
    "    # BEGIN SOLUTION NO PROMPT\n",
    "    # Initialize sum\n",
    "    total = 0\n",
    "    \n",
    "    # Add 'a' to the sum if it is greater than 5\n",
    "    if a > 5:\n",
    "        total += a\n",
    "    \n",
    "    # Add 'b' to the sum if it is greater than 5\n",
    "    if b > 5:\n",
    "        total += b\n",
    "    \n",
    "    # Return the total sum\n",
    "    return total\n",
    "    # END SOLUTION\n",
    "    \"\"\" # BEGIN PROMPT\n",
    "    pass\n",
    "    \"\"\"; # END PROMPT"
   ]
  },
  {
   "cell_type": "code",
   "execution_count": null,
   "id": "f20b209a",
   "metadata": {},
   "outputs": [],
   "source": [
    "p1_3(22, 25) # expected to get 45"
   ]
  },
  {
   "cell_type": "code",
   "execution_count": null,
   "id": "511cadae",
   "metadata": {},
   "outputs": [],
   "source": [
    "p1_3(1, 2) # expected to get 0"
   ]
  },
  {
   "cell_type": "code",
   "execution_count": null,
   "id": "8f9e98ad",
   "metadata": {},
   "outputs": [],
   "source": [
    "p1_3(5, 5) # expected to get 0"
   ]
  },
  {
   "cell_type": "code",
   "execution_count": null,
   "id": "1bb0a43b",
   "metadata": {},
   "outputs": [],
   "source": [
    "p1_3(5, 10) # expected to get 10"
   ]
  },
  {
   "cell_type": "raw",
   "id": "280f2551",
   "metadata": {},
   "source": [
    "# END SOLUTION"
   ]
  },
  {
   "cell_type": "raw",
   "id": "5f58509b",
   "metadata": {},
   "source": [
    "# BEGIN TESTS"
   ]
  },
  {
   "cell_type": "code",
   "execution_count": null,
   "id": "3e1758d0",
   "metadata": {},
   "outputs": [],
   "source": [
    "assert p1_3(22, 25) == 47, \"Test case 1 failed\"\n",
    "assert p1_3(1, 2) == 0, \"Test case 2 failed\"\n",
    "assert p1_3(5, 5) == 0, \"Test case 3 failed\"\n",
    "assert p1_3(5, 10) == 10, \"Test case 4 failed\""
   ]
  },
  {
   "cell_type": "code",
   "execution_count": null,
   "id": "081281ca",
   "metadata": {},
   "outputs": [],
   "source": [
    "test_cases = [\n",
    "    (22, 25, 47),      # Both numbers greater than 5\n",
    "    (1, 2, 0),         # Both numbers less than or equal to 5\n",
    "    (5, 10, 10),       # One number equal to 5, the other greater than 5\n",
    "    (5, 5, 0),         # Both numbers equal to 5\n",
    "    (6, 3, 6),         # One number greater than 5, the other less than 5\n",
    "    (-10, 7, 7),       # Negative number and number greater than 5\n",
    "    (0, 0, 0),         # Both numbers zero\n",
    "    (1000000, 6, 1000006),  # Large numbers\n",
    "]\n",
    "\n",
    "# Run tests\n",
    "for i, (a, b, expected_output) in enumerate(test_cases):\n",
    "    result = p1_3(a, b)\n",
    "    assert result == expected_output, f\"Test case {i+1} failed: a={a}, b={b}, expected={expected_output}, got={result}\""
   ]
  },
  {
   "cell_type": "raw",
   "id": "696385b9",
   "metadata": {},
   "source": [
    "# END TESTS"
   ]
  },
  {
   "cell_type": "raw",
   "id": "9f1d1f10",
   "metadata": {},
   "source": [
    "# END QUESTION"
   ]
  },
  {
   "cell_type": "raw",
   "id": "754256fd",
   "metadata": {},
   "source": [
    "# BEGIN QUESTION\n",
    "name: p1.(4)\n",
    "points: 1\n",
    "check_cell: false"
   ]
  },
  {
   "cell_type": "markdown",
   "id": "f85fd1d6",
   "metadata": {},
   "source": [
    "## p1.(4)  [1 pts]"
   ]
  },
  {
   "cell_type": "raw",
   "id": "9b3f2426",
   "metadata": {},
   "source": [
    "# BEGIN SOLUTION"
   ]
  },
  {
   "cell_type": "code",
   "execution_count": null,
   "id": "7c182ce0",
   "metadata": {},
   "outputs": [],
   "source": [
    "def p1_4(a, b):\n",
    "    # finish the function:\n",
    "    # BEGIN SOLUTION NO PROMPT\n",
    "    # If b is an empty string, return 0\n",
    "    if not b:\n",
    "        return 0\n",
    "    \n",
    "    # Use the count method to find the number of occurrences of b in a\n",
    "    return a.count(b)\n",
    "    # END SOLUTION\n",
    "    \"\"\" # BEGIN PROMPT\n",
    "    pass\n",
    "    \"\"\"; # END PROMPT"
   ]
  },
  {
   "cell_type": "code",
   "execution_count": null,
   "id": "47167fdb",
   "metadata": {},
   "outputs": [],
   "source": [
    "p1_4(\"abc\", \"abc\") # expected to get 1"
   ]
  },
  {
   "cell_type": "code",
   "execution_count": null,
   "id": "0a461c77",
   "metadata": {},
   "outputs": [],
   "source": [
    "p1_4(\"ababc\", \"ab\") # expected to get 2"
   ]
  },
  {
   "cell_type": "code",
   "execution_count": null,
   "id": "81a79eb7",
   "metadata": {},
   "outputs": [],
   "source": [
    "p1_4(\"ababaaa\", \"a\") # expected to get 5"
   ]
  },
  {
   "cell_type": "code",
   "execution_count": null,
   "id": "23673724",
   "metadata": {},
   "outputs": [],
   "source": [
    "p1_4(\"ab\", \"abab\") # expected to get 0"
   ]
  },
  {
   "cell_type": "code",
   "execution_count": null,
   "id": "0517cf96",
   "metadata": {},
   "outputs": [],
   "source": [
    "p1_4(\"abc\", \"\") # expected to get 0"
   ]
  },
  {
   "cell_type": "raw",
   "id": "c99999e7",
   "metadata": {},
   "source": [
    "# END SOLUTION"
   ]
  },
  {
   "cell_type": "raw",
   "id": "cb18d561",
   "metadata": {},
   "source": [
    "# BEGIN TESTS"
   ]
  },
  {
   "cell_type": "code",
   "execution_count": null,
   "id": "b593ee25",
   "metadata": {},
   "outputs": [],
   "source": [
    "assert p1_4(\"abc\", \"abc\") == 1, \"Test case 1 failed\"\n",
    "assert p1_4(\"ababc\", \"ab\") == 2, \"Test case 2 failed\"\n",
    "assert p1_4(\"ababaaa\", \"a\") == 5, \"Test case 3 failed\"\n",
    "assert p1_4(\"ab\", \"abab\") == 0, \"Test case 4 failed\"\n",
    "assert p1_4(\"abc\", \"\") == 0, \"Test case 5 failed\""
   ]
  },
  {
   "cell_type": "code",
   "execution_count": null,
   "id": "458f063b",
   "metadata": {},
   "outputs": [],
   "source": [
    "additional_test_cases = [\n",
    "    (\"aaaa\", \"aa\", 2),               # Overlapping substrings\n",
    "    (\"abcabc\", \"abc\", 2),            # Substring appears at the beginning and end\n",
    "    (\"a$b$c$\", \"$\", 3),              # Substring contains special characters\n",
    "    (\"hello\", \"l\", 2),               # Substring is a single character\n",
    "    (\"short\", \"longer\", 0),          # Substring is longer than the main string\n",
    "    (\"identical\", \"identical\", 1),   # Substring is the same as the main string\n",
    "    (\"aaa\", \"aa\", 1),                # Substring appears multiple times consecutively\n",
    "    (\"hello world\", \" \", 1),         # Substring contains spaces\n",
    "    (\"Hello\", \"hello\", 0),           # Substring is case-sensitive\n",
    "    (\"abcdef\", \"xyz\", 0),            # Substring is not present in the main string\n",
    "]\n",
    "\n",
    "# Run additional tests\n",
    "for i, (a, b, expected_output) in enumerate(additional_test_cases):\n",
    "    result = p1_4(a, b)\n",
    "    assert result == expected_output, f\"Additional test case {i+1} failed: a='{a}', b='{b}', expected={expected_output}, got={result}\"\n"
   ]
  },
  {
   "cell_type": "raw",
   "id": "adbfd6a8",
   "metadata": {},
   "source": [
    "# END TESTS"
   ]
  },
  {
   "cell_type": "raw",
   "id": "3af9726a",
   "metadata": {},
   "source": [
    "# END QUESTION"
   ]
  },
  {
   "cell_type": "code",
   "execution_count": null,
   "id": "10683930",
   "metadata": {},
   "outputs": [],
   "source": []
  },
  {
   "cell_type": "raw",
   "id": "57853439",
   "metadata": {},
   "source": [
    "# BEGIN QUESTION\n",
    "name: p2.(1)\n",
    "points: 1\n",
    "check_cell: false"
   ]
  },
  {
   "cell_type": "markdown",
   "id": "2eabd686",
   "metadata": {},
   "source": [
    "## p2.(1)  [1 pts]"
   ]
  },
  {
   "cell_type": "raw",
   "id": "86b1a91e",
   "metadata": {},
   "source": [
    "# BEGIN SOLUTION"
   ]
  },
  {
   "cell_type": "code",
   "execution_count": 34,
   "id": "fbd63d1d",
   "metadata": {},
   "outputs": [],
   "source": [
    "def taxi_fare(dist):\n",
    "    # finish the function:\n",
    "    # BEGIN SOLUTION NO PROMPT\n",
    "    # Base fare\n",
    "    base_fare = 4.00\n",
    "    \n",
    "    # Fare per mile\n",
    "    fare_per_mile = 2.50\n",
    "    \n",
    "    # Total fare calculation\n",
    "    total_fare = base_fare + (fare_per_mile * dist)\n",
    "    \n",
    "    return total_fare\n",
    "    # END SOLUTION\n",
    "    \"\"\" # BEGIN PROMPT\n",
    "    pass\n",
    "    \"\"\"; # END PROMPT"
   ]
  },
  {
   "cell_type": "code",
   "execution_count": 35,
   "id": "e65f8981",
   "metadata": {},
   "outputs": [
    {
     "data": {
      "text/plain": [
       "11.5"
      ]
     },
     "execution_count": 35,
     "metadata": {},
     "output_type": "execute_result"
    }
   ],
   "source": [
    "taxi_fare(3) # expected to get 11.5"
   ]
  },
  {
   "cell_type": "code",
   "execution_count": 36,
   "id": "bcec644c",
   "metadata": {},
   "outputs": [
    {
     "data": {
      "text/plain": [
       "63646.5"
      ]
     },
     "execution_count": 36,
     "metadata": {},
     "output_type": "execute_result"
    }
   ],
   "source": [
    "taxi_fare(25457) # expected to get 63646.5"
   ]
  },
  {
   "cell_type": "raw",
   "id": "c1b605f3",
   "metadata": {},
   "source": [
    "# END SOLUTION"
   ]
  },
  {
   "cell_type": "raw",
   "id": "c0eedad3",
   "metadata": {},
   "source": [
    "# BEGIN TESTS"
   ]
  },
  {
   "cell_type": "code",
   "execution_count": 37,
   "id": "5961416a",
   "metadata": {},
   "outputs": [],
   "source": [
    "assert taxi_fare(3) == 11.5, \"Test case 1 failed\"\n",
    "assert taxi_fare(25457) == 63646.5, \"Test case 2 failed\""
   ]
  },
  {
   "cell_type": "code",
   "execution_count": 38,
   "id": "dcf0d751",
   "metadata": {},
   "outputs": [],
   "source": [
    "assert taxi_fare(3) == 11.5, \"Test case 1 failed\"\n",
    "assert taxi_fare(25457) == 63646.5, \"Test case 2 failed\"\n",
    "assert taxi_fare(0) == 4.0, \"Test case 3 failed\"\n",
    "assert taxi_fare(1) == 6.5, \"Test case 4 failed\"\n",
    "assert taxi_fare(10) == 29.0, \"Test case 5 failed\"\n",
    "assert taxi_fare(0.5) == 5.25, \"Test case 6 failed\""
   ]
  },
  {
   "cell_type": "raw",
   "id": "3d678331",
   "metadata": {},
   "source": [
    "# END TESTS"
   ]
  },
  {
   "cell_type": "raw",
   "id": "d918505f",
   "metadata": {},
   "source": [
    "# END QUESTION"
   ]
  },
  {
   "cell_type": "code",
   "execution_count": null,
   "id": "54358683",
   "metadata": {},
   "outputs": [],
   "source": []
  },
  {
   "cell_type": "raw",
   "id": "cfafa5da",
   "metadata": {},
   "source": [
    "# BEGIN QUESTION\n",
    "name: p2.(2)\n",
    "points: 1\n",
    "check_cell: false"
   ]
  },
  {
   "cell_type": "markdown",
   "id": "904cde95",
   "metadata": {},
   "source": [
    "## P2.(2)  [1pts]"
   ]
  },
  {
   "cell_type": "raw",
   "id": "8da4779f",
   "metadata": {},
   "source": [
    "# BEGIN SOLUTION"
   ]
  },
  {
   "cell_type": "code",
   "execution_count": 40,
   "id": "2eadbe6b",
   "metadata": {},
   "outputs": [],
   "source": [
    "def total_taxi_fares(data):\n",
    "    # finish the function:\n",
    "    # BEGIN SOLUTION NO PROMPT\n",
    "    total_fare = 0  # Initialize total fare to 0\n",
    "    \n",
    "    # Iterate through each trip in the data\n",
    "    for trip in data:\n",
    "        start, end = trip  # Unpack start and end positions\n",
    "        distance = end - start  # Calculate distance traveled\n",
    "        fare = taxi_fare(distance)  # Calculate fare for this trip\n",
    "        total_fare += fare  # Add to total fare\n",
    "    \n",
    "    return total_fare\n",
    "    # END SOLUTION\n",
    "    \"\"\" # BEGIN PROMPT\n",
    "    pass\n",
    "    \"\"\"; # END PROMPT"
   ]
  },
  {
   "cell_type": "code",
   "execution_count": 41,
   "id": "267c0a99",
   "metadata": {},
   "outputs": [
    {
     "data": {
      "text/plain": [
       "752.0"
      ]
     },
     "execution_count": 41,
     "metadata": {},
     "output_type": "execute_result"
    }
   ],
   "source": [
    "my_data_1 = [[3, 100], [103, 200], [198, 300]]\n",
    "total_taxi_fares(my_data_1) # expected to return 752.0"
   ]
  },
  {
   "cell_type": "code",
   "execution_count": 42,
   "id": "260a376c",
   "metadata": {},
   "outputs": [
    {
     "data": {
      "text/plain": [
       "129.0"
      ]
     },
     "execution_count": 42,
     "metadata": {},
     "output_type": "execute_result"
    }
   ],
   "source": [
    "my_data_2 = [[0, 50]]\n",
    "total_taxi_fares(my_data_2) # expected to return 129.0"
   ]
  },
  {
   "cell_type": "code",
   "execution_count": 43,
   "id": "2453a440",
   "metadata": {},
   "outputs": [
    {
     "data": {
      "text/plain": [
       "19.5"
      ]
     },
     "execution_count": 43,
     "metadata": {},
     "output_type": "execute_result"
    }
   ],
   "source": [
    "my_data_4 = [[0, 1], [1, 2], [2, 3]]\n",
    "total_taxi_fares(my_data_4) # expected to return 19.5"
   ]
  },
  {
   "cell_type": "raw",
   "id": "5e96f706",
   "metadata": {},
   "source": [
    "# END SOLUTION"
   ]
  },
  {
   "cell_type": "raw",
   "id": "adfc29d6",
   "metadata": {},
   "source": [
    "# BEGIN TESTS"
   ]
  },
  {
   "cell_type": "code",
   "execution_count": 45,
   "id": "88779e31",
   "metadata": {},
   "outputs": [
    {
     "name": "stdout",
     "output_type": "stream",
     "text": [
      "Test case 1 passed: data=[[10, 20]], expected=29.0, got=29.0\n",
      "Test case 2 passed: data=[[0, 0]], expected=4.0, got=4.0\n",
      "Test case 3 passed: data=[[3, 100], [103, 200], [198, 300]], expected=752.0, got=752.0\n",
      "Test case 4 passed: data=[], expected=0.0, got=0\n",
      "Test case 5 passed: data=[[0.5, 10.5]], expected=29.0, got=29.0\n",
      "Test case 6 passed: data=[[0, 100000]], expected=250004.0, got=250004.0\n",
      "Test case 7 passed: data=[[5, 5]], expected=4.0, got=4.0\n",
      "Test case 8 passed: data=[[0.0001, 0.0002]], expected=4.00025, got=4.00025\n",
      "Test case 9 passed: data=[[10, 10], [20, 20], [30, 30]], expected=12.0, got=12.0\n"
     ]
    }
   ],
   "source": [
    "test_cases = [\n",
    "    ([[10, 20]], 29.0),  # Single trip with positive distance\n",
    "    ([[0, 0]], 4.0),     # Single trip with zero distance\n",
    "    ([[3, 100], [103, 200], [198, 300]], 752.0),  # Multiple trips with varying distances\n",
    "    ([], 0.0),           # Empty list of trips\n",
    "    ([[0.5, 10.5]], 29.0),  # Trip with fractional distance\n",
    "    ([[0, 100000]], 250004.0),  # Trip with very large distance\n",
    "    ([[5, 5]], 4.0),     # Trip with identical start and end positions\n",
    "    ([[0.0001, 0.0002]], 4.00025),  # Trip with very small distance\n",
    "    ([[10, 10], [20, 20], [30, 30]], 12.0),  # Multiple trips with zero distance\n",
    "]\n",
    "\n",
    "# Run comprehensive tests\n",
    "for i, (data, expected_output) in enumerate(test_cases):\n",
    "    if data and any(end < start for start, end in data):\n",
    "        try:\n",
    "            total_taxi_fares(data)\n",
    "            print(f\"Test case {i+1} failed: Expected invalid input handling for negative distance.\")\n",
    "        except ValueError:\n",
    "            print(f\"Test case {i+1} passed: Negative distance handled correctly.\")\n",
    "    else:\n",
    "        result = total_taxi_fares(data)\n",
    "        assert result == expected_output, f\"Test case {i+1} failed: data={data}, expected={expected_output}, got={result}\"\n",
    "        print(f\"Test case {i+1} passed: data={data}, expected={expected_output}, got={result}\")\n"
   ]
  },
  {
   "cell_type": "raw",
   "id": "a7648600",
   "metadata": {},
   "source": [
    "# END TESTS"
   ]
  },
  {
   "cell_type": "raw",
   "id": "fc8749e6",
   "metadata": {},
   "source": [
    "# END QUESTION"
   ]
  }
 ],
 "metadata": {
  "celltoolbar": "Edit Metadata",
  "kernelspec": {
   "display_name": "Python 3 (ipykernel)",
   "language": "python",
   "name": "python3"
  },
  "language_info": {
   "codemirror_mode": {
    "name": "ipython",
    "version": 3
   },
   "file_extension": ".py",
   "mimetype": "text/x-python",
   "name": "python",
   "nbconvert_exporter": "python",
   "pygments_lexer": "ipython3",
   "version": "3.10.9"
  }
 },
 "nbformat": 4,
 "nbformat_minor": 5
}
