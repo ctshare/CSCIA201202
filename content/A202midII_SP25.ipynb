{
 "cells": [
  {
   "cell_type": "markdown",
   "id": "27bbf446",
   "metadata": {},
   "source": [
    "# CSCI-A202/598 Introduction to Programming II: \n",
    "# Midterm II: Programming Part"
   ]
  },
  {
   "cell_type": "markdown",
   "id": "2b73f76c",
   "metadata": {},
   "source": [
    "* Answer each questions as instructed. \n",
    "\n",
    "* When you finish the exam:\n",
    "    * Step 1: Submit the print-out to intructor/TA.\n",
    "    * Step 2: Save the file.\n",
    "    * Step 3: Download the file `.ipynb`:\n",
    "    * Step 4: Submission to Autograder"
   ]
  },
  {
   "cell_type": "markdown",
   "id": "06a360b7",
   "metadata": {
    "deletable": false,
    "editable": false
   },
   "source": [
    "## p1.(1) [20 pts]\n",
    "\n",
    "Create a `Furniture` class that has the following properties:\n",
    "* `name` : a string representing the name of the furniture.\n",
    "* `area` : an integer representing the area occupied by the furniture in sqft. An `AssertionError` is raised if the area is not an integer.\n",
    "* a special method that when a `Furniture` object is printed, a string will be printout such as: `\"Bed:200 sqft\".\n",
    "* a method `get_area` that return a string to show the value of `area`."
   ]
  },
  {
   "cell_type": "code",
   "execution_count": null,
   "id": "47e153bc",
   "metadata": {
    "tags": []
   },
   "outputs": [],
   "source": [
    "class Furniture:\n",
    "    '''\n",
    "    A class to represent furniture items.\n",
    "    >>> chair = Furniture(\"Chair\", 50)\n",
    "    >>> print(chair)\n",
    "    Chair:50 sqft\n",
    "    >>> chair.get_area()\n",
    "    '50 sqft'\n",
    "    >>> table = Furniture(\"Table\", \"100\")\n",
    "    Traceback (most recent call last):\n",
    "    ...\n",
    "    AssertionError: Area must be an integer\n",
    "    '''\n",
    "    \"*** YOUR CODE HERE ***\"\n",
    "    "
   ]
  },
  {
   "cell_type": "code",
   "execution_count": null,
   "id": "5346d108",
   "metadata": {
    "tags": []
   },
   "outputs": [],
   "source": [
    "# Create furniture objects\n",
    "bed = Furniture(\"Bed\", 200)\n",
    "print(bed)  # Output: \"Bed:200 sqft\"\n",
    "print(bed.get_area())  # Output: \"200 sqft\""
   ]
  },
  {
   "cell_type": "code",
   "execution_count": null,
   "id": "d7f5bafe",
   "metadata": {
    "otter": {
     "tests": [
      "p1.(1)"
     ]
    },
    "tags": []
   },
   "outputs": [],
   "source": [
    "# This will raise an AssertionError\n",
    "sofa = Furniture(\"Sofa\", \"150\")  # Raises: AssertionError: Area must be an integer"
   ]
  },
  {
   "cell_type": "markdown",
   "id": "f8abbad4",
   "metadata": {
    "deletable": false,
    "editable": false
   },
   "source": [
    "## P1.(2) [20 pts]\n",
    "\n",
    "**Hourse**\n",
    "\n",
    "Create a class named `House` which maintains a list of Furniture objects\n",
    "with their respective areas. The class has the followed attributes and methods:\n",
    "* Attributes:\n",
    "    * `furniture_list` : a list that contains all the furniture objects in the house\n",
    "    * `area` : a integer that represents the total area of the house, with a default value 0.\n",
    "\n",
    "* Methods:\n",
    "    * `add_furniture` : a method that adds a `Furniture` object to the `furniture_list`. If the total area by the furniture exceeds 50% of the area of the house, an exception is raised.\n",
    "    * A special method `__str__` that returns a string representation of the `House` object, showing the list of furniture as in examples followed."
   ]
  },
  {
   "cell_type": "code",
   "execution_count": null,
   "id": "37b91311",
   "metadata": {
    "tags": []
   },
   "outputs": [],
   "source": [
    "class House:\n",
    "    '''\n",
    "    >>> house = House(1000)\n",
    "    >>> bed = Furniture(\"Bed\", 200)\n",
    "    >>> chair = Furniture(\"Chair\", 50)\n",
    "    >>> house.add_furniture(bed)\n",
    "    >>> house.add_furniture(chair)\n",
    "    >>> print(house)\n",
    "    House(1000 sqft) with furniture: Bed:200 sqft, Chair:50 sqft\n",
    "    >>> sofa = Furniture(\"Sofa\", 300)\n",
    "    >>> house.add_furniture(sofa)  # Total would be 550/1000 (55%)\n",
    "    Traceback (most recent call last):\n",
    "    ...\n",
    "    Exception: Furniture exceeds 50% of house area\n",
    "    '''\n",
    "    \"*** YOUR CODE HERE ***\""
   ]
  },
  {
   "cell_type": "code",
   "execution_count": null,
   "id": "e8fd6cb5",
   "metadata": {
    "tags": []
   },
   "outputs": [],
   "source": [
    "# Create a house with 800 sqft\n",
    "my_house = House(800)\n",
    "\n",
    "# Add some furniture\n",
    "my_house.add_furniture(Furniture(\"Bed\", 200))\n",
    "my_house.add_furniture(Furniture(\"Desk\", 100))\n",
    "\n",
    "print(my_house)\n",
    "# Output: House(800 sqft) with furniture: Bed:200 sqft, Desk:100 sqft"
   ]
  },
  {
   "cell_type": "code",
   "execution_count": null,
   "id": "ed25d4c4",
   "metadata": {
    "otter": {
     "tests": [
      "p1.(2)"
     ]
    },
    "tags": []
   },
   "outputs": [],
   "source": [
    "# This will raise an exception\n",
    "my_house.add_furniture(Furniture(\"Sofa\", 300))  \n",
    "# Raises: Exception: Furniture exceeds 50% of house area"
   ]
  },
  {
   "cell_type": "markdown",
   "id": "d80bee7e",
   "metadata": {
    "deletable": false,
    "editable": false
   },
   "source": [
    "## p2.  [20 pts]\n",
    "\n",
    "**Linked List**\n",
    "\n",
    "You're provided with the `Link` class as followed:"
   ]
  },
  {
   "cell_type": "code",
   "execution_count": null,
   "id": "6bf3b5a3",
   "metadata": {
    "deletable": false,
    "editable": false
   },
   "outputs": [],
   "source": [
    "class Link(object):\n",
    "    empty = ()\n",
    "\n",
    "    def __init__(self, first, rest=empty):\n",
    "        self.first = first\n",
    "        self.rest = rest\n",
    "\n",
    "    def __len__(self):\n",
    "        return 1 + len(self.rest)\n",
    "\n",
    "    def __getitem__(self, i):\n",
    "        if i == 0:\n",
    "            return self.first\n",
    "        return self.rest[i - 1]\n",
    "\n",
    "    def __repr__(self):\n",
    "        if self.rest is empty:\n",
    "            return 'Link({})'.format(repr(self.first))\n",
    "        return 'Link({}, {})'.format(repr(self.first), repr(self.rest))"
   ]
  },
  {
   "cell_type": "markdown",
   "id": "b42b5bec",
   "metadata": {
    "deletable": false,
    "editable": false
   },
   "source": [
    "Implement a function `count`, which takes a `Link` and another value, and counts the number of times that value is found in the `Link`."
   ]
  },
  {
   "cell_type": "code",
   "execution_count": null,
   "id": "110c7262",
   "metadata": {
    "tags": []
   },
   "outputs": [],
   "source": [
    "def count(r, value):\n",
    "    '''Counts the number of times VALUE shows up in R.\n",
    "\n",
    "    >>> r = Link(3, Link(3, Link(2, Link(3))))\n",
    "    >>> count(r, 3)\n",
    "    3\n",
    "    >>> count(r, 2)\n",
    "    1\n",
    "    '''\n",
    "    \"*** YOUR CODE HERE ***\""
   ]
  },
  {
   "cell_type": "code",
   "execution_count": null,
   "id": "511cadae",
   "metadata": {
    "tags": []
   },
   "outputs": [],
   "source": [
    "r = Link(3, Link(3, Link(2, Link(3))))\n",
    "count(r, 3) # return 3"
   ]
  },
  {
   "cell_type": "code",
   "execution_count": null,
   "id": "f5df549a",
   "metadata": {
    "tags": []
   },
   "outputs": [],
   "source": [
    "count(r, 2) # return 2"
   ]
  },
  {
   "cell_type": "code",
   "execution_count": null,
   "id": "8755ecee",
   "metadata": {
    "tags": []
   },
   "outputs": [],
   "source": [
    "link_no_match = Link(1, Link(2, Link(3, Link(4))))\n",
    "count(link_no_match, 0) # return 0"
   ]
  },
  {
   "cell_type": "code",
   "execution_count": null,
   "id": "b7430883",
   "metadata": {
    "otter": {
     "tests": [
      "p2"
     ]
    },
    "tags": []
   },
   "outputs": [],
   "source": [
    "link_mixed = Link(\"a\", Link(1, Link(\"a\")))\n",
    "count(link_mixed, \"a\") # return 2"
   ]
  },
  {
   "cell_type": "markdown",
   "id": "f85fd1d6",
   "metadata": {
    "deletable": false,
    "editable": false
   },
   "source": [
    "## p3.(1)  [20 pts]\n",
    "\n",
    "You're provided with a `Time` class as followed:"
   ]
  },
  {
   "cell_type": "code",
   "execution_count": null,
   "id": "47167fdb",
   "metadata": {
    "deletable": false,
    "editable": false
   },
   "outputs": [],
   "source": [
    "class Time:\n",
    "    \n",
    "    time_zone = None\n",
    "    \n",
    "    def __init__(self, h=0, m=0, s=0):\n",
    "        for i in [h, m, s]:\n",
    "            if not isinstance(i, int):\n",
    "                raise TypeError(\"Integers must be used to represent hours, minutes, and seconds in time.\")\n",
    "        if not -1 < h < 24:\n",
    "            raise ValueError(\"Invalid time range!\")\n",
    "        for i in [m, s]:\n",
    "            if not -1 < i < 60:\n",
    "                raise ValueError(\"Invalid time range!\")   \n",
    "        self.hours = h\n",
    "        self.minutes = m\n",
    "        self.seconds = s\n",
    "    \n",
    "    def __str__(self):\n",
    "        return \"{}:{}:{}\".format(self.hours, self.minutes, self.seconds)\n",
    "        \n",
    "    def __repr__(self):\n",
    "        return \"Time({}, {}, {})\".format(self.hours, self.minutes, self.seconds)\n",
    "    \n",
    "    def get_hours(self):\n",
    "        return str(self.hours)\n",
    "    \n",
    "    def get_minutes(self):\n",
    "        return str(self.minutes)\n",
    "    \n",
    "    def get_seconds(self):\n",
    "        return str(self.seconds)"
   ]
  },
  {
   "cell_type": "markdown",
   "id": "93945b52",
   "metadata": {
    "deletable": false,
    "editable": false
   },
   "source": [
    "**Implementing the Bloomington_Time Class**\n",
    "You will create a `Bloomington_Time` class that inherits from the provided `Time` class. \n",
    "\n",
    "Your task is to extend this class to represent time specifically in Bloomington, Indiana, by setting a fixed time zone, and to add functionality for adding two times (+) and comparing them (<=). This will make `Bloomington_Time` suitable for time arithmetic and scheduling tasks in a specific time zone.\n",
    "\n",
    "* Time Zone: Override the `time_zone` class attribute to `\"EST\"` (Eastern Standard Time, as Bloomington, Indiana, typically uses EST, UTC-5).\n",
    "* Initialization: Use the parent class’s `__init__` method to set hours, minutes, and seconds, ensuring inherited validation works.\n",
    "* String Representation: Modify `__str__` to include the time zone (e.g., \"EST, 12:30:45\").\n",
    "* Addition (+): Implement `__add__` to add two `Bloomington_Time` objects, returning a new `Bloomington_Time` object with the summed time, handling carry-over and wrapping at 24 hours.\n",
    "* Comparison (<=): Implement `__le__` to compare two `Bloomington_Time` objects chronologically, returning `True` if the current time is less than or equal to the other."
   ]
  },
  {
   "cell_type": "code",
   "execution_count": null,
   "id": "7499bf56",
   "metadata": {
    "tags": []
   },
   "outputs": [],
   "source": [
    "class Bloomington_Time(Time):\n",
    "    \"*** YOUR CODE HERE ***\""
   ]
  },
  {
   "cell_type": "code",
   "execution_count": null,
   "id": "0e38e919",
   "metadata": {
    "tags": []
   },
   "outputs": [],
   "source": [
    "t1 = Bloomington_Time(12, 30, 45)\n",
    "print(t1)  # Expected: \"EST, 12:30:45\"\n",
    "\n",
    "t2 = Bloomington_Time()  # Default time\n",
    "print(t2)  # Expected: \"EST, 0:0:0\""
   ]
  },
  {
   "cell_type": "code",
   "execution_count": null,
   "id": "3fa1106a",
   "metadata": {
    "tags": []
   },
   "outputs": [],
   "source": [
    "t3 = Bloomington_Time(21, 30, 45)\n",
    "t4 = Bloomington_Time(1, 40, 20)\n",
    "t5 = t3 + t4  # 21:30:45 + 1:40:20 = 23:11:05\n",
    "print(t5)  # Expected: \"EST, 23:11:5\"\n",
    "\n",
    "t6 = Bloomington_Time(23, 50, 40)\n",
    "t7 = Bloomington_Time(0, 20, 30)\n",
    "t8 = t6 + t7  # 23:50:40 + 0:20:30 = 0:11:10\n",
    "print(t8)  # Expected: \"EST, 0:11:10\""
   ]
  },
  {
   "cell_type": "code",
   "execution_count": null,
   "id": "0066f097",
   "metadata": {
    "otter": {
     "tests": [
      "p3.(1)"
     ]
    },
    "tags": []
   },
   "outputs": [],
   "source": [
    "t9 = Bloomington_Time(12, 0, 0)\n",
    "t10 = Bloomington_Time(13, 0, 0)\n",
    "print(t9 <= t10)  # Expected: True (12:00:00 ≤ 13:00:00)\n",
    "print(t10 <= t9)  # Expected: False (13:00:00 ≤ 12:00:00)\n",
    "\n",
    "t11 = Bloomington_Time(14, 30, 0)\n",
    "t12 = Bloomington_Time(14, 30, 0)\n",
    "print(t11 <= t12)  # Expected: True (14:30:00 ≤ 14:30:00)"
   ]
  },
  {
   "cell_type": "code",
   "execution_count": null,
   "id": "10683930",
   "metadata": {},
   "outputs": [],
   "source": []
  },
  {
   "cell_type": "markdown",
   "id": "904cde95",
   "metadata": {
    "deletable": false,
    "editable": false
   },
   "source": [
    "### P3.(2) [20 pts]\n",
    "\n",
    "In this task, you will create a `Clock` class that simulates a digital clock in Bloomington, Indiana, using the provided `Bloomington_Time` class to manage time values. The `Clock` class should function as an infinity **iterator**, yielding the current time at each step and advancing it by a specified duration. Each call to `next()` on the iterator should print the current time and increment it, allowing users to track time progression step-by-step."
   ]
  },
  {
   "cell_type": "code",
   "execution_count": null,
   "id": "d095330a",
   "metadata": {
    "tags": []
   },
   "outputs": [],
   "source": [
    "class Clock:\n",
    "    def __init__(self, start_time, duration = Bloomington_Time(0, 10, 0)):\n",
    "        '''Initialize the Clock with a start time and optional duration.'''\n",
    "        \"*** YOUR CODE HERE ***\"\n",
    "        \n",
    "    def __iter__(self):\n",
    "        '''Return the iterator object.'''\n",
    "        \"*** YOUR CODE HERE ***\"\n",
    "        \n",
    "    def __next__(self):\n",
    "        '''Increment the current time and advance it by the duration.'''\n",
    "        \"*** YOUR CODE HERE ***\"\n",
    "   "
   ]
  },
  {
   "cell_type": "code",
   "execution_count": null,
   "id": "267c0a99",
   "metadata": {
    "tags": []
   },
   "outputs": [],
   "source": [
    "start = Bloomington_Time(17, 30, 0)\n",
    "clock = Clock(start)  # Default 10-minute duration\n",
    "clock_iter = iter(clock)\n",
    "\n",
    "time1 = next(clock_iter)  \n",
    "print(time1)              # Prints: \"EST, 17:30:0\", advances to 17:40:0\n",
    "time2 = next(clock_iter)  \n",
    "print(time2)              # Prints: \"EST, 17:40:0\", advances to 17:50:0\n",
    "time3 = next(clock_iter)  \n",
    "print(time3)              # Prints: \"EST, 17:50:0\", advances to 18:00:0"
   ]
  },
  {
   "cell_type": "code",
   "execution_count": null,
   "id": "2453a440",
   "metadata": {
    "otter": {
     "tests": [
      "p3.(2)"
     ]
    },
    "tags": []
   },
   "outputs": [],
   "source": [
    "clock = Clock(Bloomington_Time(23, 50, 0), Bloomington_Time(0, 15, 0))  # 15-minute duration\n",
    "for i, time in enumerate(clock):\n",
    "    print(time)\n",
    "    if i >= 3:  # Limit to 3+1=4 steps\n",
    "        break\n",
    "# Expected output:\n",
    "# EST, 23:50:0\n",
    "# EST, 0:5:0  (wraps at 24 hours)\n",
    "# EST, 0:20:0\n",
    "# EST, 0:35:0"
   ]
  },
  {
   "cell_type": "code",
   "execution_count": null,
   "id": "c61a9c93",
   "metadata": {},
   "outputs": [],
   "source": []
  }
 ],
 "metadata": {
  "celltoolbar": "Edit Metadata",
  "kernelspec": {
   "display_name": "Python 3 (ipykernel)",
   "language": "python",
   "name": "python3"
  },
  "language_info": {
   "codemirror_mode": {
    "name": "ipython",
    "version": 3
   },
   "file_extension": ".py",
   "mimetype": "text/x-python",
   "name": "python",
   "nbconvert_exporter": "python",
   "pygments_lexer": "ipython3",
   "version": "3.10.9"
  },
  "otter": {
   "OK_FORMAT": true,
   "tests": {
    "p1.(1)": {
     "name": "p1.(1)",
     "points": 20,
     "suites": [
      {
       "cases": [
        {
         "code": ">>> chair = Furniture('Chair', 50)\n>>> assert chair.name == 'Chair', \"Name should be 'Chair'\"\n>>> assert chair.area == 50, 'Area should be 50'\n",
         "hidden": false,
         "locked": false
        },
        {
         "code": ">>> table = Furniture('Table', 100)\n>>> assert str(table) == 'Table:100 sqft', \"String representation should be 'Table:100 sqft'\"\n",
         "hidden": false,
         "locked": false
        },
        {
         "code": ">>> sofa = Furniture('Sofa', 75)\n>>> assert sofa.get_area() == '75 sqft', \"get_area should return '75 sqft'\"\n",
         "hidden": false,
         "locked": false
        },
        {
         "code": ">>> try:\n...     Furniture('Desk', '100')\n...     assert False, 'Expected AssertionError for non-integer area'\n... except AssertionError as e:\n...     assert str(e) == 'Area must be an integer', \"Error message should be 'Area must be an integer'\"\n",
         "hidden": false,
         "locked": false
        },
        {
         "code": ">>> bed = Furniture('Bed', -10)\n>>> assert bed.area == -10, 'Negative area should be allowed and set to -10'\n>>> assert str(bed) == 'Bed:-10 sqft', 'String representation should handle negative area'\n",
         "hidden": false,
         "locked": false
        },
        {
         "code": ">>> lamp = Furniture('Lamp', 0)\n>>> assert lamp.get_area() == '0 sqft', \"get_area should return '0 sqft' for zero area\"\n",
         "hidden": false,
         "locked": false
        },
        {
         "code": ">>> wardrobe = Furniture('Wardrobe with Drawers', 120)\n>>> assert str(wardrobe) == 'Wardrobe with Drawers:120 sqft', 'String representation should handle long names'\n",
         "hidden": false,
         "locked": false
        }
       ],
       "scored": true,
       "setup": "",
       "teardown": "",
       "type": "doctest"
      }
     ]
    },
    "p1.(2)": {
     "name": "p1.(2)",
     "points": 20,
     "suites": [
      {
       "cases": [
        {
         "code": ">>> house1 = House(1000)\n>>> assert house1.area == 1000, 'House area should be 1000'\n>>> assert house1.furniture_list == [], 'Furniture list should be empty initially'\n",
         "hidden": false,
         "locked": false
        },
        {
         "code": ">>> house2 = House(1000)\n>>> bed = Furniture('Bed', 200)\n>>> chair = Furniture('Chair', 50)\n>>> house2.add_furniture(bed)\n>>> house2.add_furniture(chair)\n>>> assert len(house2.furniture_list) == 2, 'Should have 2 furniture items'\n>>> assert house2.furniture_list[0] == bed, 'First item should be bed'\n>>> assert house2.furniture_list[1] == chair, 'Second item should be chair'\n",
         "hidden": false,
         "locked": false
        },
        {
         "code": ">>> house3 = House(1000)\n>>> house3.add_furniture(Furniture('Bed', 200))\n>>> house3.add_furniture(Furniture('Chair', 50))\n>>> assert str(house3) == 'House(1000 sqft) with furniture: Bed:200 sqft, Chair:50 sqft', 'String representation should match expected format'\n",
         "hidden": false,
         "locked": false
        },
        {
         "code": ">>> house4 = House(1000)\n>>> house4.add_furniture(Furniture('Bed', 200))\n>>> house4.add_furniture(Furniture('Chair', 50))\n>>> try:\n...     house4.add_furniture(Furniture('Sofa', 300))\n...     assert False, 'Expected Exception for exceeding 50% area'\n... except Exception as e:\n...     assert str(e) == 'Furniture exceeds 50% of house area', 'Error message should match'\n",
         "hidden": false,
         "locked": false
        },
        {
         "code": ">>> house5 = House(500)\n>>> assert str(house5) == 'House(500 sqft) with furniture: ', 'Empty house should have no furniture in string'\n",
         "hidden": false,
         "locked": false
        },
        {
         "code": ">>> house6 = House(600)\n>>> house6.add_furniture(Furniture('Table', 300))\n>>> assert len(house6.furniture_list) == 1, 'Should allow exactly 50% area'\n>>> assert str(house6) == 'House(600 sqft) with furniture: Table:300 sqft', 'String should reflect one item at 50%'\n",
         "hidden": false,
         "locked": false
        },
        {
         "code": ">>> house7 = House(1000)\n>>> house7.add_furniture(Furniture('Desk', 200))\n>>> house7.add_furniture(Furniture('Lamp', 100))\n>>> house7.add_furniture(Furniture('Rug', 200))\n>>> assert len(house7.furniture_list) == 3, 'Should allow 3 items up to 50%'\n>>> assert sum((f.area for f in house7.furniture_list)) == 500, 'Total area should be 500'\n",
         "hidden": false,
         "locked": false
        }
       ],
       "scored": true,
       "setup": "",
       "teardown": "",
       "type": "doctest"
      }
     ]
    },
    "p2": {
     "name": "p2",
     "points": 20,
     "suites": [
      {
       "cases": [
        {
         "code": ">>> assert count(Link.empty, 5) == 0, 'Count should be 0 for empty list'\n",
         "hidden": false,
         "locked": false
        },
        {
         "code": ">>> single_link = Link(42)\n>>> assert count(single_link, 42) == 1, 'Count should be 1 for single matching item'\n",
         "hidden": false,
         "locked": false
        },
        {
         "code": ">>> single_link_no_match = Link(10)\n>>> assert count(single_link_no_match, 7) == 0, 'Count should be 0 for single non-matching item'\n",
         "hidden": false,
         "locked": false
        },
        {
         "code": ">>> link_one_match = Link(1, Link(2, Link(3)))\n>>> assert count(link_one_match, 2) == 1, 'Count should be 1 for one match in multiple items'\n",
         "hidden": false,
         "locked": false
        },
        {
         "code": ">>> link_multi_match = Link(5, Link(5, Link(3, Link(5))))\n>>> assert count(link_multi_match, 5) == 3, 'Count should be 3 for three matches'\n",
         "hidden": false,
         "locked": false
        },
        {
         "code": ">>> link_no_match = Link(1, Link(2, Link(3, Link(4))))\n>>> assert count(link_no_match, 0) == 0, 'Count should be 0 when no items match'\n",
         "hidden": false,
         "locked": false
        },
        {
         "code": ">>> link_mixed = Link('a', Link(1, Link('a')))\n>>> assert count(link_mixed, 'a') == 2, 'Count should be 2 for matching strings in mixed types'\n",
         "hidden": false,
         "locked": false
        }
       ],
       "scored": true,
       "setup": "",
       "teardown": "",
       "type": "doctest"
      }
     ]
    },
    "p3.(1)": {
     "name": "p3.(1)",
     "points": 20,
     "suites": [
      {
       "cases": [
        {
         "code": ">>> t1 = Bloomington_Time()\n>>> assert t1.hours == 0, 'Default hours should be 0'\n>>> assert t1.minutes == 0, 'Default minutes should be 0'\n>>> assert t1.seconds == 0, 'Default seconds should be 0'\n>>> assert t1.time_zone == 'EST', \"Time zone should be 'EST'\"\n",
         "hidden": false,
         "locked": false
        },
        {
         "code": ">>> t2 = Bloomington_Time(12, 30, 45)\n>>> assert t2.hours == 12, 'Hours should be 12'\n>>> assert t2.minutes == 30, 'Minutes should be 30'\n>>> assert t2.seconds == 45, 'Seconds should be 45'\n>>> assert str(t2) == 'EST, 12:30:45', \"String representation should be 'EST, 12:30:45'\"\n",
         "hidden": false,
         "locked": false
        },
        {
         "code": ">>> t3 = Bloomington_Time(23, 59, 59)\n>>> assert str(t3) == 'EST, 23:59:59', 'String representation should handle max time'\n",
         "hidden": false,
         "locked": false
        },
        {
         "code": ">>> t4 = Bloomington_Time(10, 20, 30)\n>>> t5 = Bloomington_Time(0, 15, 45)\n>>> t6 = t4 + t5\n>>> assert str(t6) == 'EST, 10:36:15', \"10:20:30 + 0:15:45 should be 'EST, 10:36:15'\"\n>>> assert t6.hours == 10, 'Hours should be 10'\n>>> assert t6.minutes == 36, 'Minutes should be 36'\n>>> assert t6.seconds == 15, 'Seconds should be 15'\n",
         "hidden": false,
         "locked": false
        },
        {
         "code": ">>> t7 = Bloomington_Time(23, 50, 40)\n>>> t8 = Bloomington_Time(0, 20, 30)\n>>> t9 = t7 + t8\n>>> assert str(t9) == 'EST, 0:11:10', \"23:50:40 + 0:20:30 should wrap to 'EST, 0:11:10'\"\n",
         "hidden": false,
         "locked": false
        },
        {
         "code": ">>> t10 = Bloomington_Time(12, 0, 0)\n>>> t11 = Bloomington_Time(13, 0, 0)\n>>> assert (t10 <= t11) == True, '12:00:00 should be <= 13:00:00'\n>>> assert (t11 <= t10) == False, '13:00:00 should not be <= 12:00:00'\n",
         "hidden": false,
         "locked": false
        },
        {
         "code": ">>> t12 = Bloomington_Time(14, 30, 0)\n>>> t13 = Bloomington_Time(14, 30, 0)\n>>> assert (t12 <= t13) == True, '14:30:00 should be <= 14:30:00'\n>>> assert (t13 <= t12) == True, '14:30:00 should be <= 14:30:00'\n",
         "hidden": false,
         "locked": false
        },
        {
         "code": ">>> try:\n...     Bloomington_Time(12.5, 30, 45)\n...     assert False, 'Expected TypeError for non-integer input'\n... except TypeError as e:\n...     assert str(e) == 'Integers must be used to represent hours, minutes, and seconds in time.', 'Error message should match'\n",
         "hidden": false,
         "locked": false
        },
        {
         "code": ">>> try:\n...     Bloomington_Time(24, 0, 0)\n...     assert False, 'Expected ValueError for hours out of range'\n... except ValueError as e:\n...     assert str(e) == 'Invalid time range!', 'Error message should match'\n",
         "hidden": false,
         "locked": false
        },
        {
         "code": ">>> t14 = Bloomington_Time(9, 0, 0)\n>>> try:\n...     t14 + 'not_a_time'\n...     assert False, 'Expected TypeError for adding non-Bloomington_Time'\n... except TypeError as e:\n...     assert str(e) == 'Can only add another Bloomington_Time object', 'Error message should match'\n",
         "hidden": false,
         "locked": false
        }
       ],
       "scored": true,
       "setup": "",
       "teardown": "",
       "type": "doctest"
      }
     ]
    },
    "p3.(2)": {
     "name": "p3.(2)",
     "points": 20,
     "suites": [
      {
       "cases": [
        {
         "code": ">>> start1 = Bloomington_Time(17, 30, 0)\n>>> clock1 = Clock(start1)\n>>> assert clock1.current_time == start1, 'Initial time should match start_time'\n>>> assert str(clock1.duration) == 'EST, 0:10:0', 'Default duration should be 10 minutes'\n",
         "hidden": false,
         "locked": false
        },
        {
         "code": ">>> start1 = Bloomington_Time(17, 30, 0)\n>>> clock1 = Clock(start1)\n>>> assert isinstance(clock1.current_time, Bloomington_Time) and str(clock1.current_time) == 'EST, 17:30:0', \"Initial time should be 'EST, 17:30:0'\"\n>>> assert isinstance(clock1.duration, Bloomington_Time) and str(clock1.duration) == 'EST, 0:10:0', \"Default duration should be 'EST, 0:10:0'\"\n",
         "hidden": false,
         "locked": false
        },
        {
         "code": ">>> clock2 = Clock(Bloomington_Time(9, 0, 0))\n>>> clock_iter2 = iter(clock2)\n>>> returned_time = next(clock_iter2)\n>>> assert isinstance(returned_time, Bloomington_Time) and str(returned_time) == 'EST, 9:0:0', \"First returned time should be 'EST, 9:0:0'\"\n>>> assert isinstance(clock2.current_time, Bloomington_Time) and str(clock2.current_time) == 'EST, 9:10:0', \"Time should advance to 'EST, 9:10:0'\"\n",
         "hidden": false,
         "locked": false
        },
        {
         "code": ">>> clock3 = Clock(Bloomington_Time(12, 45, 0))\n>>> clock_iter3 = iter(clock3)\n>>> time1 = next(clock_iter3)\n>>> time2 = next(clock_iter3)\n>>> time3 = next(clock_iter3)\n>>> assert isinstance(time1, Bloomington_Time) and str(time1) == 'EST, 12:45:0', \"First returned time should be 'EST, 12:45:0'\"\n>>> assert isinstance(time2, Bloomington_Time) and str(time2) == 'EST, 12:55:0', \"Second returned time should be 'EST, 12:55:0'\"\n>>> assert isinstance(time3, Bloomington_Time) and str(time3) == 'EST, 13:5:0', \"Third returned time should be 'EST, 13:5:0'\"\n>>> assert isinstance(clock3.current_time, Bloomington_Time) and str(clock3.current_time) == 'EST, 13:15:0', \"Final time should be 'EST, 13:15:0'\"\n",
         "hidden": false,
         "locked": false
        },
        {
         "code": ">>> clock4 = Clock(Bloomington_Time(14, 0, 0), Bloomington_Time(0, 15, 0))\n>>> clock_iter4 = iter(clock4)\n>>> time1 = next(clock_iter4)\n>>> time2 = next(clock_iter4)\n>>> assert isinstance(time1, Bloomington_Time) and str(time1) == 'EST, 14:0:0', \"First returned time should be 'EST, 14:0:0'\"\n>>> assert isinstance(time2, Bloomington_Time) and str(time2) == 'EST, 14:15:0', \"Second returned time should be 'EST, 14:15:0'\"\n>>> assert isinstance(clock4.current_time, Bloomington_Time) and str(clock4.current_time) == 'EST, 14:30:0', \"Time should advance to 'EST, 14:30:0'\"\n",
         "hidden": false,
         "locked": false
        },
        {
         "code": ">>> clock5 = Clock(Bloomington_Time(23, 50, 0))\n>>> clock_iter5 = iter(clock5)\n>>> time1 = next(clock_iter5)\n>>> time2 = next(clock_iter5)\n>>> assert isinstance(time1, Bloomington_Time) and str(time1) == 'EST, 23:50:0', \"First returned time should be 'EST, 23:50:0'\"\n>>> assert isinstance(time2, Bloomington_Time) and str(time2) == 'EST, 0:0:0', \"Second returned time should be 'EST, 0:0:0'\"\n>>> assert isinstance(clock5.current_time, Bloomington_Time) and str(clock5.current_time) == 'EST, 0:10:0', \"Time should advance to 'EST, 0:10:0'\"\n",
         "hidden": false,
         "locked": false
        },
        {
         "code": ">>> clock6 = Clock(Bloomington_Time(8, 0, 0))\n>>> assert iter(clock6) is clock6, '__iter__ should return self'\n",
         "hidden": false,
         "locked": false
        }
       ],
       "scored": true,
       "setup": "",
       "teardown": "",
       "type": "doctest"
      }
     ]
    }
   }
  }
 },
 "nbformat": 4,
 "nbformat_minor": 5
}
