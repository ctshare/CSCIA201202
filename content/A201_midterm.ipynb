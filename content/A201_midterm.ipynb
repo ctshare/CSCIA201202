{
 "cells": [
  {
   "cell_type": "markdown",
   "id": "27bbf446",
   "metadata": {},
   "source": [
    "# CSCI-A201/597 Introduction to Programming I: \n",
    "# Midterm Exam: Programming Part"
   ]
  },
  {
   "cell_type": "markdown",
   "id": "2b73f76c",
   "metadata": {},
   "source": [
    "* Answer each questions as instructed. \n",
    "* When you finish the exam:\n",
    "    * Before submit the file to Autograder: submit the print-out to intructor/TA.\n",
    "    * Download the notebook file (`.ipynb`) to Autograder on Canvas. "
   ]
  },
  {
   "cell_type": "markdown",
   "id": "06a360b7",
   "metadata": {
    "deletable": false,
    "editable": false
   },
   "source": [
    "### P1.  [20 pts]\n"
   ]
  },
  {
   "cell_type": "code",
   "execution_count": null,
   "id": "9419de41",
   "metadata": {
    "tags": []
   },
   "outputs": [],
   "source": [
    "# P1 (1)\n",
    "\n",
    "# finish the program: \n",
    "p1_1 = [i for i in range(5, 101)] # solution"
   ]
  },
  {
   "cell_type": "code",
   "execution_count": null,
   "id": "23be9642",
   "metadata": {
    "tags": []
   },
   "outputs": [],
   "source": [
    "# p1 (2)\n",
    "# finish the function:\n",
    "\n",
    "def p1_2(a, b, c):\n",
    "    pass"
   ]
  },
  {
   "cell_type": "code",
   "execution_count": null,
   "id": "64175344",
   "metadata": {
    "tags": []
   },
   "outputs": [],
   "source": [
    "# p1 (3)\n",
    "# finish the function:\n",
    "\n",
    "def p1_3(a, b, c):\n",
    "    pass"
   ]
  },
  {
   "cell_type": "code",
   "execution_count": null,
   "id": "dba6c8b1",
   "metadata": {
    "tags": []
   },
   "outputs": [],
   "source": [
    "# p1 (4)\n",
    "# finish the function:\n",
    "\n",
    "def p1_3(a, b):\n",
    "    pass"
   ]
  },
  {
   "cell_type": "code",
   "execution_count": null,
   "id": "10683930",
   "metadata": {},
   "outputs": [],
   "source": []
  },
  {
   "cell_type": "markdown",
   "id": "904cde95",
   "metadata": {
    "deletable": false,
    "editable": false
   },
   "source": [
    "### P2  [20 pts]"
   ]
  },
  {
   "cell_type": "code",
   "execution_count": null,
   "id": "b7e28d0a",
   "metadata": {
    "tags": []
   },
   "outputs": [],
   "source": [
    "# P2 (1)\n",
    "\n",
    "\n",
    "# write your code here\n"
   ]
  },
  {
   "cell_type": "code",
   "execution_count": null,
   "id": "a834d849",
   "metadata": {
    "tags": []
   },
   "outputs": [],
   "source": [
    "# P2 (2)\n",
    "\n",
    "\n",
    "# write your code here\n"
   ]
  },
  {
   "cell_type": "code",
   "execution_count": null,
   "id": "5fb129a8",
   "metadata": {},
   "outputs": [],
   "source": []
  }
 ],
 "metadata": {
  "celltoolbar": "Edit Metadata",
  "kernelspec": {
   "display_name": "Python 3 (ipykernel)",
   "language": "python",
   "name": "python3"
  },
  "language_info": {
   "codemirror_mode": {
    "name": "ipython",
    "version": 3
   },
   "file_extension": ".py",
   "mimetype": "text/x-python",
   "name": "python",
   "nbconvert_exporter": "python",
   "pygments_lexer": "ipython3",
   "version": "3.10.9"
  },
  "otter": {
   "OK_FORMAT": true,
   "tests": {
    "p1": {
     "name": "p1",
     "points": 20,
     "suites": [
      {
       "cases": [
        {
         "code": ">>> def check_p1_1():\n...     assert isinstance(p1_1, list), 'not a list'\n...     assert len(p1_1) == 96\n...     for i in range(5, 101):\n...         assert i in p1_1, '{i} should be included'\n>>> check_p1_1()\n",
         "hidden": false,
         "locked": false
        },
        {
         "code": ">>> def test_p1_2():\n...     assert p1_2(3, 4, 7) == True, f'Failed Test Case 1: p1_2(3, 4, 7) should return True'\n...     assert p1_2(7, 10, 6) == True, f'Failed Test Case 2: p1_2(7, 10, 6) should return True'\n...     assert p1_2(1, 4, 6) == False, f'Failed Test Case 3: p1_2(1, 4, 6) should return False'\n...     assert p1_2(1, 2, 3) == False, f'Failed Test Case 4: p1_2(1, 2, 3) should return False'\n...     assert p1_2(10, 13, 9) == True, f'Failed Test Case 5: p1_2(10, 13, 9) should return True'\n...     assert p1_2(5, 5, 5) == False, f'Failed Test Case 6: p1_2(5, 5, 5) should return False'\n>>> test_p1_2()\n",
         "hidden": false,
         "locked": false
        },
        {
         "code": ">>> def test_p1_3():\n...     assert p1_3(22, 25, 28) == 0, f'Failed Test Case 1: p1_3(22, 25, 28) should return 0'\n...     assert p1_3(10, 15, 30) == 55, f'Failed Test Case 2: p1_3(10, 15, 30) should return 55'\n...     assert p1_3(20, 12, 18) == 30, f'Failed Test Case 3: p1_3(20, 12, 18) should return 30'\n...     assert p1_3(27, 30, 25) == 30, f'Failed Test Case 4: p1_3(27, 30, 25) should return 30'\n...     assert p1_3(5, 10, 15) == 30, f'Failed Test Case 5: p1_3(5, 10, 15) should return 30'\n...     assert p1_3(20, 29, 25) == 0, f'Failed Test Case 6: p1_3(20, 29, 25) should return 0'\n...     assert p1_3(23, 17, 35) == 52, f'Failed Test Case 7: p1_3(23, 17, 35) should return 52'\n>>> test_p1_3()\n",
         "hidden": false,
         "locked": false
        },
        {
         "code": ">>> def test_p1_4():\n...     assert p1_4('abc', 'abc') == 2, f\"Failed Test Case 1: p1_4('abc', 'abc') should return 2\"\n...     assert p1_4('abc', 'xyz') == 0, f\"Failed Test Case 2: p1_4('abc', 'xyz') should return 0\"\n...     assert p1_4('aabbcc', 'abbcdd') == 0, f\"Failed Test Case 3: p1_4('aabbcc', 'abbcdd') should return 0\"\n...     assert p1_4('abc', 'ab') == 1, f\"Failed Test Case 4: p1_4('abc', 'ab') should return 1\"\n...     assert p1_4('', 'xyz') == 0, f\"Failed Test Case 5: p1_4('', 'xyz') should return 0\"\n...     assert p1_4('abcdefgh', 'ijklmnop') == 0, f\"Failed Test Case 6: p1_4('abcdefgh', 'ijklmnop') should return 0\"\n...     assert p1_4('abcde', 'abcfg') == 2, f\"Failed Test Case 7: p1_4('abcde', 'abcfg') should return 2\"\n...     assert p1_4('xyzabc', 'pqrabc') == 2, f\"Failed Test Case 8: p1_4('xyzabc', 'pqrabc') should return 2\"\n...     assert p1_4('abcdef', '123def') == 2, f\"Failed Test Case 9: p1_4('abcdef', '123def') should return 2\"\n...     assert p1_4('aaaaaa', 'aaaa') == 3, f\"Failed Test Case 10: p1_4('aaaaaa', 'aaaa') should return 3\"\n>>> test_p1_4()\n",
         "hidden": false,
         "locked": false
        }
       ],
       "scored": true,
       "setup": "",
       "teardown": "",
       "type": "doctest"
      }
     ]
    },
    "p2": {
     "name": "p2",
     "points": 20,
     "suites": [
      {
       "cases": [
        {
         "code": ">>> def test_inflation_rate():\n...     initial = 100.0\n...     final = 100.0\n...     assert inflation_rate(initial, final) == 0.0, f'Expected 0.0, but got {inflation_rate(initial, final)}'\n...     initial = 100.0\n...     final = 120.0\n...     assert inflation_rate(initial, final) == 20.0, f'Expected 20.0, but got {inflation_rate(initial, final)}'\n...     initial = 100.0\n...     final = 80.0\n...     assert inflation_rate(initial, final) == -20.0, f'Expected -20.0, but got {inflation_rate(initial, final)}'\n...     initial = 50.0\n...     final = 150.0\n...     assert inflation_rate(initial, final) == 200.0, f'Expected 200.0, but got {inflation_rate(initial, final)}'\n...     initial = 99.99\n...     final = 100.01\n...     assert inflation_rate(initial, final) == 0.02, f'Expected 0.02, but got {inflation_rate(initial, final)}'\n...     initial = 1000.0\n...     final = 100.0\n...     assert inflation_rate(initial, final) == -90.0, f'Expected -90.0, but got {inflation_rate(initial, final)}'\n>>> test_inflation_rate()\n",
         "hidden": false,
         "locked": false
        },
        {
         "code": ">>> def test_average_inflation_rate():\n...     expected = 1.24\n...     result = average_inflation_rate()\n...     assert result == expected, f'Test Case 1 Failed: expected {expected}, got {result}'\n>>> test_average_inflation_rate()\n",
         "hidden": false,
         "locked": false
        }
       ],
       "scored": true,
       "setup": "",
       "teardown": "",
       "type": "doctest"
      }
     ]
    }
   }
  }
 },
 "nbformat": 4,
 "nbformat_minor": 5
}
