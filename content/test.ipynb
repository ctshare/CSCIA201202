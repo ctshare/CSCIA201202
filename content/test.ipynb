{
 "cells": [
  {
   "cell_type": "markdown",
   "id": "27bbf446",
   "metadata": {},
   "source": [
    "# CSCI-A201/597 Introduction to Programming I: \n",
    "# Midterm Exam: Programming Part"
   ]
  },
  {
   "cell_type": "markdown",
   "id": "2b73f76c",
   "metadata": {},
   "source": [
    "* Answer each questions as instructed. \n",
    "\n",
    "* When you finish the exam:\n",
    "    * Before submit the file to Autograder: submit the print-out to intructor/TA.\n",
    "    * Download the notebook file (`.ipynb`) to this link: https://iu.instructure.com/courses/2249164/assignments/16824692. "
   ]
  },
  {
   "cell_type": "code",
   "execution_count": 1,
   "id": "e1fa538b",
   "metadata": {},
   "outputs": [
    {
     "data": {
      "text/html": [
       "\n",
       "<button type=\"button\" id=\"button_for_indexeddb\">Clear JupyterLite local storage</button>\n",
       "<script>\n",
       "window.button_for_indexeddb.onclick = function(e) {\n",
       "    window.indexedDB.open('JupyterLite Storage').onsuccess = function(e) {\n",
       "        // There are also other tables that I'm not clearing:\n",
       "        // \"counters\", \"settings\", \"local-storage-detect-blob-support\"\n",
       "        let tables = [\"checkpoints\", \"files\"];\n",
       "\n",
       "        let db = e.target.result;\n",
       "        let t = db.transaction(tables, \"readwrite\");\n",
       "\n",
       "        function clearTable(tablename) {\n",
       "            let st = t.objectStore(tablename);\n",
       "            st.count().onsuccess = function(e) {\n",
       "                console.log(\"Deleting \" + e.target.result + \" entries from \" + tablename + \"...\");\n",
       "                st.clear().onsuccess = function(e) {\n",
       "                    console.log(tablename + \" is cleared!\");\n",
       "                }\n",
       "            }\n",
       "        }\n",
       "\n",
       "        for (let tablename of tables) {\n",
       "            clearTable(tablename);\n",
       "        }\n",
       "    }\n",
       "};\n",
       "</script>\n"
      ],
      "text/plain": [
       "<IPython.core.display.HTML object>"
      ]
     },
     "metadata": {},
     "output_type": "display_data"
    }
   ],
   "source": [
    "from IPython.display import display, HTML\n",
    "display(HTML(\"\"\"\n",
    "<button type=\"button\" id=\"button_for_indexeddb\">Clear JupyterLite local storage</button>\n",
    "<script>\n",
    "window.button_for_indexeddb.onclick = function(e) {\n",
    "    window.indexedDB.open('JupyterLite Storage').onsuccess = function(e) {\n",
    "        // There are also other tables that I'm not clearing:\n",
    "        // \"counters\", \"settings\", \"local-storage-detect-blob-support\"\n",
    "        let tables = [\"checkpoints\", \"files\"];\n",
    "\n",
    "        let db = e.target.result;\n",
    "        let t = db.transaction(tables, \"readwrite\");\n",
    "\n",
    "        function clearTable(tablename) {\n",
    "            let st = t.objectStore(tablename);\n",
    "            st.count().onsuccess = function(e) {\n",
    "                console.log(\"Deleting \" + e.target.result + \" entries from \" + tablename + \"...\");\n",
    "                st.clear().onsuccess = function(e) {\n",
    "                    console.log(tablename + \" is cleared!\");\n",
    "                }\n",
    "            }\n",
    "        }\n",
    "\n",
    "        for (let tablename of tables) {\n",
    "            clearTable(tablename);\n",
    "        }\n",
    "    }\n",
    "};\n",
    "</script>\n",
    "\"\"\"))"
   ]
  },
  {
   "cell_type": "markdown",
   "id": "06a360b7",
   "metadata": {
    "deletable": false,
    "editable": false
   },
   "source": [
    "## p1.(1).  [10 pts]"
   ]
  },
  {
   "cell_type": "code",
   "execution_count": null,
   "id": "9419de41",
   "metadata": {
    "tags": []
   },
   "outputs": [],
   "source": [
    "# finish the program: \n",
    "p1_1 = None"
   ]
  },
  {
   "cell_type": "code",
   "execution_count": null,
   "id": "43b4f8fd",
   "metadata": {
    "tags": []
   },
   "outputs": [],
   "source": []
  },
  {
   "cell_type": "code",
   "execution_count": null,
   "id": "1099fa19",
   "metadata": {
    "tags": []
   },
   "outputs": [],
   "source": []
  },
  {
   "cell_type": "markdown",
   "id": "324b8eb1",
   "metadata": {
    "deletable": false,
    "editable": false
   },
   "source": [
    "## p1.(2).  [10 pts]"
   ]
  },
  {
   "cell_type": "code",
   "execution_count": null,
   "id": "72620921",
   "metadata": {
    "tags": []
   },
   "outputs": [],
   "source": [
    "# finish the function:\n",
    "\n",
    "def p1_2(a):\n",
    "    pass"
   ]
  },
  {
   "cell_type": "code",
   "execution_count": null,
   "id": "96f24b14",
   "metadata": {
    "tags": []
   },
   "outputs": [],
   "source": []
  },
  {
   "cell_type": "code",
   "execution_count": null,
   "id": "1e51b44e",
   "metadata": {
    "tags": []
   },
   "outputs": [],
   "source": []
  },
  {
   "cell_type": "markdown",
   "id": "d80bee7e",
   "metadata": {
    "deletable": false,
    "editable": false
   },
   "source": [
    "## p1.(3).  [10 pts]"
   ]
  },
  {
   "cell_type": "code",
   "execution_count": null,
   "id": "f20b209a",
   "metadata": {
    "tags": []
   },
   "outputs": [],
   "source": [
    "# finish the function:\n",
    "\n",
    "def p1_3(a, b, c):\n",
    "    pass"
   ]
  },
  {
   "cell_type": "code",
   "execution_count": null,
   "id": "511cadae",
   "metadata": {
    "tags": []
   },
   "outputs": [],
   "source": []
  },
  {
   "cell_type": "code",
   "execution_count": null,
   "id": "8f9e98ad",
   "metadata": {
    "tags": []
   },
   "outputs": [],
   "source": []
  },
  {
   "cell_type": "markdown",
   "id": "f85fd1d6",
   "metadata": {
    "deletable": false,
    "editable": false
   },
   "source": [
    "## p1.(4)  [10 pts]"
   ]
  },
  {
   "cell_type": "code",
   "execution_count": null,
   "id": "4763ca29",
   "metadata": {
    "tags": []
   },
   "outputs": [],
   "source": [
    "# finish the function:\n",
    "\n",
    "def p1_4(a, b):\n",
    "    pass"
   ]
  },
  {
   "cell_type": "code",
   "execution_count": null,
   "id": "0e38e919",
   "metadata": {
    "tags": []
   },
   "outputs": [],
   "source": []
  },
  {
   "cell_type": "code",
   "execution_count": null,
   "id": "3fa1106a",
   "metadata": {
    "tags": []
   },
   "outputs": [],
   "source": []
  },
  {
   "cell_type": "code",
   "execution_count": null,
   "id": "10683930",
   "metadata": {},
   "outputs": [],
   "source": []
  },
  {
   "cell_type": "markdown",
   "id": "904cde95",
   "metadata": {
    "deletable": false,
    "editable": false
   },
   "source": [
    "### P2 [20 pts]"
   ]
  },
  {
   "cell_type": "code",
   "execution_count": null,
   "id": "b7e28d0a",
   "metadata": {
    "tags": []
   },
   "outputs": [],
   "source": [
    "# P2 (1)\n",
    "\n",
    "\n",
    "# write your code here\n"
   ]
  },
  {
   "cell_type": "code",
   "execution_count": null,
   "id": "dc18456d",
   "metadata": {
    "tags": []
   },
   "outputs": [],
   "source": []
  },
  {
   "cell_type": "code",
   "execution_count": null,
   "id": "a834d849",
   "metadata": {
    "tags": []
   },
   "outputs": [],
   "source": [
    "# P2 (2)\n",
    "\n",
    "\n",
    "# write your code here\n"
   ]
  },
  {
   "cell_type": "code",
   "execution_count": null,
   "id": "267c0a99",
   "metadata": {
    "tags": []
   },
   "outputs": [],
   "source": []
  },
  {
   "cell_type": "markdown",
   "id": "68bf3318",
   "metadata": {
    "deletable": false,
    "editable": false
   },
   "source": [
    "## p3  [10 pts]"
   ]
  },
  {
   "cell_type": "code",
   "execution_count": null,
   "id": "13229f70",
   "metadata": {
    "tags": []
   },
   "outputs": [],
   "source": [
    "# finish the function:\n",
    "\n",
    "\n",
    "# write your code here\n"
   ]
  },
  {
   "cell_type": "code",
   "execution_count": null,
   "id": "f5fd5bfc",
   "metadata": {
    "tags": []
   },
   "outputs": [],
   "source": []
  },
  {
   "cell_type": "code",
   "execution_count": null,
   "id": "4d49deff",
   "metadata": {
    "tags": []
   },
   "outputs": [],
   "source": []
  },
  {
   "cell_type": "markdown",
   "id": "6f7109d3",
   "metadata": {
    "deletable": false,
    "editable": false
   },
   "source": [
    "## p4  [10 pts]"
   ]
  },
  {
   "cell_type": "code",
   "execution_count": null,
   "id": "df46ca19",
   "metadata": {
    "tags": []
   },
   "outputs": [],
   "source": [
    "# finish the function:\n",
    "\n",
    "\n",
    "# write your code here\n"
   ]
  },
  {
   "cell_type": "code",
   "execution_count": null,
   "id": "56570aaf",
   "metadata": {
    "tags": []
   },
   "outputs": [],
   "source": []
  },
  {
   "cell_type": "code",
   "execution_count": null,
   "id": "c17ab875",
   "metadata": {
    "tags": []
   },
   "outputs": [],
   "source": []
  },
  {
   "cell_type": "markdown",
   "id": "c7c8d11a",
   "metadata": {
    "deletable": false,
    "editable": false
   },
   "source": [
    "## p5  [10 pts]"
   ]
  },
  {
   "cell_type": "code",
   "execution_count": null,
   "id": "984bb140",
   "metadata": {
    "tags": []
   },
   "outputs": [],
   "source": [
    "# finish the function:\n",
    "\n",
    "\n",
    "# write your code here\n"
   ]
  },
  {
   "cell_type": "code",
   "execution_count": null,
   "id": "e4042634",
   "metadata": {
    "tags": []
   },
   "outputs": [],
   "source": []
  },
  {
   "cell_type": "code",
   "execution_count": null,
   "id": "7a9a7d2e",
   "metadata": {
    "tags": []
   },
   "outputs": [],
   "source": []
  }
 ],
 "metadata": {
  "celltoolbar": "Edit Metadata",
  "kernelspec": {
   "display_name": "Python 3 (ipykernel)",
   "language": "python",
   "name": "python3"
  },
  "language_info": {
   "codemirror_mode": {
    "name": "ipython",
    "version": 3
   },
   "file_extension": ".py",
   "mimetype": "text/x-python",
   "name": "python",
   "nbconvert_exporter": "python",
   "pygments_lexer": "ipython3",
   "version": "3.10.9"
  },
  "otter": {
   "OK_FORMAT": true,
   "tests": {
    "p1.(1)": {
     "name": "p1.(1)",
     "points": 10,
     "suites": [
      {
       "cases": [
        {
         "code": ">>> def check_p1_1():\n...     assert isinstance(p1_1, list), 'not a list'\n...     assert len(p1_1) == 96\n...     for i in range(5, 101):\n...         assert i in p1_1, '{i} should be included'\n>>> check_p1_1()\n",
         "hidden": false,
         "locked": false
        }
       ],
       "scored": true,
       "setup": "",
       "teardown": "",
       "type": "doctest"
      }
     ]
    },
    "p1.(2)": {
     "name": "p1.(2)",
     "points": 10,
     "suites": [
      {
       "cases": [
        {
         "code": ">>> assert p1_2('AEIOU') == 5, 'Test Case 1 Failed'\n",
         "hidden": false,
         "locked": false
        },
        {
         "code": ">>> assert p1_2('HELLO WORLD') == 3, 'Test Case 2 Failed'\n",
         "hidden": false,
         "locked": false
        },
        {
         "code": ">>> assert p1_2('BCDFG') == 0, 'Test Case 3 Failed'\n",
         "hidden": false,
         "locked": false
        },
        {
         "code": ">>> assert p1_2('') == 0, 'Test Case 4 Failed'\n",
         "hidden": false,
         "locked": false
        },
        {
         "code": ">>> assert p1_2('HEllo') == 1, 'Test Case 5 Failed'\n",
         "hidden": false,
         "locked": false
        },
        {
         "code": ">>> assert p1_2('happy') == 0, 'Test Case 6 Failed'\n",
         "hidden": false,
         "locked": false
        },
        {
         "code": ">>> assert p1_2('SUNNY') == 1, 'Test Case 7 Failed'\n",
         "hidden": false,
         "locked": false
        },
        {
         "code": ">>> assert p1_2('123') == 0, 'Test Case 8 Failed'\n",
         "hidden": false,
         "locked": false
        },
        {
         "code": ">>> assert p1_2('BCDFGHJKLMNPQRSTVWXYZ' * 100) == 0, 'Test Case 9 Failed'\n",
         "hidden": false,
         "locked": false
        }
       ],
       "scored": true,
       "setup": "",
       "teardown": "",
       "type": "doctest"
      }
     ]
    },
    "p1.(3)": {
     "name": "p1.(3)",
     "points": 10,
     "suites": [
      {
       "cases": [
        {
         "code": ">>> assert p1_3(22, 25, 28) == 0, 'Test Case 1 Failed'\n",
         "hidden": false,
         "locked": false
        },
        {
         "code": ">>> assert p1_3(20, 29, 25) == 0\n",
         "hidden": false,
         "locked": false
        },
        {
         "code": ">>> assert p1_3(10, 15, 30) == 55, 'Test Case 3 Failed'\n",
         "hidden": false,
         "locked": false
        },
        {
         "code": ">>> assert p1_3(20, 21, 29) == 0, 'Test Case 4 Failed'\n",
         "hidden": false,
         "locked": false
        },
        {
         "code": ">>> assert p1_3(20, 12, 18) == 30, 'Test Case 5 Failed'\n",
         "hidden": false,
         "locked": false
        },
        {
         "code": ">>> assert p1_3(20, 25, 50) == 50, 'Test Case 6 Failed'\n",
         "hidden": false,
         "locked": false
        },
        {
         "code": ">>> assert p1_3(5, 15, 35) == 55, 'Test Case 7 Failed'\n",
         "hidden": false,
         "locked": false
        }
       ],
       "scored": true,
       "setup": "",
       "teardown": "",
       "type": "doctest"
      }
     ]
    },
    "p1.(4)": {
     "name": "p1.(4)",
     "points": 10,
     "suites": [
      {
       "cases": [
        {
         "code": ">>> assert p1_4('abc', 'abc') == 2, f\"Failed Test Case 1: p1_4('abc', 'abc') should return 2\"\n",
         "hidden": false,
         "locked": false
        },
        {
         "code": ">>> assert p1_4('abc', 'xyz') == 0, f\"Failed Test Case 2: p1_4('abc', 'xyz') should return 0\"\n",
         "hidden": false,
         "locked": false
        },
        {
         "code": ">>> assert p1_4('aabbcc', 'abbcdd') == 0, f\"Failed Test Case 3: p1_4('aabbcc', 'abbcdd') should return 0\"\n",
         "hidden": false,
         "locked": false
        },
        {
         "code": ">>> assert p1_4('abc', 'ab') == 1, f\"Failed Test Case 4: p1_4('abc', 'ab') should return 1\"\n",
         "hidden": false,
         "locked": false
        },
        {
         "code": ">>> assert p1_4('', 'xyz') == 0, f\"Failed Test Case 5: p1_4('', 'xyz') should return 0\"\n",
         "hidden": false,
         "locked": false
        },
        {
         "code": ">>> assert p1_4('abcdefgh', 'ijklmnop') == 0, f\"Failed Test Case 6: p1_4('abcdefgh', 'ijklmnop') should return 0\"\n",
         "hidden": false,
         "locked": false
        },
        {
         "code": ">>> assert p1_4('abcde', 'abcfg') == 2, f\"Failed Test Case 7: p1_4('abcde', 'abcfg') should return 2\"\n",
         "hidden": false,
         "locked": false
        },
        {
         "code": ">>> assert p1_4('xyzabc', 'pqrabc') == 2, f\"Failed Test Case 8: p1_4('xyzabc', 'pqrabc') should return 2\"\n",
         "hidden": false,
         "locked": false
        },
        {
         "code": ">>> assert p1_4('abcdef', '123def') == 2, f\"Failed Test Case 9: p1_4('abcdef', '123def') should return 2\"\n",
         "hidden": false,
         "locked": false
        },
        {
         "code": ">>> assert p1_4('aaaaaa', 'aaaa') == 3, f\"Failed Test Case 10: p1_4('aaaaaa', 'aaaa') should return 3\"\n",
         "hidden": false,
         "locked": false
        }
       ],
       "scored": true,
       "setup": "",
       "teardown": "",
       "type": "doctest"
      }
     ]
    },
    "p2": {
     "name": "p2",
     "points": 20,
     "suites": [
      {
       "cases": [
        {
         "code": ">>> initial = 100.0\n>>> final = 100.0\n>>> assert inflation_rate(initial, final) == 0.0, f'Expected 0.0, but got {inflation_rate(initial, final)}'\n",
         "hidden": false,
         "locked": false
        },
        {
         "code": ">>> initial = 100.0\n>>> final = 120.0\n>>> assert inflation_rate(initial, final) == 20.0, f'Expected 20.0, but got {inflation_rate(initial, final)}'\n",
         "hidden": false,
         "locked": false
        },
        {
         "code": ">>> initial = 100.0\n>>> final = 80.0\n>>> assert inflation_rate(initial, final) == -20.0, f'Expected -20.0, but got {inflation_rate(initial, final)}'\n",
         "hidden": false,
         "locked": false
        },
        {
         "code": ">>> initial = 50.0\n>>> final = 150.0\n>>> assert inflation_rate(initial, final) == 200.0, f'Expected 200.0, but got {inflation_rate(initial, final)}'\n",
         "hidden": false,
         "locked": false
        },
        {
         "code": ">>> initial = 99.99\n>>> final = 100.01\n>>> assert inflation_rate(initial, final) == 0.02, f'Expected 0.02, but got {inflation_rate(initial, final)}'\n",
         "hidden": false,
         "locked": false
        },
        {
         "code": ">>> initial = 1000.0\n>>> final = 100.0\n>>> assert inflation_rate(initial, final) == -90.0, f'Expected -90.0, but got {inflation_rate(initial, final)}'\n",
         "hidden": false,
         "locked": false
        },
        {
         "code": ">>> initial = 1000.0\n>>> final = 999.99\n>>> assert inflation_rate(initial, final) == 0.0\n",
         "hidden": false,
         "locked": false
        },
        {
         "code": ">>> my_data = [[23.5, 24.0], [24.0, 24.25], [24.25, 24.38], [24.38, 24.75]]\n>>> assert average_inflation_rate(my_data) == 1.31\n",
         "hidden": false,
         "locked": false
        },
        {
         "code": ">>> my_data = [[23.5, 24.0], [24.0, 24.25], [24.25, 24.38]]\n>>> assert average_inflation_rate(my_data) == 1.24\n",
         "hidden": false,
         "locked": false
        },
        {
         "code": ">>> my_data = [[25.0, 25.0], [24.0, 24.0], [30.0, 30.0], [27.0, 27.0], [50.0, 50.0]]\n>>> assert average_inflation_rate(my_data) == 0.0, 'Test Case 2 Failed'\n",
         "hidden": false,
         "locked": false
        },
        {
         "code": ">>> my_data = [[30.0, 28.0], [25.0, 24.0], [40.0, 35.0], [50.0, 55.0], [60.0, 70.0], [80.0, 90.0]]\n>>> assert average_inflation_rate(my_data) == 2.67, 'Test Case 3 Failed'\n",
         "hidden": false,
         "locked": false
        },
        {
         "code": ">>> my_data = [[50.0, 55.0], [55.0, 52.0], [52.0, 60.0], [60.0, 58.0], [58.0, 62.0]]\n>>> assert average_inflation_rate(my_data) == 4.7, 'Test Case 5 Failed'\n",
         "hidden": false,
         "locked": false
        },
        {
         "code": ">>> my_data = [[1000.0, 1200.0], [1200.0, 1000.0], [1000.0, 1500.0], [1500.0, 1300.0], [1300.0, 1700.0], [1700.0, 1600.0], [1600.0, 2000.0]]\n>>> assert average_inflation_rate(my_data) == 12.84, 'Test Case 6 Failed'\n",
         "hidden": false,
         "locked": false
        },
        {
         "code": ">>> my_data = [[1000.0, 1000.01], [1000.01, 1000.02], [1000.02, 1000.03], [1000.03, 1000.04], [1000.04, 1000.05]]\n>>> assert average_inflation_rate(my_data) == 0.0, 'Edge Case Failed'\n",
         "hidden": false,
         "locked": false
        }
       ],
       "scored": true,
       "setup": "",
       "teardown": "",
       "type": "doctest"
      }
     ]
    },
    "p3": {
     "name": "p3",
     "points": 10,
     "suites": [
      {
       "cases": [
        {
         "code": ">>> assert attendance_award('PPALLP') == True\n",
         "hidden": false,
         "locked": false
        },
        {
         "code": ">>> assert attendance_award('PPALLL') == False\n",
         "hidden": false,
         "locked": false
        },
        {
         "code": ">>> assert attendance_award('PPAALP') == False\n",
         "hidden": false,
         "locked": false
        },
        {
         "code": ">>> assert attendance_award('PPPPP') == True\n",
         "hidden": false,
         "locked": false
        },
        {
         "code": ">>> assert attendance_award('PPALP') == True\n",
         "hidden": false,
         "locked": false
        },
        {
         "code": ">>> assert attendance_award('PPLLL') == False\n",
         "hidden": false,
         "locked": false
        },
        {
         "code": ">>> assert attendance_award('PLLAP') == True\n",
         "hidden": false,
         "locked": false
        },
        {
         "code": ">>> assert attendance_award('LLLPP') == False\n",
         "hidden": false,
         "locked": false
        },
        {
         "code": ">>> assert attendance_award('PLPPLP') == True\n",
         "hidden": false,
         "locked": false
        },
        {
         "code": ">>> assert attendance_award('PLPLPLP') == True\n",
         "hidden": false,
         "locked": false
        },
        {
         "code": ">>> assert attendance_award('AAAAA') == False\n",
         "hidden": false,
         "locked": false
        },
        {
         "code": ">>> assert attendance_award('PPAAAPPP') == False\n",
         "hidden": false,
         "locked": false
        },
        {
         "code": ">>> assert attendance_award('PPPPPPPP') == True\n",
         "hidden": false,
         "locked": false
        },
        {
         "code": ">>> assert attendance_award('PPLP') == True\n",
         "hidden": false,
         "locked": false
        }
       ],
       "scored": true,
       "setup": "",
       "teardown": "",
       "type": "doctest"
      }
     ]
    },
    "p4": {
     "name": "p4",
     "points": 10,
     "suites": [
      {
       "cases": [
        {
         "code": ">>> assert maxkd(1234, 1) == 4\n",
         "hidden": false,
         "locked": false
        },
        {
         "code": ">>> assert maxkd(32749, 2) == 79\n",
         "hidden": false,
         "locked": false
        },
        {
         "code": ">>> assert maxkd(1917, 2) == 97\n",
         "hidden": false,
         "locked": false
        },
        {
         "code": ">>> assert maxkd(32749, 18) == 32749\n",
         "hidden": false,
         "locked": false
        },
        {
         "code": ">>> assert maxkd(12345, 3) == 345\n",
         "hidden": false,
         "locked": false
        },
        {
         "code": ">>> assert maxkd(98765, 5) == 98765\n",
         "hidden": false,
         "locked": false
        },
        {
         "code": ">>> assert maxkd(123, 5) == 123\n",
         "hidden": false,
         "locked": false
        },
        {
         "code": ">>> assert maxkd(112233, 4) == 2233\n",
         "hidden": false,
         "locked": false
        },
        {
         "code": ">>> assert maxkd(5, 1) == 5\n",
         "hidden": false,
         "locked": false
        },
        {
         "code": ">>> assert maxkd(5, 0) == 0\n",
         "hidden": false,
         "locked": false
        },
        {
         "code": ">>> assert maxkd(1111, 2) == 11\n",
         "hidden": false,
         "locked": false
        },
        {
         "code": ">>> assert maxkd(0, 3) == 0\n",
         "hidden": false,
         "locked": false
        },
        {
         "code": ">>> assert maxkd(9876543210, 5) == 98765\n",
         "hidden": false,
         "locked": false
        },
        {
         "code": ">>> assert maxkd(13579, 1) == 9\n",
         "hidden": false,
         "locked": false
        },
        {
         "code": ">>> assert maxkd(4, 10) == 4\n",
         "hidden": false,
         "locked": false
        },
        {
         "code": ">>> assert maxkd(54321, 2) == 54\n",
         "hidden": false,
         "locked": false
        },
        {
         "code": ">>> assert maxkd(32957, 3) == 957\n",
         "hidden": false,
         "locked": false
        },
        {
         "code": ">>> assert maxkd(888888888, 4) == 8888\n",
         "hidden": false,
         "locked": false
        }
       ],
       "scored": true,
       "setup": "",
       "teardown": "",
       "type": "doctest"
      }
     ]
    },
    "p5": {
     "name": "p5",
     "points": 10,
     "suites": [
      {
       "cases": [
        {
         "code": ">>> original_matrix_1 = [[1, 2, 3], [4, 5, 6], [7, 8, 9]]\n>>> expected_output_1 = [[1, 4, 7], [2, 5, 8], [3, 6, 9]]\n>>> assert transpose(original_matrix_1) == expected_output_1\n",
         "hidden": false,
         "locked": false
        },
        {
         "code": ">>> original_matrix_2 = [[1, 2], [3, 4], [5, 6]]\n>>> expected_output_2 = [[1, 3, 5], [2, 4, 6]]\n>>> assert transpose(original_matrix_2) == expected_output_2\n",
         "hidden": false,
         "locked": false
        },
        {
         "code": ">>> original_matrix_3 = [[1, 2, 3], [4, 5, 6]]\n>>> expected_output_3 = [[1, 4], [2, 5], [3, 6]]\n>>> assert transpose(original_matrix_3) == expected_output_3\n",
         "hidden": false,
         "locked": false
        },
        {
         "code": ">>> original_matrix_4 = [[42]]\n>>> expected_output_4 = [[42]]\n>>> assert transpose(original_matrix_4) == expected_output_4\n",
         "hidden": false,
         "locked": false
        },
        {
         "code": ">>> original_matrix_5 = []\n>>> expected_output_5 = []\n>>> assert transpose(original_matrix_5) == expected_output_5\n",
         "hidden": false,
         "locked": false
        },
        {
         "code": ">>> original_matrix_6 = [[1, 2, 3]]\n>>> expected_output_6 = [[1], [2], [3]]\n>>> assert transpose(original_matrix_6) == expected_output_6\n",
         "hidden": false,
         "locked": false
        },
        {
         "code": ">>> original_matrix_7 = [[1], [2], [3]]\n>>> expected_output_7 = [[1, 2, 3]]\n>>> assert transpose(original_matrix_7) == expected_output_7\n",
         "hidden": false,
         "locked": false
        }
       ],
       "scored": true,
       "setup": "",
       "teardown": "",
       "type": "doctest"
      }
     ]
    }
   }
  }
 },
 "nbformat": 4,
 "nbformat_minor": 5
}
